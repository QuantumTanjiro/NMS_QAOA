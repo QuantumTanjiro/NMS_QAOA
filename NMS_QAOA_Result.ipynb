{
  "nbformat": 4,
  "nbformat_minor": 0,
  "metadata": {
    "colab": {
      "provenance": []
    },
    "kernelspec": {
      "name": "python3",
      "display_name": "Python 3"
    },
    "language_info": {
      "name": "python"
    }
  },
  "cells": [
    {
      "cell_type": "code",
      "source": [
        "pip install pennylane"
      ],
      "metadata": {
        "colab": {
          "base_uri": "https://localhost:8080/"
        },
        "id": "7PHgcxfqQdFi",
        "outputId": "983d9781-a8e1-4c3a-a2ad-78946cd76a82"
      },
      "execution_count": 1,
      "outputs": [
        {
          "output_type": "stream",
          "name": "stdout",
          "text": [
            "Collecting pennylane\n",
            "  Downloading PennyLane-0.41.0-py3-none-any.whl.metadata (10 kB)\n",
            "Requirement already satisfied: numpy in /usr/local/lib/python3.11/dist-packages (from pennylane) (2.0.2)\n",
            "Requirement already satisfied: scipy in /usr/local/lib/python3.11/dist-packages (from pennylane) (1.15.2)\n",
            "Requirement already satisfied: networkx in /usr/local/lib/python3.11/dist-packages (from pennylane) (3.4.2)\n",
            "Collecting rustworkx>=0.14.0 (from pennylane)\n",
            "  Downloading rustworkx-0.16.0-cp39-abi3-manylinux_2_17_x86_64.manylinux2014_x86_64.whl.metadata (10 kB)\n",
            "Requirement already satisfied: autograd in /usr/local/lib/python3.11/dist-packages (from pennylane) (1.7.0)\n",
            "Collecting tomlkit (from pennylane)\n",
            "  Downloading tomlkit-0.13.2-py3-none-any.whl.metadata (2.7 kB)\n",
            "Collecting appdirs (from pennylane)\n",
            "  Downloading appdirs-1.4.4-py2.py3-none-any.whl.metadata (9.0 kB)\n",
            "Collecting autoray>=0.6.11 (from pennylane)\n",
            "  Downloading autoray-0.7.1-py3-none-any.whl.metadata (5.8 kB)\n",
            "Requirement already satisfied: cachetools in /usr/local/lib/python3.11/dist-packages (from pennylane) (5.5.2)\n",
            "Collecting pennylane-lightning>=0.41 (from pennylane)\n",
            "  Downloading pennylane_lightning-0.41.0-cp311-cp311-manylinux_2_28_x86_64.whl.metadata (28 kB)\n",
            "Requirement already satisfied: requests in /usr/local/lib/python3.11/dist-packages (from pennylane) (2.32.3)\n",
            "Requirement already satisfied: typing-extensions in /usr/local/lib/python3.11/dist-packages (from pennylane) (4.13.2)\n",
            "Requirement already satisfied: packaging in /usr/local/lib/python3.11/dist-packages (from pennylane) (24.2)\n",
            "Collecting diastatic-malt (from pennylane)\n",
            "  Downloading diastatic_malt-2.15.2-py3-none-any.whl.metadata (2.6 kB)\n",
            "Collecting scipy-openblas32>=0.3.26 (from pennylane-lightning>=0.41->pennylane)\n",
            "  Downloading scipy_openblas32-0.3.29.0.0-py3-none-manylinux_2_17_x86_64.manylinux2014_x86_64.whl.metadata (56 kB)\n",
            "\u001b[2K     \u001b[90m━━━━━━━━━━━━━━━━━━━━━━━━━━━━━━━━━━━━━━━━\u001b[0m \u001b[32m56.1/56.1 kB\u001b[0m \u001b[31m4.2 MB/s\u001b[0m eta \u001b[36m0:00:00\u001b[0m\n",
            "\u001b[?25hRequirement already satisfied: astunparse in /usr/local/lib/python3.11/dist-packages (from diastatic-malt->pennylane) (1.6.3)\n",
            "Requirement already satisfied: gast in /usr/local/lib/python3.11/dist-packages (from diastatic-malt->pennylane) (0.6.0)\n",
            "Requirement already satisfied: termcolor in /usr/local/lib/python3.11/dist-packages (from diastatic-malt->pennylane) (3.0.1)\n",
            "Requirement already satisfied: charset-normalizer<4,>=2 in /usr/local/lib/python3.11/dist-packages (from requests->pennylane) (3.4.1)\n",
            "Requirement already satisfied: idna<4,>=2.5 in /usr/local/lib/python3.11/dist-packages (from requests->pennylane) (3.10)\n",
            "Requirement already satisfied: urllib3<3,>=1.21.1 in /usr/local/lib/python3.11/dist-packages (from requests->pennylane) (2.4.0)\n",
            "Requirement already satisfied: certifi>=2017.4.17 in /usr/local/lib/python3.11/dist-packages (from requests->pennylane) (2025.1.31)\n",
            "Requirement already satisfied: wheel<1.0,>=0.23.0 in /usr/local/lib/python3.11/dist-packages (from astunparse->diastatic-malt->pennylane) (0.45.1)\n",
            "Requirement already satisfied: six<2.0,>=1.6.1 in /usr/local/lib/python3.11/dist-packages (from astunparse->diastatic-malt->pennylane) (1.17.0)\n",
            "Downloading PennyLane-0.41.0-py3-none-any.whl (2.3 MB)\n",
            "\u001b[2K   \u001b[90m━━━━━━━━━━━━━━━━━━━━━━━━━━━━━━━━━━━━━━━━\u001b[0m \u001b[32m2.3/2.3 MB\u001b[0m \u001b[31m29.0 MB/s\u001b[0m eta \u001b[36m0:00:00\u001b[0m\n",
            "\u001b[?25hDownloading autoray-0.7.1-py3-none-any.whl (930 kB)\n",
            "\u001b[2K   \u001b[90m━━━━━━━━━━━━━━━━━━━━━━━━━━━━━━━━━━━━━━━━\u001b[0m \u001b[32m930.8/930.8 kB\u001b[0m \u001b[31m42.7 MB/s\u001b[0m eta \u001b[36m0:00:00\u001b[0m\n",
            "\u001b[?25hDownloading pennylane_lightning-0.41.0-cp311-cp311-manylinux_2_28_x86_64.whl (2.5 MB)\n",
            "\u001b[2K   \u001b[90m━━━━━━━━━━━━━━━━━━━━━━━━━━━━━━━━━━━━━━━━\u001b[0m \u001b[32m2.5/2.5 MB\u001b[0m \u001b[31m36.3 MB/s\u001b[0m eta \u001b[36m0:00:00\u001b[0m\n",
            "\u001b[?25hDownloading rustworkx-0.16.0-cp39-abi3-manylinux_2_17_x86_64.manylinux2014_x86_64.whl (2.1 MB)\n",
            "\u001b[2K   \u001b[90m━━━━━━━━━━━━━━━━━━━━━━━━━━━━━━━━━━━━━━━━\u001b[0m \u001b[32m2.1/2.1 MB\u001b[0m \u001b[31m36.5 MB/s\u001b[0m eta \u001b[36m0:00:00\u001b[0m\n",
            "\u001b[?25hDownloading appdirs-1.4.4-py2.py3-none-any.whl (9.6 kB)\n",
            "Downloading diastatic_malt-2.15.2-py3-none-any.whl (167 kB)\n",
            "\u001b[2K   \u001b[90m━━━━━━━━━━━━━━━━━━━━━━━━━━━━━━━━━━━━━━━━\u001b[0m \u001b[32m167.9/167.9 kB\u001b[0m \u001b[31m10.1 MB/s\u001b[0m eta \u001b[36m0:00:00\u001b[0m\n",
            "\u001b[?25hDownloading tomlkit-0.13.2-py3-none-any.whl (37 kB)\n",
            "Downloading scipy_openblas32-0.3.29.0.0-py3-none-manylinux_2_17_x86_64.manylinux2014_x86_64.whl (8.6 MB)\n",
            "\u001b[2K   \u001b[90m━━━━━━━━━━━━━━━━━━━━━━━━━━━━━━━━━━━━━━━━\u001b[0m \u001b[32m8.6/8.6 MB\u001b[0m \u001b[31m49.3 MB/s\u001b[0m eta \u001b[36m0:00:00\u001b[0m\n",
            "\u001b[?25hInstalling collected packages: appdirs, tomlkit, scipy-openblas32, rustworkx, autoray, diastatic-malt, pennylane-lightning, pennylane\n",
            "Successfully installed appdirs-1.4.4 autoray-0.7.1 diastatic-malt-2.15.2 pennylane-0.41.0 pennylane-lightning-0.41.0 rustworkx-0.16.0 scipy-openblas32-0.3.29.0.0 tomlkit-0.13.2\n"
          ]
        }
      ]
    },
    {
      "cell_type": "code",
      "execution_count": 2,
      "metadata": {
        "id": "LbwkwQkdKEAp"
      },
      "outputs": [],
      "source": [
        "from PIL import Image\n",
        "import numpy as np\n",
        "import random\n",
        "import cv2\n",
        "import matplotlib.pyplot as plt\n",
        "from pprint import pprint\n",
        "\n",
        "def compute_iou(box1, box2):\n",
        "    \"\"\"Compute Intersection over Union (IoU) between two bounding boxes.\"\"\"\n",
        "    x1, y1, x2, y2 = box1\n",
        "    x1_p, y1_p, x2_p, y2_p = box2\n",
        "\n",
        "    inter_x1 = max(x1, x1_p)\n",
        "    inter_y1 = max(y1, y1_p)\n",
        "    inter_x2 = min(x2, x2_p)\n",
        "    inter_y2 = min(y2, y2_p)\n",
        "\n",
        "    inter_area = max(0, inter_x2 - inter_x1) * max(0, inter_y2 - inter_y1)\n",
        "    box1_area = (x2 - x1) * (y2 - y1)\n",
        "    box2_area = (x2_p - x1_p) * (y2_p - y1_p)\n",
        "    union_area = box1_area + box2_area - inter_area\n",
        "\n",
        "    return inter_area / union_area if union_area > 0 else 0\n",
        "\n",
        "def compute_bounding_boxes(num_bouning_boxes,size:[]):\n",
        "\n",
        "    bounding_boxes = []\n",
        "    conf_score = []\n",
        "    for i in range(num_bouning_boxes):\n",
        "        num1 = random.randint(0, 350)\n",
        "        num2 = random.randint(0, 350)\n",
        "\n",
        "        bounding_boxes.append([num1, num2, num1+size[0], num2+size[1]])\n",
        "        num = round(random.uniform(0.5,1),2)\n",
        "        conf_score.append(num)\n",
        "\n",
        "\n",
        "    return bounding_boxes,conf_score\n",
        "\n",
        "\n",
        "def drawing_bounding_boxes(boxes,score):\n",
        "    white_img = Image.new(\"RGB\", (500, 500), \"black\")\n",
        "    white_img = np.array(white_img)\n",
        "    count = 0\n",
        "    for i in boxes:\n",
        "        x_min, y_min, x_max, y_max = i\n",
        "        cv2.rectangle(white_img, (x_min, y_min), (x_max, y_max), (0, 0, 255), 2)\n",
        "        cv2.putText(white_img, str(score[count])+ str(count), (x_min, y_min - 10), cv2.FONT_HERSHEY_SIMPLEX, 0.5, (0, 255, 0), 2)\n",
        "        count = count+1\n",
        "\n",
        "    plt.figure(figsize=(12, 8))\n",
        "    plt.imshow(white_img)\n",
        "    plt.axis(\"off\")  # Hide axes\n",
        "    plt.show()"
      ]
    },
    {
      "cell_type": "code",
      "source": [
        "def compute_IOU_matrix_2(bounding_boxes, score, alpha, lambda_overlap, mu_sparsity):\n",
        "    num_boxes = len(bounding_boxes)\n",
        "    iou_matrix = np.zeros((num_boxes, num_boxes))\n",
        "\n",
        "    for i in range(num_boxes):\n",
        "        for j in range(num_boxes):\n",
        "            if i != j :\n",
        "#                 if round(compute_iou(bounding_boxes[i], bounding_boxes[j]),2)<0.5:\n",
        "                iou_matrix[i, j] = round(compute_iou(bounding_boxes[i], bounding_boxes[j]),2)\n",
        "            if i ==j:\n",
        "                iou_matrix[i, j] = alpha * score[i]\n",
        "            else:\n",
        "                iou_matrix[i,j] = -lambda_overlap * compute_iou(bounding_boxes[i], bounding_boxes[j]) - mu_sparsity\n",
        "\n",
        "    return (iou_matrix)\n",
        "\n",
        "def compute_IOU_matrix_for_min(bounding_boxes, score, alpha, lambda_overlap, mu_sparsity):\n",
        "    num_boxes = len(bounding_boxes)\n",
        "    iou_matrix = np.zeros((num_boxes, num_boxes))\n",
        "\n",
        "    for i in range(num_boxes):\n",
        "        for j in range(num_boxes):\n",
        "            if i != j :\n",
        "#                 if round(compute_iou(bounding_boxes[i], bounding_boxes[j]),2)<0.5:\n",
        "                iou_matrix[i, j] = -round(compute_iou(bounding_boxes[i], bounding_boxes[j]),2)\n",
        "            if i ==j:\n",
        "                iou_matrix[i, j] = -alpha * score[i]\n",
        "            else:\n",
        "                iou_matrix[i,j] = (lambda_overlap * compute_iou(bounding_boxes[i], bounding_boxes[j]) + mu_sparsity)\n",
        "\n",
        "    return (iou_matrix)\n",
        "\n",
        "def compute_IOU_matrix_3(bounding_boxes, score, alpha, lambda_overlap, mu_sparsity):\n",
        "    num_boxes = len(bounding_boxes)\n",
        "    iou_matrix = np.zeros((num_boxes, num_boxes))\n",
        "\n",
        "    for i in range(num_boxes):\n",
        "        for j in range(num_boxes):\n",
        "            if i != j :\n",
        "                if round(compute_iou(bounding_boxes[i], bounding_boxes[j]),2)<0.5:\n",
        "                    iou_matrix[i, j] = round(compute_iou(bounding_boxes[i], bounding_boxes[j]),2)\n",
        "            if i ==j:\n",
        "                iou_matrix[i, j] = alpha * score[i]\n",
        "            else:\n",
        "                iou_matrix[i,j] = -lambda_overlap * compute_iou(bounding_boxes[i], bounding_boxes[j]) - mu_sparsity*(1-score[j])\n",
        "\n",
        "    return (iou_matrix)\n",
        "\n",
        "def compute_IOU_matrix_4(bounding_boxes, score, beta, scaling_factor, gaama):\n",
        "\n",
        "    gaama = 19\n",
        "    num_boxes = len(bounding_boxes)\n",
        "    iou_matrix = np.zeros((num_boxes, num_boxes))\n",
        "\n",
        "    mean_iou = []\n",
        "\n",
        "    #Computation of alpha\n",
        "    mean_confidence = np.mean(bounding_boxes)\n",
        "    std_daviation = np.std(bounding_boxes)\n",
        "\n",
        "    for i in range(num_boxes):\n",
        "        for j in range(num_boxes):\n",
        "            if i != j:\n",
        "                mean_iou.append(compute_iou(bounding_boxes[i], bounding_boxes[j]))\n",
        "\n",
        "    mean_iou_ = np.mean(mean_iou)\n",
        "\n",
        "\n",
        "\n",
        "    alpha = mean_confidence + (beta * std_daviation)\n",
        "    lambda_overlap = scaling_factor*mean_iou_\n",
        "    mu_sparsity = gaama * (1/num_boxes)\n",
        "\n",
        "    for i in range(num_boxes):\n",
        "        for j in range(num_boxes):\n",
        "            if i ==j:\n",
        "                iou_matrix[i, j] = alpha * score[i]\n",
        "            else:\n",
        "                iou_matrix[i,j] = -lambda_overlap * compute_iou(bounding_boxes[i], bounding_boxes[j]) - mu_sparsity*(1-score[j])\n",
        "\n",
        "    return iou_matrix"
      ],
      "metadata": {
        "id": "E8CnxmhWOB_X"
      },
      "execution_count": null,
      "outputs": []
    },
    {
      "cell_type": "code",
      "source": [
        "bounding_boxes, confidence_score = compute_bounding_boxes(3, [150,150])\n",
        "drawing_bounding_boxes(bounding_boxes,confidence_score)"
      ],
      "metadata": {
        "colab": {
          "base_uri": "https://localhost:8080/",
          "height": 653
        },
        "id": "63VJ4Bm3OFs9",
        "outputId": "29b07864-ed17-4a50-ecdd-3dcd41a48e3c"
      },
      "execution_count": null,
      "outputs": [
        {
          "output_type": "display_data",
          "data": {
            "text/plain": [
              "<Figure size 1200x800 with 1 Axes>"
            ],
            "image/png": "[encoded data removed]"
          },
          "metadata": {}
        }
      ]
    },
    {
      "cell_type": "code",
      "source": [
        "iou_matrix = compute_IOU_matrix_4(bounding_boxes, confidence_score,5,3,1)\n",
        "iou_matrix = iou_matrix / np.max(np.abs(iou_matrix))\n",
        "pprint(iou_matrix)"
      ],
      "metadata": {
        "colab": {
          "base_uri": "https://localhost:8080/"
        },
        "id": "L1xe_1I_OFvM",
        "outputId": "66edd0cf-e6a1-4801-bec4-e3e6864364f4"
      },
      "execution_count": null,
      "outputs": [
        {
          "output_type": "stream",
          "name": "stdout",
          "text": [
            "array([[ 0.90769231, -0.00531971, -0.00419655],\n",
            "       [-0.00484685,  0.84615385, -0.00414654],\n",
            "       [-0.00490584, -0.00532869,  1.        ]])\n"
          ]
        }
      ]
    },
    {
      "cell_type": "code",
      "source": [
        "iou_matrix = compute_IOU_matrix_for_min(bounding_boxes, confidence_score,5,3,1)\n",
        "iou_matrix = np.array(iou_matrix)\n",
        "\n",
        "# iou_matrix = iou_matrix / np.max(np.abs(iou_matrix))  # Divide by max absolute value (5)\n",
        "pprint(iou_matrix)"
      ],
      "metadata": {
        "colab": {
          "base_uri": "https://localhost:8080/"
        },
        "id": "aOLihrBCOFx2",
        "outputId": "32bed683-0ab4-4c5c-8c18-27dceda780c6"
      },
      "execution_count": null,
      "outputs": [
        {
          "output_type": "stream",
          "name": "stdout",
          "text": [
            "array([[-2.95      ,  1.        ,  1.49686577],\n",
            "       [ 1.        , -2.75      ,  1.07566127],\n",
            "       [ 1.49686577,  1.07566127, -3.25      ]])\n"
          ]
        }
      ]
    },
    {
      "cell_type": "code",
      "source": [
        "indices = cv2.dnn.NMSBoxes(bounding_boxes, confidence_score, score_threshold=0.5, nms_threshold=0.4)\n",
        "selected_boxes = [bounding_boxes[i] for i in indices.flatten()]\n",
        "print(selected_boxes)\n",
        "hel = len(selected_boxes)\n",
        "# print(goo_boxes)\n",
        "drawing_bounding_boxes(selected_boxes, selected_boxes[:hel])"
      ],
      "metadata": {
        "colab": {
          "base_uri": "https://localhost:8080/",
          "height": 671
        },
        "id": "XR13aQ-nOF0e",
        "outputId": "c32da339-e446-42f7-e617-0e8a32c07b07"
      },
      "execution_count": null,
      "outputs": [
        {
          "output_type": "stream",
          "name": "stdout",
          "text": [
            "[[162, 225, 312, 375], [173, 121, 323, 271], [271, 348, 421, 498]]\n"
          ]
        },
        {
          "output_type": "display_data",
          "data": {
            "text/plain": [
              "<Figure size 1200x800 with 1 Axes>"
            ],
            "image/png": "[encoded data removed]"
          },
          "metadata": {}
        }
      ]
    },
    {
      "cell_type": "code",
      "source": [
        "# iou_matrix = compute_IOU_matrix(goo_boxes,good_score)\n",
        "print(iou_matrix)\n",
        "QUBO_solution = {}\n",
        "\n",
        "x = []\n",
        "score = []\n",
        "\n",
        "for i in (0,1):\n",
        "    for j in (0,1):\n",
        "        for k in (0,1):\n",
        "            # for l in (0,1):\n",
        "            #     for m in (0,1):\n",
        "#                     for n in (0,1):\n",
        "#                         res_matrix = [i,j,k,l,m]\n",
        "                        res_matrix = [i,j,k]\n",
        "                        res_matrix = np.array(res_matrix)\n",
        "                        result = np.dot(iou_matrix,res_matrix)\n",
        "                        result = np.dot(res_matrix.T, result)\n",
        "                        x.append(res_matrix)\n",
        "                        score.append(result)\n",
        "\n",
        "for arr, score in zip(x, score):\n",
        "    QUBO_solution.setdefault(\"results\", []).append({\"array\": arr, \"score\": score})\n",
        "\n",
        "pprint(QUBO_solution)\n",
        "\n",
        "QUBO_solution['results'] = sorted(QUBO_solution['results'], key=lambda x:x[\"score\"])\n",
        "pprint(QUBO_solution)"
      ],
      "metadata": {
        "colab": {
          "base_uri": "https://localhost:8080/"
        },
        "id": "JDrm8YSmOF3O",
        "outputId": "ff9438de-d4b2-4281-ae2e-66438789f655"
      },
      "execution_count": null,
      "outputs": [
        {
          "output_type": "stream",
          "name": "stdout",
          "text": [
            "[[-2.95        1.          1.49686577]\n",
            " [ 1.         -2.75        1.07566127]\n",
            " [ 1.49686577  1.07566127 -3.25      ]]\n",
            "{'results': [{'array': array([0, 0, 0]), 'score': np.float64(0.0)},\n",
            "             {'array': array([0, 0, 1]), 'score': np.float64(-3.25)},\n",
            "             {'array': array([0, 1, 0]), 'score': np.float64(-2.75)},\n",
            "             {'array': array([0, 1, 1]),\n",
            "              'score': np.float64(-3.8486774656551157)},\n",
            "             {'array': array([1, 0, 0]),\n",
            "              'score': np.float64(-2.9499999999999997)},\n",
            "             {'array': array([1, 0, 1]),\n",
            "              'score': np.float64(-3.206268455680464)},\n",
            "             {'array': array([1, 1, 0]),\n",
            "              'score': np.float64(-3.6999999999999997)},\n",
            "             {'array': array([1, 1, 1]),\n",
            "              'score': np.float64(-1.8049459213355799)}]}\n",
            "{'results': [{'array': array([0, 1, 1]),\n",
            "              'score': np.float64(-3.8486774656551157)},\n",
            "             {'array': array([1, 1, 0]),\n",
            "              'score': np.float64(-3.6999999999999997)},\n",
            "             {'array': array([0, 0, 1]), 'score': np.float64(-3.25)},\n",
            "             {'array': array([1, 0, 1]),\n",
            "              'score': np.float64(-3.206268455680464)},\n",
            "             {'array': array([1, 0, 0]),\n",
            "              'score': np.float64(-2.9499999999999997)},\n",
            "             {'array': array([0, 1, 0]), 'score': np.float64(-2.75)},\n",
            "             {'array': array([1, 1, 1]),\n",
            "              'score': np.float64(-1.8049459213355799)},\n",
            "             {'array': array([0, 0, 0]), 'score': np.float64(0.0)}]}\n"
          ]
        }
      ]
    },
    {
      "cell_type": "code",
      "source": [
        "import matplotlib.pyplot as plt\n",
        "from collections import defaultdict\n",
        "from operator import itemgetter\n",
        "from scipy.optimize import minimize\n",
        "import pennylane as qml\n",
        "import numpy as np"
      ],
      "metadata": {
        "id": "Ak9VDhM9OuLD"
      },
      "execution_count": null,
      "outputs": []
    },
    {
      "cell_type": "markdown",
      "source": [
        "NON MAXIMA SUPRESSION PROBLEM\n",
        "\n",
        "$C = X^TQX$\n",
        "\n",
        "Now to convert this problem into ising model we will take\n",
        "\n",
        "$x_i = \\frac{1-Z_i}{2}$\n",
        "\n",
        "$C = \\sum_{i}\\frac{Q_i}{2} + \\sum_{ij}\\frac{Q_{ij}}{4} - \\left( \\sum_{i}\\frac{Q_i}{2} + \\sum_{ij}\\frac{Q_{ij}}{4} \\right) Z_i - \\sum_{ij}\\frac{Q_{ij}}{4}Z_j + \\sum_{ij}\\frac{Q_{ij}}{4}Z_iZ_j$"
      ],
      "metadata": {
        "id": "RmOPaZ6BaVUK"
      }
    },
    {
      "cell_type": "code",
      "source": [
        "I = [[1,0],[0,1]]\n",
        "Z = [[1,0],[0,-1]]\n",
        "\n",
        "# first_term = 0\n",
        "# for i in range(len(iou_matrix)):\n",
        "#     first_term = first_term + iou_matrix[i][i]/2\n",
        "\n",
        "# second_term = 0\n",
        "# for i in range(len(iou_matrix)):\n",
        "#   for j in range(len(iou_matrix)):\n",
        "#     if i!=j:\n",
        "#       second_term = second_term + iou_matrix[i][j]/4\n",
        "\n",
        "# const_matrix = (first_term+second_term)*(np.kron(I,np.kron(I,I)))\n",
        "\n",
        "third_term = 0\n",
        "for i in range(len(iou_matrix)):\n",
        "    if i == 0:\n",
        "      matrix = np.kron(Z,np.kron(I,I))\n",
        "      third_term = third_term + (matrix*(iou_matrix[i][i]/2))\n",
        "    if i == 1:\n",
        "      matrix = np.kron(I,np.kron(Z,I))\n",
        "      third_term = third_term + (matrix*(iou_matrix[i][i]/2))\n",
        "    if i == 2:\n",
        "      matrix = np.kron(I,np.kron(I,Z))\n",
        "      third_term = third_term + (matrix*(iou_matrix[i][i]/2))\n",
        "\n",
        "fourth_term = 0\n",
        "for i in range(len(iou_matrix)):\n",
        "  for j in range(len(iou_matrix)):\n",
        "    if i!=j:\n",
        "      if i == 0 and j == 1:\n",
        "        matrix = np.kron(Z,np.kron(I,I))\n",
        "        fourth_term = fourth_term + (matrix*(iou_matrix[i][j]/4))\n",
        "      if i == 0 and j == 2:\n",
        "        matrix = np.kron(Z,np.kron(I,I))\n",
        "        fourth_term = fourth_term + (matrix*(iou_matrix[i][j]/4))\n",
        "      if i == 1 and j == 2:\n",
        "        matrix = np.kron(I,np.kron(Z,I))\n",
        "        fourth_term = fourth_term + (matrix*(iou_matrix[i][j]/4))\n",
        "      if i == 1 and j == 0:\n",
        "        matrix = np.kron(I,np.kron(Z,I))\n",
        "        fourth_term = fourth_term + (matrix*(iou_matrix[i][j]/4))\n",
        "      if i == 2 and j == 0:\n",
        "        matrix = np.kron(I,np.kron(I,Z))\n",
        "        fourth_term = fourth_term + (matrix*(iou_matrix[i][j]/4))\n",
        "      if i == 2 and j == 1:\n",
        "        matrix = np.kron(I,np.kron(I,Z))\n",
        "        fourth_term = fourth_term + (matrix*(iou_matrix[i][j]/4))\n",
        "\n",
        "fifth_term = 0\n",
        "for i in range(len(iou_matrix)):\n",
        "  for j in range(len(iou_matrix)):\n",
        "    if i!=j:\n",
        "      if i == 0 and j == 1:\n",
        "        matrix = np.kron(I,np.kron(Z,I))\n",
        "        fifth_term = fifth_term + (matrix*(iou_matrix[i][j]/4))\n",
        "      if i == 0 and j == 2:\n",
        "        matrix = np.kron(I,np.kron(I,Z))\n",
        "        fifth_term = fifth_term + (matrix*(iou_matrix[i][j]/4))\n",
        "      if i == 1 and j == 2:\n",
        "        matrix = np.kron(I,np.kron(I,Z))\n",
        "        fifth_term = fifth_term + (matrix*(iou_matrix[i][j]/4))\n",
        "      if i == 1 and j == 0:\n",
        "        matrix = np.kron(Z,np.kron(I,I))\n",
        "        fifth_term = fifth_term + (matrix*(iou_matrix[i][j]/4))\n",
        "      if i == 2 and j == 0:\n",
        "        matrix = np.kron(Z,np.kron(I,I))\n",
        "        fifth_term = fifth_term + (matrix*(iou_matrix[i][j]/4))\n",
        "      if i == 2 and j == 1:\n",
        "        matrix = np.kron(I,np.kron(Z,I))\n",
        "        fifth_term = fifth_term + (matrix*(iou_matrix[i][j]/4))\n",
        "\n",
        "sixth_term = 0\n",
        "for i in range(len(iou_matrix)):\n",
        "  for j in range(len(iou_matrix)):\n",
        "    if i!=j:\n",
        "      if i == 0 and j == 1:\n",
        "        matrix = np.kron(Z,np.kron(Z,I))\n",
        "        sixth_term = sixth_term + (matrix*(iou_matrix[i][j]/4))\n",
        "      if i == 0 and j == 2:\n",
        "        matrix = np.kron(Z,np.kron(I,Z))\n",
        "        sixth_term = sixth_term + (matrix*(iou_matrix[i][j]/4))\n",
        "      if i == 1 and j == 2:\n",
        "        matrix = np.kron(I,np.kron(Z,Z))\n",
        "        sixth_term = sixth_term + (matrix*(iou_matrix[i][j]/4))\n",
        "      if i == 1 and j == 0:\n",
        "        matrix = np.kron(Z,np.kron(Z,I))\n",
        "        sixth_term = sixth_term + (matrix*(iou_matrix[i][j]/4))\n",
        "      if i == 2 and j == 0:\n",
        "        matrix = np.kron(Z,np.kron(I,Z))\n",
        "        sixth_term = sixth_term + (matrix*(iou_matrix[i][j]/4))\n",
        "      if i == 2 and j == 1:\n",
        "        matrix = np.kron(I,np.kron(Z,Z))\n",
        "        sixth_term = sixth_term + (matrix*(iou_matrix[i][j]/4))\n",
        "\n",
        "result_matix = -third_term-fourth_term-fifth_term+sixth_term\n",
        "print(result_matix)"
      ],
      "metadata": {
        "id": "tyBn7jDoOuN5",
        "colab": {
          "base_uri": "https://localhost:8080/"
        },
        "outputId": "f655cd10-5b74-441d-b5d7-b098ef3349a0"
      },
      "execution_count": null,
      "outputs": [
        {
          "output_type": "stream",
          "name": "stdout",
          "text": [
            "[[ 2.68873648  0.          0.          0.          0.          0.\n",
            "   0.          0.        ]\n",
            " [ 0.         -0.56126352  0.          0.          0.          0.\n",
            "   0.          0.        ]\n",
            " [ 0.          0.         -0.06126352  0.          0.          0.\n",
            "   0.          0.        ]\n",
            " [ 0.          0.          0.         -1.15994099  0.          0.\n",
            "   0.          0.        ]\n",
            " [ 0.          0.          0.          0.         -0.26126352  0.\n",
            "   0.          0.        ]\n",
            " [ 0.          0.          0.          0.          0.         -0.51753198\n",
            "   0.          0.        ]\n",
            " [ 0.          0.          0.          0.          0.          0.\n",
            "  -1.01126352  0.        ]\n",
            " [ 0.          0.          0.          0.          0.          0.\n",
            "   0.          0.88379056]]\n"
          ]
        }
      ]
    },
    {
      "cell_type": "markdown",
      "source": [
        "Now we compute this using quanthum circuit.\n",
        "\n",
        "Quantum circuit mainly contains 3 gates. Z gate on a single qubit then ZZ gate which will be CNOT-Z-CNOT gate and X gate to all the qubits. Let us see how we can compute it."
      ],
      "metadata": {
        "id": "AYEKbh_-iSmg"
      }
    },
    {
      "cell_type": "code",
      "source": [
        "def construct_Z_term(q1,Q_matrix_entry,beta):\n",
        "  qml.RZ(Q_matrix_entry*beta,wires=q1)\n",
        "\n",
        "def construct_ZZ(q1,q2,Q_matrix_entry,gamma):\n",
        "  qml.CNOT(wires=[q1,q2])\n",
        "  qml.RZ(2*Q_matrix_entry*gamma,wires=q2)\n",
        "  qml.CNOT(wires=[q1,q2])\n",
        "\n",
        "def construct_mixer_x_gate(q1,beta):\n",
        "  qml.RX(2*beta, wires=q1)"
      ],
      "metadata": {
        "id": "sKuXoLx8OuQh"
      },
      "execution_count": null,
      "outputs": []
    },
    {
      "cell_type": "markdown",
      "source": [
        "We want to construct\n",
        "\n",
        "$C = \\sum_{i}\\frac{Q_i}{2} + \\sum_{ij}\\frac{Q_{ij}}{4} - \\left( \\sum_{i}\\frac{Q_i}{2} + \\sum_{ij}\\frac{Q_{ij}}{4} \\right) Z_i - \\sum_{ij}\\frac{Q_{ij}}{4}Z_j + \\sum_{ij}\\frac{Q_{ij}}{4}Z_iZ_j$\n",
        "\n",
        "But problem is we don't know in which order we have to apply this gates. So as usual we will first go with the order which is given."
      ],
      "metadata": {
        "id": "VXm_8EsdyDUG"
      }
    },
    {
      "cell_type": "code",
      "source": [
        "def compute_cost_hamiltonian(Q_matrix, beta, gamma):\n",
        "  dev = qml.device('default.qubit', wires = len(Q_matrix))\n",
        "  @qml.qnode(dev)\n",
        "  def cost_hamiltonian_circuit():\n",
        "    for i in range(len(Q_matrix)):\n",
        "      construct_Z_term(i, -Q_matrix[i][i]/2, gamma)\n",
        "    for i in range(len(Q_matrix)):\n",
        "      for j in range(len(Q_matrix)):\n",
        "        if i!=j:\n",
        "          construct_Z_term(i, -Q_matrix[i][j]/4, gamma)\n",
        "\n",
        "    for i in range(len(Q_matrix)):\n",
        "      for j in range(len(Q_matrix)):\n",
        "        if i!=j:\n",
        "          construct_Z_term(j, -Q_matrix[i][j]/4, gamma)\n",
        "\n",
        "    for i in range(len(Q_matrix)):\n",
        "      for j in range(len(Q_matrix)):\n",
        "        if i!=j:\n",
        "          construct_ZZ(i,j,Q_matrix[i][j]/4, gamma)\n",
        "\n",
        "    for i in range(len(Q_matrix)):\n",
        "      construct_mixer_x_gate(i, beta)\n",
        "\n",
        "    return qml.state()\n",
        "  return cost_hamiltonian_circuit\n",
        "\n",
        "qc = compute_cost_hamiltonian(iou_matrix, np.pi / 3, np.pi / 3)\n",
        "print(qml.draw(qc)())"
      ],
      "metadata": {
        "id": "Vz2MLmV-OuTL",
        "colab": {
          "base_uri": "https://localhost:8080/"
        },
        "outputId": "046ec1a7-6184-48ba-f40f-a292555dce0f"
      },
      "execution_count": null,
      "outputs": [
        {
          "output_type": "stream",
          "name": "stdout",
          "text": [
            "0: ──RZ(1.54)──RZ(-0.26)──RZ(-0.39)──RZ(-0.26)──RZ(-0.39)─╭●───────────╭●─╭●───────────╭●─╭X ···\n",
            "1: ──RZ(1.44)──RZ(-0.26)──RZ(-0.28)──RZ(-0.26)──RZ(-0.28)─╰X──RZ(0.52)─╰X─│────────────│──╰● ···\n",
            "2: ──RZ(1.70)──RZ(-0.39)──RZ(-0.28)──RZ(-0.39)──RZ(-0.28)─────────────────╰X──RZ(0.78)─╰X─── ···\n",
            "\n",
            "0: ··· ──RZ(0.52)─╭X─────────────────╭X──RZ(0.78)─╭X──RX(2.09)────────────────────────┤  State\n",
            "1: ··· ───────────╰●─╭●───────────╭●─│────────────│──╭X─────────RZ(0.56)─╭X──RX(2.09)─┤  State\n",
            "2: ··· ──────────────╰X──RZ(0.56)─╰X─╰●───────────╰●─╰●──────────────────╰●──RX(2.09)─┤  State\n"
          ]
        }
      ]
    },
    {
      "cell_type": "markdown",
      "source": [
        "The circuit shown above is one layer of cost hamiltonian followed by mixer hamiltonina. We want to compute it for P layers as per QAOA circuit."
      ],
      "metadata": {
        "id": "1qB8LjKg3h6e"
      }
    },
    {
      "cell_type": "code",
      "source": [
        "from collections import Counter\n",
        "\n",
        "def compute_QAOA_circuit(Q_matrix, beta, gamma):\n",
        "  assert(len(beta) == len(gamma))\n",
        "  p = len(beta)\n",
        "  dev = qml.device('default.qubit', wires = len(Q_matrix), shots=1000)\n",
        "  @qml.qnode(dev)\n",
        "  def QAOA_circuit():\n",
        "    for i in range(len(Q_matrix)):\n",
        "      qml.Hadamard(wires=i)\n",
        "    for k in range(p):\n",
        "      for i in range(len(Q_matrix)):\n",
        "          construct_Z_term(i, -Q_matrix[i][i]/2, gamma[k])\n",
        "      for i in range(len(Q_matrix)):\n",
        "        for j in range(len(Q_matrix)):\n",
        "          if i!=j:\n",
        "            construct_Z_term(i, -Q_matrix[i][j]/4, gamma[k])\n",
        "\n",
        "      for i in range(len(Q_matrix)):\n",
        "        for j in range(len(Q_matrix)):\n",
        "          if i!=j:\n",
        "            construct_Z_term(j, -Q_matrix[i][j]/4, gamma[k])\n",
        "\n",
        "      for i in range(len(Q_matrix)):\n",
        "        for j in range(len(Q_matrix)):\n",
        "          if i!=j:\n",
        "            construct_ZZ(i,j,Q_matrix[i][j]/4, gamma[k])\n",
        "\n",
        "      for i in range(len(Q_matrix)):\n",
        "        construct_mixer_x_gate(i, beta[k])\n",
        "    return qml.counts()\n",
        "  return QAOA_circuit()\n",
        "\n",
        "qc = compute_QAOA_circuit(iou_matrix, [np.pi / 3], [np.pi / 3])\n",
        "for key, value in qc.items():\n",
        "    print(f\"{key}: {value}\")"
      ],
      "metadata": {
        "id": "hpALa6SxOuVn",
        "colab": {
          "base_uri": "https://localhost:8080/"
        },
        "outputId": "964deb82-1985-4287-9cf1-2687a582bf6c"
      },
      "execution_count": null,
      "outputs": [
        {
          "output_type": "stream",
          "name": "stdout",
          "text": [
            "000: 207\n",
            "001: 160\n",
            "010: 85\n",
            "011: 37\n",
            "100: 148\n",
            "101: 2\n",
            "110: 70\n",
            "111: 291\n"
          ]
        }
      ]
    },
    {
      "cell_type": "code",
      "source": [
        "def NMS_objective(x,iou_matrix):\n",
        "  detections = np.array([int(char) for char in x])\n",
        "  result = np.dot(iou_matrix,detections)\n",
        "  result = np.dot(detections.T, result)\n",
        "  return result\n",
        "\n",
        "NMS_objective('101',iou_matrix)"
      ],
      "metadata": {
        "id": "HF10vBImOuYb",
        "colab": {
          "base_uri": "https://localhost:8080/"
        },
        "outputId": "952bd984-45a8-4dcb-fe10-228616ea938f"
      },
      "execution_count": null,
      "outputs": [
        {
          "output_type": "execute_result",
          "data": {
            "text/plain": [
              "np.float64(-3.206268455680464)"
            ]
          },
          "metadata": {},
          "execution_count": 51
        }
      ]
    },
    {
      "cell_type": "code",
      "source": [
        "def compute_NMS_energy(counts,iou_matrix):\n",
        "  energy = 0\n",
        "  total_counts = 0\n",
        "  for meas, meas_count in counts.items():\n",
        "    obj_for_meas = NMS_objective(meas,iou_matrix)\n",
        "    energy += obj_for_meas * meas_count\n",
        "    total_counts += meas_count\n",
        "  return energy/total_counts\n",
        "\n",
        "compute_NMS_energy(qc, iou_matrix)"
      ],
      "metadata": {
        "id": "VEOTTvr9Oubt",
        "colab": {
          "base_uri": "https://localhost:8080/"
        },
        "outputId": "f50b3a5f-dca7-43c1-ca5e-f086e264a6d9"
      },
      "execution_count": null,
      "outputs": [
        {
          "output_type": "execute_result",
          "data": {
            "text/plain": [
              "np.float64(-2.123402866249254)"
            ]
          },
          "metadata": {},
          "execution_count": 52
        }
      ]
    },
    {
      "cell_type": "code",
      "source": [
        "def get_black_box_objective(iou_matrix, p):\n",
        "  def f(theta):\n",
        "    beta = theta[:p]\n",
        "    gamma = theta[p:]\n",
        "    counts = compute_QAOA_circuit(iou_matrix, beta, gamma)\n",
        "    # print(counts)\n",
        "    return compute_NMS_energy(counts, iou_matrix)\n",
        "  return f"
      ],
      "metadata": {
        "id": "Id6BmZx9OugQ"
      },
      "execution_count": null,
      "outputs": []
    },
    {
      "cell_type": "code",
      "source": [
        "p = 10\n",
        "obj = get_black_box_objective(iou_matrix,p)\n",
        "init_point = np.array([0.81069872, 2.2067517 , 0.83830696, 2.15579759, 0.37060699, 2.42068091, 0.91069872, 1.2067517 , 0.88762696, 1.87679759, 0.9234699, 2.9864091, 0.5627165, 3.91827365, 0.672536, 1.9283765, 0.6351722, 1.92837364, 0.982736, 3.9182736  ])\n",
        "# init_point = np.array([0.81069872, 2.2067517 , 0.83830696, 2.15579759, 0.37060699, 2.42068091, 0.82730, 0.82736 ])\n",
        "\n",
        "res_sample = minimize(obj, init_point, method='COBYLA', options={'maxiter':5000, 'disp': True})\n",
        "res_sample"
      ],
      "metadata": {
        "id": "V-msJCA-Ouiv",
        "colab": {
          "base_uri": "https://localhost:8080/"
        },
        "outputId": "a791dc65-015b-438c-e541-fcff12af20d5"
      },
      "execution_count": null,
      "outputs": [
        {
          "output_type": "stream",
          "name": "stdout",
          "text": [
            "{np.str_('000'): np.int64(574), np.str_('010'): np.int64(35), np.str_('011'): np.int64(43), np.str_('100'): np.int64(36), np.str_('101'): np.int64(99), np.str_('110'): np.int64(79), np.str_('111'): np.int64(134)}\n",
            "{np.str_('000'): np.int64(25), np.str_('001'): np.int64(45), np.str_('010'): np.int64(69), np.str_('011'): np.int64(323), np.str_('100'): np.int64(257), np.str_('101'): np.int64(151), np.str_('110'): np.int64(17), np.str_('111'): np.int64(113)}\n",
            "{np.str_('000'): np.int64(138), np.str_('001'): np.int64(12), np.str_('010'): np.int64(8), np.str_('011'): np.int64(81), np.str_('100'): np.int64(23), np.str_('101'): np.int64(27), np.str_('110'): np.int64(296), np.str_('111'): np.int64(415)}\n",
            "{np.str_('000'): np.int64(62), np.str_('001'): np.int64(45), np.str_('010'): np.int64(28), np.str_('011'): np.int64(180), np.str_('100'): np.int64(200), np.str_('101'): np.int64(127), np.str_('110'): np.int64(351), np.str_('111'): np.int64(7)}\n",
            "{np.str_('000'): np.int64(16), np.str_('001'): np.int64(60), np.str_('010'): np.int64(184), np.str_('011'): np.int64(277), np.str_('100'): np.int64(147), np.str_('101'): np.int64(141), np.str_('110'): np.int64(162), np.str_('111'): np.int64(13)}\n",
            "{np.str_('000'): np.int64(71), np.str_('001'): np.int64(113), np.str_('010'): np.int64(43), np.str_('011'): np.int64(158), np.str_('100'): np.int64(6), np.str_('101'): np.int64(9), np.str_('110'): np.int64(25), np.str_('111'): np.int64(575)}\n",
            "{np.str_('000'): np.int64(362), np.str_('001'): np.int64(29), np.str_('010'): np.int64(113), np.str_('011'): np.int64(262), np.str_('100'): np.int64(12), np.str_('101'): np.int64(174), np.str_('110'): np.int64(18), np.str_('111'): np.int64(30)}\n",
            "{np.str_('000'): np.int64(130), np.str_('010'): np.int64(12), np.str_('011'): np.int64(402), np.str_('100'): np.int64(35), np.str_('101'): np.int64(183), np.str_('110'): np.int64(116), np.str_('111'): np.int64(122)}\n",
            "{np.str_('000'): np.int64(233), np.str_('001'): np.int64(24), np.str_('010'): np.int64(30), np.str_('011'): np.int64(424), np.str_('100'): np.int64(59), np.str_('101'): np.int64(13), np.str_('110'): np.int64(84), np.str_('111'): np.int64(133)}\n",
            "{np.str_('000'): np.int64(454), np.str_('001'): np.int64(47), np.str_('010'): np.int64(70), np.str_('011'): np.int64(101), np.str_('100'): np.int64(11), np.str_('101'): np.int64(286), np.str_('110'): np.int64(25), np.str_('111'): np.int64(6)}\n",
            "{np.str_('000'): np.int64(251), np.str_('001'): np.int64(25), np.str_('010'): np.int64(60), np.str_('011'): np.int64(315), np.str_('100'): np.int64(115), np.str_('101'): np.int64(136), np.str_('110'): np.int64(77), np.str_('111'): np.int64(21)}\n",
            "{np.str_('000'): np.int64(195), np.str_('001'): np.int64(121), np.str_('010'): np.int64(113), np.str_('011'): np.int64(4), np.str_('100'): np.int64(236), np.str_('101'): np.int64(27), np.str_('110'): np.int64(100), np.str_('111'): np.int64(204)}\n",
            "{np.str_('000'): np.int64(521), np.str_('001'): np.int64(7), np.str_('010'): np.int64(260), np.str_('011'): np.int64(15), np.str_('100'): np.int64(1), np.str_('101'): np.int64(111), np.str_('110'): np.int64(33), np.str_('111'): np.int64(52)}\n",
            "{np.str_('000'): np.int64(212), np.str_('010'): np.int64(182), np.str_('011'): np.int64(61), np.str_('100'): np.int64(3), np.str_('101'): np.int64(2), np.str_('110'): np.int64(139), np.str_('111'): np.int64(401)}\n",
            "{np.str_('000'): np.int64(167), np.str_('001'): np.int64(56), np.str_('010'): np.int64(382), np.str_('011'): np.int64(117), np.str_('100'): np.int64(17), np.str_('101'): np.int64(169), np.str_('110'): np.int64(59), np.str_('111'): np.int64(33)}\n",
            "{np.str_('000'): np.int64(162), np.str_('001'): np.int64(80), np.str_('010'): np.int64(374), np.str_('011'): np.int64(126), np.str_('100'): np.int64(9), np.str_('101'): np.int64(150), np.str_('110'): np.int64(67), np.str_('111'): np.int64(32)}\n",
            "{np.str_('000'): np.int64(158), np.str_('001'): np.int64(51), np.str_('010'): np.int64(444), np.str_('011'): np.int64(63), np.str_('100'): np.int64(22), np.str_('101'): np.int64(19), np.str_('110'): np.int64(103), np.str_('111'): np.int64(140)}\n",
            "{np.str_('000'): np.int64(9), np.str_('001'): np.int64(48), np.str_('010'): np.int64(135), np.str_('011'): np.int64(94), np.str_('100'): np.int64(217), np.str_('101'): np.int64(130), np.str_('110'): np.int64(211), np.str_('111'): np.int64(156)}\n",
            "{np.str_('000'): np.int64(82), np.str_('001'): np.int64(16), np.str_('010'): np.int64(68), np.str_('011'): np.int64(67), np.str_('100'): np.int64(5), np.str_('101'): np.int64(155), np.str_('110'): np.int64(278), np.str_('111'): np.int64(329)}\n",
            "{np.str_('000'): np.int64(409), np.str_('001'): np.int64(24), np.str_('010'): np.int64(28), np.str_('011'): np.int64(47), np.str_('100'): np.int64(32), np.str_('101'): np.int64(29), np.str_('110'): np.int64(259), np.str_('111'): np.int64(172)}\n",
            "{np.str_('000'): np.int64(22), np.str_('001'): np.int64(19), np.str_('010'): np.int64(155), np.str_('011'): np.int64(131), np.str_('100'): np.int64(152), np.str_('101'): np.int64(141), np.str_('110'): np.int64(66), np.str_('111'): np.int64(314)}\n",
            "{np.str_('000'): np.int64(198), np.str_('001'): np.int64(4), np.str_('010'): np.int64(447), np.str_('011'): np.int64(64), np.str_('100'): np.int64(222), np.str_('101'): np.int64(51), np.str_('110'): np.int64(14)}\n",
            "{np.str_('000'): np.int64(289), np.str_('001'): np.int64(11), np.str_('010'): np.int64(372), np.str_('011'): np.int64(43), np.str_('100'): np.int64(120), np.str_('101'): np.int64(30), np.str_('110'): np.int64(47), np.str_('111'): np.int64(88)}\n",
            "{np.str_('000'): np.int64(62), np.str_('001'): np.int64(26), np.str_('010'): np.int64(302), np.str_('011'): np.int64(180), np.str_('100'): np.int64(65), np.str_('101'): np.int64(138), np.str_('110'): np.int64(163), np.str_('111'): np.int64(64)}\n",
            "{np.str_('000'): np.int64(63), np.str_('001'): np.int64(33), np.str_('010'): np.int64(342), np.str_('011'): np.int64(150), np.str_('100'): np.int64(80), np.str_('101'): np.int64(176), np.str_('110'): np.int64(112), np.str_('111'): np.int64(44)}\n",
            "{np.str_('000'): np.int64(74), np.str_('001'): np.int64(63), np.str_('010'): np.int64(3), np.str_('011'): np.int64(387), np.str_('100'): np.int64(174), np.str_('101'): np.int64(175), np.str_('110'): np.int64(115), np.str_('111'): np.int64(9)}\n",
            "{np.str_('000'): np.int64(47), np.str_('001'): np.int64(71), np.str_('010'): np.int64(265), np.str_('011'): np.int64(274), np.str_('100'): np.int64(152), np.str_('101'): np.int64(77), np.str_('110'): np.int64(111), np.str_('111'): np.int64(3)}\n",
            "{np.str_('000'): np.int64(49), np.str_('001'): np.int64(111), np.str_('010'): np.int64(103), np.str_('011'): np.int64(326), np.str_('100'): np.int64(206), np.str_('101'): np.int64(73), np.str_('110'): np.int64(81), np.str_('111'): np.int64(51)}\n",
            "{np.str_('000'): np.int64(34), np.str_('001'): np.int64(31), np.str_('010'): np.int64(138), np.str_('011'): np.int64(273), np.str_('100'): np.int64(144), np.str_('101'): np.int64(151), np.str_('110'): np.int64(212), np.str_('111'): np.int64(17)}\n",
            "{np.str_('000'): np.int64(75), np.str_('001'): np.int64(51), np.str_('010'): np.int64(118), np.str_('011'): np.int64(332), np.str_('100'): np.int64(95), np.str_('101'): np.int64(131), np.str_('110'): np.int64(111), np.str_('111'): np.int64(87)}\n",
            "{np.str_('000'): np.int64(56), np.str_('001'): np.int64(31), np.str_('010'): np.int64(162), np.str_('011'): np.int64(340), np.str_('100'): np.int64(75), np.str_('101'): np.int64(125), np.str_('110'): np.int64(173), np.str_('111'): np.int64(38)}\n",
            "{np.str_('000'): np.int64(21), np.str_('001'): np.int64(110), np.str_('010'): np.int64(146), np.str_('011'): np.int64(240), np.str_('100'): np.int64(201), np.str_('101'): np.int64(73), np.str_('110'): np.int64(123), np.str_('111'): np.int64(86)}\n",
            "{np.str_('000'): np.int64(18), np.str_('001'): np.int64(65), np.str_('010'): np.int64(231), np.str_('011'): np.int64(248), np.str_('100'): np.int64(125), np.str_('101'): np.int64(167), np.str_('110'): np.int64(136), np.str_('111'): np.int64(10)}\n",
            "{np.str_('000'): np.int64(47), np.str_('001'): np.int64(37), np.str_('010'): np.int64(225), np.str_('011'): np.int64(212), np.str_('100'): np.int64(126), np.str_('101'): np.int64(175), np.str_('110'): np.int64(127), np.str_('111'): np.int64(51)}\n",
            "{np.str_('000'): np.int64(21), np.str_('001'): np.int64(62), np.str_('010'): np.int64(181), np.str_('011'): np.int64(305), np.str_('100'): np.int64(152), np.str_('101'): np.int64(124), np.str_('110'): np.int64(151), np.str_('111'): np.int64(4)}\n",
            "{np.str_('000'): np.int64(61), np.str_('001'): np.int64(39), np.str_('010'): np.int64(174), np.str_('011'): np.int64(261), np.str_('100'): np.int64(171), np.str_('101'): np.int64(137), np.str_('110'): np.int64(147), np.str_('111'): np.int64(10)}\n",
            "{np.str_('000'): np.int64(27), np.str_('001'): np.int64(47), np.str_('010'): np.int64(179), np.str_('011'): np.int64(297), np.str_('100'): np.int64(145), np.str_('101'): np.int64(147), np.str_('110'): np.int64(157), np.str_('111'): np.int64(1)}\n",
            "{np.str_('000'): np.int64(66), np.str_('001'): np.int64(50), np.str_('010'): np.int64(258), np.str_('011'): np.int64(155), np.str_('100'): np.int64(124), np.str_('101'): np.int64(181), np.str_('110'): np.int64(148), np.str_('111'): np.int64(18)}\n",
            "{np.str_('000'): np.int64(36), np.str_('001'): np.int64(78), np.str_('010'): np.int64(191), np.str_('011'): np.int64(290), np.str_('100'): np.int64(189), np.str_('101'): np.int64(113), np.str_('110'): np.int64(103)}\n",
            "{np.str_('000'): np.int64(24), np.str_('001'): np.int64(47), np.str_('010'): np.int64(193), np.str_('011'): np.int64(267), np.str_('100'): np.int64(149), np.str_('101'): np.int64(156), np.str_('110'): np.int64(156), np.str_('111'): np.int64(8)}\n",
            "{np.str_('000'): np.int64(24), np.str_('001'): np.int64(30), np.str_('010'): np.int64(152), np.str_('011'): np.int64(300), np.str_('100'): np.int64(146), np.str_('101'): np.int64(173), np.str_('110'): np.int64(171), np.str_('111'): np.int64(4)}\n",
            "{np.str_('000'): np.int64(20), np.str_('001'): np.int64(35), np.str_('010'): np.int64(129), np.str_('011'): np.int64(274), np.str_('100'): np.int64(96), np.str_('101'): np.int64(171), np.str_('110'): np.int64(270), np.str_('111'): np.int64(5)}\n",
            "{np.str_('000'): np.int64(28), np.str_('001'): np.int64(28), np.str_('010'): np.int64(124), np.str_('011'): np.int64(234), np.str_('100'): np.int64(84), np.str_('101'): np.int64(194), np.str_('110'): np.int64(303), np.str_('111'): np.int64(5)}\n",
            "{np.str_('000'): np.int64(244), np.str_('001'): np.int64(5), np.str_('010'): np.int64(162), np.str_('011'): np.int64(112), np.str_('100'): np.int64(145), np.str_('101'): np.int64(62), np.str_('110'): np.int64(228), np.str_('111'): np.int64(42)}\n",
            "{np.str_('000'): np.int64(33), np.str_('001'): np.int64(25), np.str_('010'): np.int64(163), np.str_('011'): np.int64(192), np.str_('100'): np.int64(66), np.str_('101'): np.int64(209), np.str_('110'): np.int64(306), np.str_('111'): np.int64(6)}\n",
            "{np.str_('000'): np.int64(15), np.str_('001'): np.int64(15), np.str_('010'): np.int64(142), np.str_('011'): np.int64(356), np.str_('100'): np.int64(34), np.str_('101'): np.int64(150), np.str_('110'): np.int64(246), np.str_('111'): np.int64(42)}\n",
            "{np.str_('000'): np.int64(34), np.str_('001'): np.int64(13), np.str_('010'): np.int64(162), np.str_('011'): np.int64(300), np.str_('100'): np.int64(38), np.str_('101'): np.int64(157), np.str_('110'): np.int64(285), np.str_('111'): np.int64(11)}\n",
            "{np.str_('000'): np.int64(54), np.str_('001'): np.int64(18), np.str_('010'): np.int64(254), np.str_('011'): np.int64(221), np.str_('101'): np.int64(133), np.str_('110'): np.int64(261), np.str_('111'): np.int64(59)}\n",
            "{np.str_('000'): np.int64(54), np.str_('001'): np.int64(20), np.str_('010'): np.int64(120), np.str_('011'): np.int64(316), np.str_('100'): np.int64(19), np.str_('101'): np.int64(162), np.str_('110'): np.int64(260), np.str_('111'): np.int64(49)}\n",
            "{np.str_('000'): np.int64(130), np.str_('001'): np.int64(4), np.str_('010'): np.int64(160), np.str_('011'): np.int64(237), np.str_('100'): np.int64(25), np.str_('101'): np.int64(143), np.str_('110'): np.int64(196), np.str_('111'): np.int64(105)}\n",
            "{np.str_('000'): np.int64(17), np.str_('001'): np.int64(11), np.str_('010'): np.int64(186), np.str_('011'): np.int64(278), np.str_('100'): np.int64(31), np.str_('101'): np.int64(166), np.str_('110'): np.int64(230), np.str_('111'): np.int64(81)}\n",
            "{np.str_('000'): np.int64(14), np.str_('001'): np.int64(13), np.str_('010'): np.int64(157), np.str_('011'): np.int64(379), np.str_('100'): np.int64(54), np.str_('101'): np.int64(128), np.str_('110'): np.int64(210), np.str_('111'): np.int64(45)}\n",
            "{np.str_('000'): np.int64(27), np.str_('001'): np.int64(21), np.str_('010'): np.int64(181), np.str_('011'): np.int64(275), np.str_('100'): np.int64(27), np.str_('101'): np.int64(196), np.str_('110'): np.int64(256), np.str_('111'): np.int64(17)}\n",
            "{np.str_('000'): np.int64(23), np.str_('001'): np.int64(5), np.str_('010'): np.int64(78), np.str_('011'): np.int64(414), np.str_('100'): np.int64(40), np.str_('101'): np.int64(142), np.str_('110'): np.int64(255), np.str_('111'): np.int64(43)}\n",
            "{np.str_('000'): np.int64(24), np.str_('001'): np.int64(15), np.str_('010'): np.int64(96), np.str_('011'): np.int64(412), np.str_('100'): np.int64(62), np.str_('101'): np.int64(132), np.str_('110'): np.int64(248), np.str_('111'): np.int64(11)}\n",
            "{np.str_('000'): np.int64(22), np.str_('001'): np.int64(24), np.str_('010'): np.int64(89), np.str_('011'): np.int64(419), np.str_('100'): np.int64(75), np.str_('101'): np.int64(131), np.str_('110'): np.int64(232), np.str_('111'): np.int64(8)}\n",
            "{np.str_('000'): np.int64(45), np.str_('001'): np.int64(28), np.str_('010'): np.int64(73), np.str_('011'): np.int64(403), np.str_('100'): np.int64(52), np.str_('101'): np.int64(143), np.str_('110'): np.int64(247), np.str_('111'): np.int64(9)}\n",
            "{np.str_('000'): np.int64(30), np.str_('001'): np.int64(31), np.str_('010'): np.int64(101), np.str_('011'): np.int64(437), np.str_('100'): np.int64(54), np.str_('101'): np.int64(123), np.str_('110'): np.int64(216), np.str_('111'): np.int64(8)}\n",
            "{np.str_('000'): np.int64(11), np.str_('001'): np.int64(26), np.str_('010'): np.int64(21), np.str_('011'): np.int64(473), np.str_('100'): np.int64(109), np.str_('101'): np.int64(126), np.str_('110'): np.int64(207), np.str_('111'): np.int64(27)}\n",
            "{np.str_('000'): np.int64(5), np.str_('001'): np.int64(23), np.str_('010'): np.int64(40), np.str_('011'): np.int64(404), np.str_('100'): np.int64(116), np.str_('101'): np.int64(163), np.str_('110'): np.int64(194), np.str_('111'): np.int64(55)}\n",
            "{np.str_('000'): np.int64(32), np.str_('001'): np.int64(14), np.str_('010'): np.int64(5), np.str_('011'): np.int64(568), np.str_('100'): np.int64(90), np.str_('101'): np.int64(92), np.str_('110'): np.int64(166), np.str_('111'): np.int64(33)}\n",
            "{np.str_('000'): np.int64(3), np.str_('001'): np.int64(17), np.str_('010'): np.int64(32), np.str_('011'): np.int64(457), np.str_('100'): np.int64(150), np.str_('101'): np.int64(120), np.str_('110'): np.int64(193), np.str_('111'): np.int64(28)}\n",
            "{np.str_('000'): np.int64(15), np.str_('001'): np.int64(45), np.str_('010'): np.int64(29), np.str_('011'): np.int64(460), np.str_('100'): np.int64(140), np.str_('101'): np.int64(110), np.str_('110'): np.int64(164), np.str_('111'): np.int64(37)}\n",
            "{np.str_('000'): np.int64(15), np.str_('001'): np.int64(29), np.str_('010'): np.int64(23), np.str_('011'): np.int64(476), np.str_('100'): np.int64(112), np.str_('101'): np.int64(142), np.str_('110'): np.int64(182), np.str_('111'): np.int64(21)}\n",
            "{np.str_('000'): np.int64(32), np.str_('001'): np.int64(21), np.str_('010'): np.int64(37), np.str_('011'): np.int64(401), np.str_('100'): np.int64(123), np.str_('101'): np.int64(129), np.str_('110'): np.int64(252), np.str_('111'): np.int64(5)}\n",
            "{np.str_('000'): np.int64(15), np.str_('001'): np.int64(24), np.str_('010'): np.int64(30), np.str_('011'): np.int64(451), np.str_('100'): np.int64(100), np.str_('101'): np.int64(123), np.str_('110'): np.int64(221), np.str_('111'): np.int64(36)}\n",
            "{np.str_('001'): np.int64(37), np.str_('010'): np.int64(30), np.str_('011'): np.int64(513), np.str_('100'): np.int64(155), np.str_('101'): np.int64(89), np.str_('110'): np.int64(157), np.str_('111'): np.int64(19)}\n",
            "{np.str_('000'): np.int64(4), np.str_('001'): np.int64(39), np.str_('010'): np.int64(32), np.str_('011'): np.int64(477), np.str_('100'): np.int64(146), np.str_('101'): np.int64(118), np.str_('110'): np.int64(164), np.str_('111'): np.int64(20)}\n",
            "{np.str_('000'): np.int64(16), np.str_('001'): np.int64(33), np.str_('010'): np.int64(19), np.str_('011'): np.int64(516), np.str_('100'): np.int64(142), np.str_('101'): np.int64(84), np.str_('110'): np.int64(169), np.str_('111'): np.int64(21)}\n",
            "{np.str_('000'): np.int64(4), np.str_('001'): np.int64(45), np.str_('010'): np.int64(22), np.str_('011'): np.int64(521), np.str_('100'): np.int64(152), np.str_('101'): np.int64(100), np.str_('110'): np.int64(141), np.str_('111'): np.int64(15)}\n",
            "{np.str_('000'): np.int64(3), np.str_('001'): np.int64(42), np.str_('010'): np.int64(3), np.str_('011'): np.int64(570), np.str_('100'): np.int64(124), np.str_('101'): np.int64(85), np.str_('110'): np.int64(92), np.str_('111'): np.int64(81)}\n",
            "{np.str_('000'): np.int64(1), np.str_('001'): np.int64(59), np.str_('010'): np.int64(31), np.str_('011'): np.int64(466), np.str_('100'): np.int64(150), np.str_('101'): np.int64(118), np.str_('110'): np.int64(145), np.str_('111'): np.int64(30)}\n",
            "{np.str_('000'): np.int64(11), np.str_('001'): np.int64(44), np.str_('010'): np.int64(24), np.str_('011'): np.int64(538), np.str_('100'): np.int64(125), np.str_('101'): np.int64(86), np.str_('110'): np.int64(171), np.str_('111'): np.int64(1)}\n",
            "{np.str_('000'): np.int64(10), np.str_('001'): np.int64(39), np.str_('010'): np.int64(19), np.str_('011'): np.int64(549), np.str_('100'): np.int64(131), np.str_('101'): np.int64(74), np.str_('110'): np.int64(176), np.str_('111'): np.int64(2)}\n",
            "{np.str_('000'): np.int64(4), np.str_('001'): np.int64(64), np.str_('010'): np.int64(66), np.str_('011'): np.int64(524), np.str_('100'): np.int64(151), np.str_('101'): np.int64(66), np.str_('110'): np.int64(119), np.str_('111'): np.int64(6)}\n",
            "{np.str_('000'): np.int64(10), np.str_('001'): np.int64(35), np.str_('010'): np.int64(21), np.str_('011'): np.int64(573), np.str_('100'): np.int64(105), np.str_('101'): np.int64(74), np.str_('110'): np.int64(182)}\n",
            "{np.str_('000'): np.int64(14), np.str_('001'): np.int64(19), np.str_('010'): np.int64(11), np.str_('011'): np.int64(571), np.str_('100'): np.int64(115), np.str_('101'): np.int64(76), np.str_('110'): np.int64(192), np.str_('111'): np.int64(2)}\n",
            "{np.str_('000'): np.int64(4), np.str_('001'): np.int64(23), np.str_('010'): np.int64(23), np.str_('011'): np.int64(613), np.str_('100'): np.int64(104), np.str_('101'): np.int64(68), np.str_('110'): np.int64(165)}\n",
            "{np.str_('000'): np.int64(11), np.str_('001'): np.int64(19), np.str_('010'): np.int64(30), np.str_('011'): np.int64(620), np.str_('100'): np.int64(124), np.str_('101'): np.int64(35), np.str_('110'): np.int64(159), np.str_('111'): np.int64(2)}\n",
            "{np.str_('000'): np.int64(10), np.str_('001'): np.int64(25), np.str_('010'): np.int64(31), np.str_('011'): np.int64(564), np.str_('100'): np.int64(116), np.str_('101'): np.int64(72), np.str_('110'): np.int64(182)}\n",
            "{np.str_('000'): np.int64(25), np.str_('001'): np.int64(47), np.str_('010'): np.int64(12), np.str_('011'): np.int64(556), np.str_('100'): np.int64(104), np.str_('101'): np.int64(72), np.str_('110'): np.int64(180), np.str_('111'): np.int64(4)}\n",
            "{np.str_('000'): np.int64(5), np.str_('001'): np.int64(33), np.str_('010'): np.int64(27), np.str_('011'): np.int64(594), np.str_('100'): np.int64(135), np.str_('101'): np.int64(64), np.str_('110'): np.int64(140), np.str_('111'): np.int64(2)}\n",
            "{np.str_('000'): np.int64(7), np.str_('001'): np.int64(31), np.str_('010'): np.int64(18), np.str_('011'): np.int64(614), np.str_('100'): np.int64(113), np.str_('101'): np.int64(61), np.str_('110'): np.int64(153), np.str_('111'): np.int64(3)}\n",
            "{np.str_('000'): np.int64(26), np.str_('001'): np.int64(33), np.str_('010'): np.int64(46), np.str_('011'): np.int64(544), np.str_('100'): np.int64(95), np.str_('101'): np.int64(69), np.str_('110'): np.int64(185), np.str_('111'): np.int64(2)}\n",
            "{np.str_('000'): np.int64(10), np.str_('001'): np.int64(36), np.str_('010'): np.int64(11), np.str_('011'): np.int64(604), np.str_('100'): np.int64(97), np.str_('101'): np.int64(81), np.str_('110'): np.int64(161)}\n",
            "{np.str_('000'): np.int64(6), np.str_('001'): np.int64(38), np.str_('010'): np.int64(24), np.str_('011'): np.int64(546), np.str_('100'): np.int64(129), np.str_('101'): np.int64(73), np.str_('110'): np.int64(165), np.str_('111'): np.int64(19)}\n",
            "{np.str_('000'): np.int64(6), np.str_('001'): np.int64(31), np.str_('010'): np.int64(31), np.str_('011'): np.int64(577), np.str_('100'): np.int64(126), np.str_('101'): np.int64(68), np.str_('110'): np.int64(157), np.str_('111'): np.int64(4)}\n",
            "{np.str_('000'): np.int64(17), np.str_('001'): np.int64(32), np.str_('010'): np.int64(22), np.str_('011'): np.int64(576), np.str_('100'): np.int64(94), np.str_('101'): np.int64(84), np.str_('110'): np.int64(171), np.str_('111'): np.int64(4)}\n",
            "{np.str_('000'): np.int64(12), np.str_('001'): np.int64(41), np.str_('010'): np.int64(24), np.str_('011'): np.int64(626), np.str_('100'): np.int64(95), np.str_('101'): np.int64(58), np.str_('110'): np.int64(141), np.str_('111'): np.int64(3)}\n",
            "{np.str_('000'): np.int64(1), np.str_('001'): np.int64(19), np.str_('010'): np.int64(18), np.str_('011'): np.int64(604), np.str_('100'): np.int64(119), np.str_('101'): np.int64(62), np.str_('110'): np.int64(169), np.str_('111'): np.int64(8)}\n",
            "{np.str_('000'): np.int64(12), np.str_('001'): np.int64(27), np.str_('010'): np.int64(30), np.str_('011'): np.int64(564), np.str_('100'): np.int64(115), np.str_('101'): np.int64(79), np.str_('110'): np.int64(173)}\n",
            "{np.str_('000'): np.int64(8), np.str_('001'): np.int64(49), np.str_('010'): np.int64(39), np.str_('011'): np.int64(576), np.str_('100'): np.int64(111), np.str_('101'): np.int64(62), np.str_('110'): np.int64(150), np.str_('111'): np.int64(5)}\n",
            "{np.str_('000'): np.int64(10), np.str_('001'): np.int64(34), np.str_('010'): np.int64(30), np.str_('011'): np.int64(539), np.str_('100'): np.int64(128), np.str_('101'): np.int64(82), np.str_('110'): np.int64(177)}\n",
            "{np.str_('000'): np.int64(6), np.str_('001'): np.int64(23), np.str_('010'): np.int64(19), np.str_('011'): np.int64(610), np.str_('100'): np.int64(135), np.str_('101'): np.int64(72), np.str_('110'): np.int64(133), np.str_('111'): np.int64(2)}\n",
            "{np.str_('000'): np.int64(5), np.str_('001'): np.int64(35), np.str_('010'): np.int64(30), np.str_('011'): np.int64(571), np.str_('100'): np.int64(120), np.str_('101'): np.int64(78), np.str_('110'): np.int64(161)}\n",
            "{np.str_('000'): np.int64(3), np.str_('001'): np.int64(49), np.str_('010'): np.int64(51), np.str_('011'): np.int64(593), np.str_('100'): np.int64(113), np.str_('101'): np.int64(54), np.str_('110'): np.int64(137)}\n",
            "{np.str_('000'): np.int64(7), np.str_('001'): np.int64(31), np.str_('010'): np.int64(23), np.str_('011'): np.int64(608), np.str_('100'): np.int64(111), np.str_('101'): np.int64(62), np.str_('110'): np.int64(156), np.str_('111'): np.int64(2)}\n",
            "{np.str_('000'): np.int64(7), np.str_('001'): np.int64(46), np.str_('010'): np.int64(24), np.str_('011'): np.int64(574), np.str_('100'): np.int64(112), np.str_('101'): np.int64(59), np.str_('110'): np.int64(178)}\n",
            "{np.str_('000'): np.int64(8), np.str_('001'): np.int64(34), np.str_('010'): np.int64(30), np.str_('011'): np.int64(570), np.str_('100'): np.int64(105), np.str_('101'): np.int64(79), np.str_('110'): np.int64(173), np.str_('111'): np.int64(1)}\n",
            "{np.str_('000'): np.int64(6), np.str_('001'): np.int64(37), np.str_('010'): np.int64(17), np.str_('011'): np.int64(571), np.str_('100'): np.int64(122), np.str_('101'): np.int64(89), np.str_('110'): np.int64(158)}\n",
            "{np.str_('000'): np.int64(6), np.str_('001'): np.int64(42), np.str_('010'): np.int64(25), np.str_('011'): np.int64(581), np.str_('100'): np.int64(113), np.str_('101'): np.int64(74), np.str_('110'): np.int64(156), np.str_('111'): np.int64(3)}\n",
            "{np.str_('000'): np.int64(5), np.str_('001'): np.int64(23), np.str_('010'): np.int64(31), np.str_('011'): np.int64(593), np.str_('100'): np.int64(120), np.str_('101'): np.int64(53), np.str_('110'): np.int64(171), np.str_('111'): np.int64(4)}\n",
            "{np.str_('000'): np.int64(14), np.str_('001'): np.int64(39), np.str_('010'): np.int64(29), np.str_('011'): np.int64(548), np.str_('100'): np.int64(105), np.str_('101'): np.int64(67), np.str_('110'): np.int64(196), np.str_('111'): np.int64(2)}\n",
            "{np.str_('000'): np.int64(11), np.str_('001'): np.int64(29), np.str_('010'): np.int64(27), np.str_('011'): np.int64(578), np.str_('100'): np.int64(124), np.str_('101'): np.int64(64), np.str_('110'): np.int64(165), np.str_('111'): np.int64(2)}\n",
            "{np.str_('000'): np.int64(6), np.str_('001'): np.int64(31), np.str_('010'): np.int64(36), np.str_('011'): np.int64(572), np.str_('100'): np.int64(126), np.str_('101'): np.int64(68), np.str_('110'): np.int64(160), np.str_('111'): np.int64(1)}\n",
            "{np.str_('000'): np.int64(5), np.str_('001'): np.int64(27), np.str_('010'): np.int64(27), np.str_('011'): np.int64(559), np.str_('100'): np.int64(111), np.str_('101'): np.int64(72), np.str_('110'): np.int64(197), np.str_('111'): np.int64(2)}\n",
            "{np.str_('000'): np.int64(4), np.str_('001'): np.int64(33), np.str_('010'): np.int64(32), np.str_('011'): np.int64(555), np.str_('100'): np.int64(131), np.str_('101'): np.int64(68), np.str_('110'): np.int64(176), np.str_('111'): np.int64(1)}\n",
            "{np.str_('000'): np.int64(8), np.str_('001'): np.int64(32), np.str_('010'): np.int64(18), np.str_('011'): np.int64(579), np.str_('100'): np.int64(103), np.str_('101'): np.int64(67), np.str_('110'): np.int64(192), np.str_('111'): np.int64(1)}\n",
            "{np.str_('000'): np.int64(15), np.str_('001'): np.int64(32), np.str_('010'): np.int64(35), np.str_('011'): np.int64(576), np.str_('100'): np.int64(114), np.str_('101'): np.int64(71), np.str_('110'): np.int64(155), np.str_('111'): np.int64(2)}\n",
            "{np.str_('000'): np.int64(6), np.str_('001'): np.int64(31), np.str_('010'): np.int64(25), np.str_('011'): np.int64(572), np.str_('100'): np.int64(138), np.str_('101'): np.int64(66), np.str_('110'): np.int64(160), np.str_('111'): np.int64(2)}\n",
            "{np.str_('000'): np.int64(4), np.str_('001'): np.int64(33), np.str_('010'): np.int64(31), np.str_('011'): np.int64(563), np.str_('100'): np.int64(108), np.str_('101'): np.int64(74), np.str_('110'): np.int64(185), np.str_('111'): np.int64(2)}\n",
            "{np.str_('000'): np.int64(8), np.str_('001'): np.int64(27), np.str_('010'): np.int64(22), np.str_('011'): np.int64(567), np.str_('100'): np.int64(108), np.str_('101'): np.int64(79), np.str_('110'): np.int64(186), np.str_('111'): np.int64(3)}\n",
            "{np.str_('000'): np.int64(3), np.str_('001'): np.int64(41), np.str_('010'): np.int64(26), np.str_('011'): np.int64(571), np.str_('100'): np.int64(108), np.str_('101'): np.int64(79), np.str_('110'): np.int64(170), np.str_('111'): np.int64(2)}\n",
            "{np.str_('000'): np.int64(7), np.str_('001'): np.int64(34), np.str_('010'): np.int64(24), np.str_('011'): np.int64(553), np.str_('100'): np.int64(133), np.str_('101'): np.int64(72), np.str_('110'): np.int64(175), np.str_('111'): np.int64(2)}\n",
            "{np.str_('000'): np.int64(8), np.str_('001'): np.int64(17), np.str_('010'): np.int64(29), np.str_('011'): np.int64(573), np.str_('100'): np.int64(129), np.str_('101'): np.int64(75), np.str_('110'): np.int64(166), np.str_('111'): np.int64(3)}\n",
            "{np.str_('000'): np.int64(5), np.str_('001'): np.int64(33), np.str_('010'): np.int64(23), np.str_('011'): np.int64(562), np.str_('100'): np.int64(122), np.str_('101'): np.int64(79), np.str_('110'): np.int64(176)}\n",
            "{np.str_('000'): np.int64(4), np.str_('001'): np.int64(37), np.str_('010'): np.int64(25), np.str_('011'): np.int64(572), np.str_('100'): np.int64(130), np.str_('101'): np.int64(64), np.str_('110'): np.int64(168)}\n",
            "{np.str_('000'): np.int64(8), np.str_('001'): np.int64(27), np.str_('010'): np.int64(21), np.str_('011'): np.int64(581), np.str_('100'): np.int64(127), np.str_('101'): np.int64(64), np.str_('110'): np.int64(169), np.str_('111'): np.int64(3)}\n",
            "{np.str_('000'): np.int64(2), np.str_('001'): np.int64(40), np.str_('010'): np.int64(31), np.str_('011'): np.int64(591), np.str_('100'): np.int64(129), np.str_('101'): np.int64(67), np.str_('110'): np.int64(140)}\n",
            "{np.str_('000'): np.int64(5), np.str_('001'): np.int64(34), np.str_('010'): np.int64(23), np.str_('011'): np.int64(566), np.str_('100'): np.int64(140), np.str_('101'): np.int64(77), np.str_('110'): np.int64(154), np.str_('111'): np.int64(1)}\n",
            "{np.str_('000'): np.int64(3), np.str_('001'): np.int64(26), np.str_('010'): np.int64(37), np.str_('011'): np.int64(579), np.str_('100'): np.int64(118), np.str_('101'): np.int64(72), np.str_('110'): np.int64(164), np.str_('111'): np.int64(1)}\n",
            "{np.str_('000'): np.int64(15), np.str_('001'): np.int64(44), np.str_('010'): np.int64(26), np.str_('011'): np.int64(575), np.str_('100'): np.int64(120), np.str_('101'): np.int64(63), np.str_('110'): np.int64(156), np.str_('111'): np.int64(1)}\n",
            "{np.str_('000'): np.int64(7), np.str_('001'): np.int64(29), np.str_('010'): np.int64(31), np.str_('011'): np.int64(561), np.str_('100'): np.int64(133), np.str_('101'): np.int64(69), np.str_('110'): np.int64(166), np.str_('111'): np.int64(4)}\n",
            "{np.str_('000'): np.int64(4), np.str_('001'): np.int64(38), np.str_('010'): np.int64(23), np.str_('011'): np.int64(582), np.str_('100'): np.int64(129), np.str_('101'): np.int64(73), np.str_('110'): np.int64(150), np.str_('111'): np.int64(1)}\n",
            "{np.str_('000'): np.int64(8), np.str_('001'): np.int64(31), np.str_('010'): np.int64(41), np.str_('011'): np.int64(570), np.str_('100'): np.int64(117), np.str_('101'): np.int64(69), np.str_('110'): np.int64(163), np.str_('111'): np.int64(1)}\n",
            "{np.str_('000'): np.int64(6), np.str_('001'): np.int64(36), np.str_('010'): np.int64(21), np.str_('011'): np.int64(582), np.str_('100'): np.int64(112), np.str_('101'): np.int64(74), np.str_('110'): np.int64(168), np.str_('111'): np.int64(1)}\n",
            "{np.str_('000'): np.int64(9), np.str_('001'): np.int64(24), np.str_('010'): np.int64(16), np.str_('011'): np.int64(595), np.str_('100'): np.int64(128), np.str_('101'): np.int64(78), np.str_('110'): np.int64(149), np.str_('111'): np.int64(1)}\n",
            "{np.str_('000'): np.int64(11), np.str_('001'): np.int64(30), np.str_('010'): np.int64(28), np.str_('011'): np.int64(565), np.str_('100'): np.int64(120), np.str_('101'): np.int64(75), np.str_('110'): np.int64(169), np.str_('111'): np.int64(2)}\n",
            "{np.str_('000'): np.int64(7), np.str_('001'): np.int64(29), np.str_('010'): np.int64(16), np.str_('011'): np.int64(583), np.str_('100'): np.int64(117), np.str_('101'): np.int64(75), np.str_('110'): np.int64(172), np.str_('111'): np.int64(1)}\n",
            "{np.str_('000'): np.int64(7), np.str_('001'): np.int64(36), np.str_('010'): np.int64(29), np.str_('011'): np.int64(564), np.str_('100'): np.int64(123), np.str_('101'): np.int64(70), np.str_('110'): np.int64(170), np.str_('111'): np.int64(1)}\n",
            "{np.str_('000'): np.int64(5), np.str_('001'): np.int64(32), np.str_('010'): np.int64(18), np.str_('011'): np.int64(615), np.str_('100'): np.int64(113), np.str_('101'): np.int64(73), np.str_('110'): np.int64(141), np.str_('111'): np.int64(3)}\n",
            "{np.str_('000'): np.int64(7), np.str_('001'): np.int64(27), np.str_('010'): np.int64(27), np.str_('011'): np.int64(585), np.str_('100'): np.int64(108), np.str_('101'): np.int64(74), np.str_('110'): np.int64(170), np.str_('111'): np.int64(2)}\n",
            "{np.str_('000'): np.int64(5), np.str_('001'): np.int64(39), np.str_('010'): np.int64(35), np.str_('011'): np.int64(569), np.str_('100'): np.int64(108), np.str_('101'): np.int64(68), np.str_('110'): np.int64(174), np.str_('111'): np.int64(2)}\n",
            "{np.str_('000'): np.int64(13), np.str_('001'): np.int64(35), np.str_('010'): np.int64(26), np.str_('011'): np.int64(590), np.str_('100'): np.int64(113), np.str_('101'): np.int64(57), np.str_('110'): np.int64(165), np.str_('111'): np.int64(1)}\n",
            "{np.str_('000'): np.int64(9), np.str_('001'): np.int64(23), np.str_('010'): np.int64(20), np.str_('011'): np.int64(579), np.str_('100'): np.int64(120), np.str_('101'): np.int64(90), np.str_('110'): np.int64(159)}\n",
            "{np.str_('000'): np.int64(6), np.str_('001'): np.int64(41), np.str_('010'): np.int64(25), np.str_('011'): np.int64(554), np.str_('100'): np.int64(143), np.str_('101'): np.int64(60), np.str_('110'): np.int64(170), np.str_('111'): np.int64(1)}\n",
            "{np.str_('000'): np.int64(7), np.str_('001'): np.int64(31), np.str_('010'): np.int64(34), np.str_('011'): np.int64(580), np.str_('100'): np.int64(111), np.str_('101'): np.int64(71), np.str_('110'): np.int64(165), np.str_('111'): np.int64(1)}\n",
            "{np.str_('000'): np.int64(7), np.str_('001'): np.int64(25), np.str_('010'): np.int64(23), np.str_('011'): np.int64(606), np.str_('100'): np.int64(112), np.str_('101'): np.int64(61), np.str_('110'): np.int64(166)}\n",
            "{np.str_('000'): np.int64(12), np.str_('001'): np.int64(38), np.str_('010'): np.int64(28), np.str_('011'): np.int64(589), np.str_('100'): np.int64(112), np.str_('101'): np.int64(59), np.str_('110'): np.int64(161), np.str_('111'): np.int64(1)}\n",
            "{np.str_('000'): np.int64(11), np.str_('001'): np.int64(24), np.str_('010'): np.int64(30), np.str_('011'): np.int64(587), np.str_('100'): np.int64(112), np.str_('101'): np.int64(72), np.str_('110'): np.int64(164)}\n",
            "{np.str_('000'): np.int64(7), np.str_('001'): np.int64(27), np.str_('010'): np.int64(28), np.str_('011'): np.int64(583), np.str_('100'): np.int64(112), np.str_('101'): np.int64(68), np.str_('110'): np.int64(173), np.str_('111'): np.int64(2)}\n",
            "{np.str_('000'): np.int64(3), np.str_('001'): np.int64(32), np.str_('010'): np.int64(30), np.str_('011'): np.int64(567), np.str_('100'): np.int64(113), np.str_('101'): np.int64(70), np.str_('110'): np.int64(185)}\n",
            "{np.str_('000'): np.int64(4), np.str_('001'): np.int64(26), np.str_('010'): np.int64(31), np.str_('011'): np.int64(580), np.str_('100'): np.int64(110), np.str_('101'): np.int64(81), np.str_('110'): np.int64(167), np.str_('111'): np.int64(1)}\n",
            "{np.str_('000'): np.int64(4), np.str_('001'): np.int64(34), np.str_('010'): np.int64(35), np.str_('011'): np.int64(570), np.str_('100'): np.int64(129), np.str_('101'): np.int64(76), np.str_('110'): np.int64(152)}\n",
            "{np.str_('000'): np.int64(10), np.str_('001'): np.int64(36), np.str_('010'): np.int64(33), np.str_('011'): np.int64(569), np.str_('100'): np.int64(121), np.str_('101'): np.int64(76), np.str_('110'): np.int64(153), np.str_('111'): np.int64(2)}\n",
            "{np.str_('000'): np.int64(6), np.str_('001'): np.int64(31), np.str_('010'): np.int64(32), np.str_('011'): np.int64(561), np.str_('100'): np.int64(112), np.str_('101'): np.int64(82), np.str_('110'): np.int64(175), np.str_('111'): np.int64(1)}\n",
            "{np.str_('000'): np.int64(5), np.str_('001'): np.int64(37), np.str_('010'): np.int64(24), np.str_('011'): np.int64(597), np.str_('100'): np.int64(109), np.str_('101'): np.int64(76), np.str_('110'): np.int64(151), np.str_('111'): np.int64(1)}\n",
            "{np.str_('000'): np.int64(4), np.str_('001'): np.int64(31), np.str_('010'): np.int64(21), np.str_('011'): np.int64(584), np.str_('100'): np.int64(119), np.str_('101'): np.int64(77), np.str_('110'): np.int64(163), np.str_('111'): np.int64(1)}\n",
            "{np.str_('000'): np.int64(3), np.str_('001'): np.int64(32), np.str_('010'): np.int64(39), np.str_('011'): np.int64(573), np.str_('100'): np.int64(115), np.str_('101'): np.int64(78), np.str_('110'): np.int64(160)}\n",
            "{np.str_('000'): np.int64(5), np.str_('001'): np.int64(28), np.str_('010'): np.int64(21), np.str_('011'): np.int64(593), np.str_('100'): np.int64(111), np.str_('101'): np.int64(68), np.str_('110'): np.int64(171), np.str_('111'): np.int64(3)}\n",
            "{np.str_('000'): np.int64(4), np.str_('001'): np.int64(45), np.str_('010'): np.int64(32), np.str_('011'): np.int64(547), np.str_('100'): np.int64(131), np.str_('101'): np.int64(79), np.str_('110'): np.int64(161), np.str_('111'): np.int64(1)}\n",
            "{np.str_('000'): np.int64(5), np.str_('001'): np.int64(29), np.str_('010'): np.int64(25), np.str_('011'): np.int64(582), np.str_('100'): np.int64(111), np.str_('101'): np.int64(71), np.str_('110'): np.int64(174), np.str_('111'): np.int64(3)}\n",
            "{np.str_('000'): np.int64(3), np.str_('001'): np.int64(25), np.str_('010'): np.int64(32), np.str_('011'): np.int64(577), np.str_('100'): np.int64(114), np.str_('101'): np.int64(81), np.str_('110'): np.int64(167), np.str_('111'): np.int64(1)}\n",
            "{np.str_('000'): np.int64(2), np.str_('001'): np.int64(32), np.str_('010'): np.int64(25), np.str_('011'): np.int64(590), np.str_('100'): np.int64(116), np.str_('101'): np.int64(66), np.str_('110'): np.int64(168), np.str_('111'): np.int64(1)}\n",
            "{np.str_('000'): np.int64(6), np.str_('001'): np.int64(30), np.str_('010'): np.int64(26), np.str_('011'): np.int64(584), np.str_('100'): np.int64(125), np.str_('101'): np.int64(72), np.str_('110'): np.int64(156), np.str_('111'): np.int64(1)}\n",
            "{np.str_('000'): np.int64(6), np.str_('001'): np.int64(37), np.str_('010'): np.int64(20), np.str_('011'): np.int64(566), np.str_('100'): np.int64(125), np.str_('101'): np.int64(63), np.str_('110'): np.int64(183)}\n",
            "{np.str_('000'): np.int64(11), np.str_('001'): np.int64(32), np.str_('010'): np.int64(23), np.str_('011'): np.int64(558), np.str_('100'): np.int64(136), np.str_('101'): np.int64(76), np.str_('110'): np.int64(162), np.str_('111'): np.int64(2)}\n",
            "{np.str_('000'): np.int64(10), np.str_('001'): np.int64(35), np.str_('010'): np.int64(26), np.str_('011'): np.int64(592), np.str_('100'): np.int64(108), np.str_('101'): np.int64(70), np.str_('110'): np.int64(158), np.str_('111'): np.int64(1)}\n",
            "{np.str_('000'): np.int64(7), np.str_('001'): np.int64(21), np.str_('010'): np.int64(24), np.str_('011'): np.int64(575), np.str_('100'): np.int64(121), np.str_('101'): np.int64(85), np.str_('110'): np.int64(164), np.str_('111'): np.int64(3)}\n",
            "{np.str_('000'): np.int64(10), np.str_('001'): np.int64(37), np.str_('010'): np.int64(24), np.str_('011'): np.int64(557), np.str_('100'): np.int64(116), np.str_('101'): np.int64(71), np.str_('110'): np.int64(184), np.str_('111'): np.int64(1)}\n",
            "{np.str_('000'): np.int64(6), np.str_('001'): np.int64(36), np.str_('010'): np.int64(23), np.str_('011'): np.int64(584), np.str_('100'): np.int64(113), np.str_('101'): np.int64(83), np.str_('110'): np.int64(154), np.str_('111'): np.int64(1)}\n",
            "{np.str_('000'): np.int64(6), np.str_('001'): np.int64(31), np.str_('010'): np.int64(25), np.str_('011'): np.int64(575), np.str_('100'): np.int64(112), np.str_('101'): np.int64(77), np.str_('110'): np.int64(174)}\n",
            "{np.str_('000'): np.int64(10), np.str_('001'): np.int64(34), np.str_('010'): np.int64(21), np.str_('011'): np.int64(608), np.str_('100'): np.int64(116), np.str_('101'): np.int64(72), np.str_('110'): np.int64(137), np.str_('111'): np.int64(2)}\n",
            "{np.str_('000'): np.int64(9), np.str_('001'): np.int64(35), np.str_('010'): np.int64(23), np.str_('011'): np.int64(576), np.str_('100'): np.int64(123), np.str_('101'): np.int64(59), np.str_('110'): np.int64(175)}\n",
            "{np.str_('000'): np.int64(6), np.str_('001'): np.int64(31), np.str_('010'): np.int64(28), np.str_('011'): np.int64(576), np.str_('100'): np.int64(114), np.str_('101'): np.int64(77), np.str_('110'): np.int64(166), np.str_('111'): np.int64(2)}\n",
            "{np.str_('000'): np.int64(4), np.str_('001'): np.int64(32), np.str_('010'): np.int64(21), np.str_('011'): np.int64(617), np.str_('100'): np.int64(109), np.str_('101'): np.int64(64), np.str_('110'): np.int64(149), np.str_('111'): np.int64(4)}\n",
            "{np.str_('000'): np.int64(8), np.str_('001'): np.int64(34), np.str_('010'): np.int64(44), np.str_('011'): np.int64(541), np.str_('100'): np.int64(120), np.str_('101'): np.int64(75), np.str_('110'): np.int64(178)}\n",
            "{np.str_('000'): np.int64(7), np.str_('001'): np.int64(35), np.str_('010'): np.int64(37), np.str_('011'): np.int64(557), np.str_('100'): np.int64(127), np.str_('101'): np.int64(56), np.str_('110'): np.int64(176), np.str_('111'): np.int64(5)}\n",
            "{np.str_('000'): np.int64(10), np.str_('001'): np.int64(24), np.str_('010'): np.int64(28), np.str_('011'): np.int64(597), np.str_('100'): np.int64(107), np.str_('101'): np.int64(66), np.str_('110'): np.int64(167), np.str_('111'): np.int64(1)}\n",
            "{np.str_('000'): np.int64(13), np.str_('001'): np.int64(27), np.str_('010'): np.int64(23), np.str_('011'): np.int64(583), np.str_('100'): np.int64(119), np.str_('101'): np.int64(87), np.str_('110'): np.int64(147), np.str_('111'): np.int64(1)}\n",
            "{np.str_('000'): np.int64(6), np.str_('001'): np.int64(28), np.str_('010'): np.int64(20), np.str_('011'): np.int64(567), np.str_('100'): np.int64(117), np.str_('101'): np.int64(78), np.str_('110'): np.int64(183), np.str_('111'): np.int64(1)}\n",
            "{np.str_('000'): np.int64(3), np.str_('001'): np.int64(38), np.str_('010'): np.int64(28), np.str_('011'): np.int64(558), np.str_('100'): np.int64(118), np.str_('101'): np.int64(77), np.str_('110'): np.int64(177), np.str_('111'): np.int64(1)}\n",
            "{np.str_('000'): np.int64(11), np.str_('001'): np.int64(21), np.str_('010'): np.int64(22), np.str_('011'): np.int64(567), np.str_('100'): np.int64(116), np.str_('101'): np.int64(70), np.str_('110'): np.int64(192), np.str_('111'): np.int64(1)}\n",
            "{np.str_('000'): np.int64(4), np.str_('001'): np.int64(26), np.str_('010'): np.int64(20), np.str_('011'): np.int64(579), np.str_('100'): np.int64(127), np.str_('101'): np.int64(68), np.str_('110'): np.int64(174), np.str_('111'): np.int64(2)}\n",
            "{np.str_('000'): np.int64(7), np.str_('001'): np.int64(33), np.str_('010'): np.int64(26), np.str_('011'): np.int64(575), np.str_('100'): np.int64(119), np.str_('101'): np.int64(63), np.str_('110'): np.int64(176), np.str_('111'): np.int64(1)}\n",
            "{np.str_('000'): np.int64(4), np.str_('001'): np.int64(25), np.str_('010'): np.int64(27), np.str_('011'): np.int64(599), np.str_('100'): np.int64(107), np.str_('101'): np.int64(71), np.str_('110'): np.int64(165), np.str_('111'): np.int64(2)}\n",
            "{np.str_('000'): np.int64(7), np.str_('001'): np.int64(38), np.str_('010'): np.int64(19), np.str_('011'): np.int64(552), np.str_('100'): np.int64(111), np.str_('101'): np.int64(74), np.str_('110'): np.int64(194), np.str_('111'): np.int64(5)}\n",
            "{np.str_('000'): np.int64(7), np.str_('001'): np.int64(28), np.str_('010'): np.int64(30), np.str_('011'): np.int64(604), np.str_('100'): np.int64(93), np.str_('101'): np.int64(69), np.str_('110'): np.int64(166), np.str_('111'): np.int64(3)}\n",
            "{np.str_('000'): np.int64(5), np.str_('001'): np.int64(26), np.str_('010'): np.int64(22), np.str_('011'): np.int64(577), np.str_('100'): np.int64(120), np.str_('101'): np.int64(67), np.str_('110'): np.int64(180), np.str_('111'): np.int64(3)}\n",
            "{np.str_('000'): np.int64(6), np.str_('001'): np.int64(41), np.str_('010'): np.int64(26), np.str_('011'): np.int64(564), np.str_('100'): np.int64(115), np.str_('101'): np.int64(78), np.str_('110'): np.int64(170)}\n",
            "{np.str_('000'): np.int64(13), np.str_('001'): np.int64(39), np.str_('010'): np.int64(20), np.str_('011'): np.int64(579), np.str_('100'): np.int64(140), np.str_('101'): np.int64(71), np.str_('110'): np.int64(136), np.str_('111'): np.int64(2)}\n",
            "{np.str_('000'): np.int64(5), np.str_('001'): np.int64(19), np.str_('010'): np.int64(28), np.str_('011'): np.int64(579), np.str_('100'): np.int64(116), np.str_('101'): np.int64(67), np.str_('110'): np.int64(185), np.str_('111'): np.int64(1)}\n",
            "{np.str_('000'): np.int64(7), np.str_('001'): np.int64(33), np.str_('010'): np.int64(32), np.str_('011'): np.int64(551), np.str_('100'): np.int64(135), np.str_('101'): np.int64(81), np.str_('110'): np.int64(160), np.str_('111'): np.int64(1)}\n",
            "{np.str_('000'): np.int64(4), np.str_('001'): np.int64(26), np.str_('010'): np.int64(22), np.str_('011'): np.int64(586), np.str_('100'): np.int64(120), np.str_('101'): np.int64(67), np.str_('110'): np.int64(175)}\n",
            "{np.str_('000'): np.int64(4), np.str_('001'): np.int64(28), np.str_('010'): np.int64(25), np.str_('011'): np.int64(594), np.str_('100'): np.int64(121), np.str_('101'): np.int64(71), np.str_('110'): np.int64(157)}\n",
            "{np.str_('000'): np.int64(7), np.str_('001'): np.int64(31), np.str_('010'): np.int64(27), np.str_('011'): np.int64(566), np.str_('100'): np.int64(118), np.str_('101'): np.int64(83), np.str_('110'): np.int64(167), np.str_('111'): np.int64(1)}\n",
            "{np.str_('000'): np.int64(8), np.str_('001'): np.int64(32), np.str_('010'): np.int64(26), np.str_('011'): np.int64(570), np.str_('100'): np.int64(121), np.str_('101'): np.int64(74), np.str_('110'): np.int64(165), np.str_('111'): np.int64(4)}\n"
          ]
        },
        {
          "output_type": "execute_result",
          "data": {
            "text/plain": [
              " message: Optimization terminated successfully.\n",
              " success: True\n",
              "  status: 1\n",
              "     fun: -3.5811798048291124\n",
              "       x: [ 1.945e+00  2.151e+00 ...  1.104e+00  3.805e+00]\n",
              "    nfev: 187\n",
              "   maxcv: 0.0"
            ]
          },
          "metadata": {},
          "execution_count": 54
        }
      ]
    },
    {
      "cell_type": "markdown",
      "source": [
        "Below code computes random bounding box, and using NMS algorithm suppression takes place. Using same IOU and confidence score $H_C$ is computed to run on QAOA circuit. After optimization of QAOA macimum number of measurements shows final result using QAOA. You can see that detections using QAOA and NMS are some."
      ],
      "metadata": {
        "id": "GhHQDe6MXA8Q"
      }
    },
    {
      "cell_type": "code",
      "source": [
        "bounding_boxes, confidence_score = compute_bounding_boxes(3, [150,150])\n",
        "drawing_bounding_boxes(bounding_boxes,confidence_score)\n",
        "\n",
        "iou_matrix = compute_IOU_matrix_for_min(bounding_boxes, confidence_score,5,3,1)\n",
        "iou_matrix = np.array(iou_matrix)\n",
        "\n",
        "# iou_matrix = iou_matrix / np.max(np.abs(iou_matrix))  # Divide by max absolute value (5)\n",
        "pprint(iou_matrix)\n",
        "\n",
        "indices = cv2.dnn.NMSBoxes(bounding_boxes, confidence_score, score_threshold=0.5, nms_threshold=0.4)\n",
        "selected_boxes = [bounding_boxes[i] for i in indices.flatten()]\n",
        "print(selected_boxes)\n",
        "hel = len(selected_boxes)\n",
        "# print(goo_boxes)\n",
        "drawing_bounding_boxes(selected_boxes, selected_boxes[:hel])\n",
        "\n",
        "p = 10\n",
        "obj = get_black_box_objective(iou_matrix,p)\n",
        "init_point = np.array([0.81069872, 2.2067517 , 0.83830696, 2.15579759, 0.37060699, 2.42068091, 0.91069872, 1.2067517 , 0.88762696, 1.87679759, 0.9234699, 2.9864091, 0.5627165, 3.91827365, 0.672536, 1.9283765, 0.6351722, 1.92837364, 0.982736, 3.9182736  ])\n",
        "# init_point = np.array([0.81069872, 2.2067517 , 0.83830696, 2.15579759, 0.37060699, 2.42068091, 0.82730, 0.82736 ])\n",
        "\n",
        "res_sample = minimize(obj, init_point, method='COBYLA', options={'maxiter':5000, 'disp': True})\n",
        "res_sample"
      ],
      "metadata": {
        "colab": {
          "base_uri": "https://localhost:8080/",
          "height": 1000
        },
        "id": "mmuR3wK0WWx3",
        "outputId": "853c4c46-c69c-42e7-e0cc-7c6a51090bbe"
      },
      "execution_count": null,
      "outputs": [
        {
          "output_type": "display_data",
          "data": {
            "text/plain": [
              "<Figure size 1200x800 with 1 Axes>"
            ],
            "image/png": "[encoded data removed]"
          },
          "metadata": {}
        },
        {
          "output_type": "stream",
          "name": "stdout",
          "text": [
            "array([[-4.        ,  1.        ,  2.96542592],\n",
            "       [ 1.        , -4.9       ,  1.        ],\n",
            "       [ 2.96542592,  1.        , -4.55      ]])\n",
            "[[197, 338, 347, 488], [302, 69, 452, 219]]\n"
          ]
        },
        {
          "output_type": "display_data",
          "data": {
            "text/plain": [
              "<Figure size 1200x800 with 1 Axes>"
            ],
            "image/png": "[encoded data removed]"
          },
          "metadata": {}
        },
        {
          "output_type": "stream",
          "name": "stdout",
          "text": [
            "{np.str_('000'): np.int64(296), np.str_('001'): np.int64(108), np.str_('010'): np.int64(330), np.str_('011'): np.int64(64), np.str_('100'): np.int64(123), np.str_('101'): np.int64(61), np.str_('110'): np.int64(15), np.str_('111'): np.int64(3)}\n",
            "{np.str_('000'): np.int64(136), np.str_('001'): np.int64(8), np.str_('010'): np.int64(393), np.str_('011'): np.int64(26), np.str_('100'): np.int64(130), np.str_('101'): np.int64(58), np.str_('110'): np.int64(100), np.str_('111'): np.int64(149)}\n",
            "{np.str_('000'): np.int64(258), np.str_('001'): np.int64(25), np.str_('010'): np.int64(48), np.str_('011'): np.int64(225), np.str_('100'): np.int64(180), np.str_('101'): np.int64(20), np.str_('110'): np.int64(106), np.str_('111'): np.int64(138)}\n",
            "{np.str_('000'): np.int64(75), np.str_('001'): np.int64(120), np.str_('010'): np.int64(43), np.str_('011'): np.int64(17), np.str_('100'): np.int64(364), np.str_('101'): np.int64(288), np.str_('110'): np.int64(59), np.str_('111'): np.int64(34)}\n",
            "{np.str_('000'): np.int64(24), np.str_('001'): np.int64(39), np.str_('010'): np.int64(72), np.str_('011'): np.int64(131), np.str_('100'): np.int64(218), np.str_('101'): np.int64(200), np.str_('110'): np.int64(13), np.str_('111'): np.int64(303)}\n",
            "{np.str_('000'): np.int64(45), np.str_('001'): np.int64(53), np.str_('010'): np.int64(266), np.str_('011'): np.int64(103), np.str_('100'): np.int64(139), np.str_('101'): np.int64(89), np.str_('110'): np.int64(77), np.str_('111'): np.int64(228)}\n",
            "{np.str_('000'): np.int64(50), np.str_('001'): np.int64(322), np.str_('010'): np.int64(41), np.str_('011'): np.int64(97), np.str_('100'): np.int64(31), np.str_('101'): np.int64(109), np.str_('110'): np.int64(112), np.str_('111'): np.int64(238)}\n",
            "{np.str_('000'): np.int64(20), np.str_('001'): np.int64(31), np.str_('010'): np.int64(251), np.str_('011'): np.int64(104), np.str_('100'): np.int64(189), np.str_('101'): np.int64(111), np.str_('110'): np.int64(176), np.str_('111'): np.int64(118)}\n",
            "{np.str_('000'): np.int64(105), np.str_('001'): np.int64(24), np.str_('010'): np.int64(249), np.str_('011'): np.int64(35), np.str_('100'): np.int64(114), np.str_('101'): np.int64(36), np.str_('110'): np.int64(218), np.str_('111'): np.int64(219)}\n",
            "{np.str_('000'): np.int64(640), np.str_('001'): np.int64(120), np.str_('010'): np.int64(48), np.str_('011'): np.int64(18), np.str_('100'): np.int64(3), np.str_('101'): np.int64(59), np.str_('111'): np.int64(112)}\n",
            "{np.str_('000'): np.int64(132), np.str_('001'): np.int64(231), np.str_('010'): np.int64(58), np.str_('011'): np.int64(10), np.str_('100'): np.int64(347), np.str_('101'): np.int64(10), np.str_('110'): np.int64(10), np.str_('111'): np.int64(202)}\n",
            "{np.str_('000'): np.int64(122), np.str_('001'): np.int64(11), np.str_('010'): np.int64(87), np.str_('011'): np.int64(172), np.str_('100'): np.int64(7), np.str_('101'): np.int64(99), np.str_('110'): np.int64(323), np.str_('111'): np.int64(179)}\n",
            "{np.str_('000'): np.int64(77), np.str_('001'): np.int64(109), np.str_('010'): np.int64(217), np.str_('011'): np.int64(82), np.str_('100'): np.int64(42), np.str_('101'): np.int64(235), np.str_('110'): np.int64(124), np.str_('111'): np.int64(114)}\n",
            "{np.str_('000'): np.int64(494), np.str_('001'): np.int64(257), np.str_('010'): np.int64(19), np.str_('011'): np.int64(27), np.str_('100'): np.int64(84), np.str_('101'): np.int64(19), np.str_('110'): np.int64(93), np.str_('111'): np.int64(7)}\n",
            "{np.str_('000'): np.int64(143), np.str_('001'): np.int64(1), np.str_('010'): np.int64(86), np.str_('011'): np.int64(22), np.str_('100'): np.int64(440), np.str_('101'): np.int64(130), np.str_('110'): np.int64(6), np.str_('111'): np.int64(172)}\n",
            "{np.str_('000'): np.int64(149), np.str_('001'): np.int64(4), np.str_('010'): np.int64(84), np.str_('011'): np.int64(24), np.str_('100'): np.int64(449), np.str_('101'): np.int64(103), np.str_('110'): np.int64(4), np.str_('111'): np.int64(183)}\n",
            "{np.str_('000'): np.int64(44), np.str_('001'): np.int64(14), np.str_('010'): np.int64(636), np.str_('011'): np.int64(2), np.str_('100'): np.int64(13), np.str_('101'): np.int64(149), np.str_('110'): np.int64(123), np.str_('111'): np.int64(19)}\n",
            "{np.str_('000'): np.int64(220), np.str_('001'): np.int64(12), np.str_('010'): np.int64(29), np.str_('011'): np.int64(64), np.str_('100'): np.int64(1), np.str_('101'): np.int64(26), np.str_('110'): np.int64(5), np.str_('111'): np.int64(643)}\n",
            "{np.str_('000'): np.int64(107), np.str_('001'): np.int64(69), np.str_('010'): np.int64(276), np.str_('011'): np.int64(18), np.str_('100'): np.int64(305), np.str_('101'): np.int64(172), np.str_('110'): np.int64(30), np.str_('111'): np.int64(23)}\n",
            "{np.str_('000'): np.int64(51), np.str_('001'): np.int64(29), np.str_('010'): np.int64(205), np.str_('011'): np.int64(498), np.str_('100'): np.int64(9), np.str_('101'): np.int64(15), np.str_('110'): np.int64(134), np.str_('111'): np.int64(59)}\n",
            "{np.str_('000'): np.int64(100), np.str_('001'): np.int64(111), np.str_('010'): np.int64(473), np.str_('011'): np.int64(152), np.str_('100'): np.int64(3), np.str_('101'): np.int64(55), np.str_('110'): np.int64(76), np.str_('111'): np.int64(30)}\n",
            "{np.str_('000'): np.int64(96), np.str_('001'): np.int64(2), np.str_('010'): np.int64(112), np.str_('011'): np.int64(201), np.str_('100'): np.int64(32), np.str_('101'): np.int64(321), np.str_('110'): np.int64(110), np.str_('111'): np.int64(126)}\n",
            "{np.str_('000'): np.int64(81), np.str_('001'): np.int64(163), np.str_('010'): np.int64(196), np.str_('011'): np.int64(107), np.str_('100'): np.int64(186), np.str_('101'): np.int64(129), np.str_('110'): np.int64(61), np.str_('111'): np.int64(77)}\n",
            "{np.str_('000'): np.int64(1), np.str_('001'): np.int64(352), np.str_('010'): np.int64(70), np.str_('011'): np.int64(213), np.str_('100'): np.int64(98), np.str_('101'): np.int64(114), np.str_('110'): np.int64(78), np.str_('111'): np.int64(74)}\n",
            "{np.str_('000'): np.int64(78), np.str_('001'): np.int64(61), np.str_('010'): np.int64(200), np.str_('011'): np.int64(252), np.str_('100'): np.int64(82), np.str_('101'): np.int64(36), np.str_('110'): np.int64(60), np.str_('111'): np.int64(231)}\n",
            "{np.str_('000'): np.int64(74), np.str_('001'): np.int64(127), np.str_('010'): np.int64(97), np.str_('011'): np.int64(46), np.str_('100'): np.int64(135), np.str_('101'): np.int64(326), np.str_('110'): np.int64(114), np.str_('111'): np.int64(81)}\n",
            "{np.str_('000'): np.int64(495), np.str_('001'): np.int64(4), np.str_('010'): np.int64(237), np.str_('011'): np.int64(168), np.str_('100'): np.int64(20), np.str_('101'): np.int64(3), np.str_('110'): np.int64(13), np.str_('111'): np.int64(60)}\n",
            "{np.str_('000'): np.int64(106), np.str_('001'): np.int64(30), np.str_('010'): np.int64(195), np.str_('011'): np.int64(13), np.str_('100'): np.int64(116), np.str_('101'): np.int64(195), np.str_('110'): np.int64(280), np.str_('111'): np.int64(65)}\n",
            "{np.str_('000'): np.int64(182), np.str_('001'): np.int64(90), np.str_('010'): np.int64(40), np.str_('011'): np.int64(349), np.str_('100'): np.int64(51), np.str_('101'): np.int64(43), np.str_('110'): np.int64(193), np.str_('111'): np.int64(52)}\n",
            "{np.str_('000'): np.int64(49), np.str_('001'): np.int64(27), np.str_('010'): np.int64(82), np.str_('011'): np.int64(83), np.str_('100'): np.int64(32), np.str_('101'): np.int64(684), np.str_('110'): np.int64(25), np.str_('111'): np.int64(18)}\n",
            "{np.str_('000'): np.int64(97), np.str_('001'): np.int64(54), np.str_('010'): np.int64(88), np.str_('011'): np.int64(349), np.str_('100'): np.int64(53), np.str_('101'): np.int64(60), np.str_('110'): np.int64(86), np.str_('111'): np.int64(213)}\n",
            "{np.str_('000'): np.int64(99), np.str_('001'): np.int64(39), np.str_('010'): np.int64(215), np.str_('011'): np.int64(446), np.str_('100'): np.int64(61), np.str_('101'): np.int64(33), np.str_('110'): np.int64(104), np.str_('111'): np.int64(3)}\n",
            "{np.str_('001'): np.int64(24), np.str_('010'): np.int64(397), np.str_('011'): np.int64(143), np.str_('100'): np.int64(211), np.str_('101'): np.int64(142), np.str_('110'): np.int64(38), np.str_('111'): np.int64(45)}\n",
            "{np.str_('000'): np.int64(13), np.str_('001'): np.int64(24), np.str_('010'): np.int64(321), np.str_('011'): np.int64(411), np.str_('100'): np.int64(20), np.str_('101'): np.int64(75), np.str_('110'): np.int64(60), np.str_('111'): np.int64(76)}\n",
            "{np.str_('000'): np.int64(36), np.str_('001'): np.int64(22), np.str_('010'): np.int64(25), np.str_('011'): np.int64(124), np.str_('100'): np.int64(59), np.str_('101'): np.int64(92), np.str_('110'): np.int64(111), np.str_('111'): np.int64(531)}\n",
            "{np.str_('000'): np.int64(37), np.str_('010'): np.int64(402), np.str_('011'): np.int64(388), np.str_('100'): np.int64(12), np.str_('101'): np.int64(8), np.str_('110'): np.int64(46), np.str_('111'): np.int64(107)}\n",
            "{np.str_('000'): np.int64(118), np.str_('001'): np.int64(16), np.str_('010'): np.int64(345), np.str_('011'): np.int64(204), np.str_('100'): np.int64(84), np.str_('101'): np.int64(27), np.str_('110'): np.int64(150), np.str_('111'): np.int64(56)}\n",
            "{np.str_('000'): np.int64(57), np.str_('001'): np.int64(35), np.str_('010'): np.int64(193), np.str_('011'): np.int64(500), np.str_('100'): np.int64(20), np.str_('101'): np.int64(13), np.str_('110'): np.int64(114), np.str_('111'): np.int64(68)}\n",
            "{np.str_('000'): np.int64(103), np.str_('001'): np.int64(62), np.str_('010'): np.int64(26), np.str_('011'): np.int64(436), np.str_('100'): np.int64(18), np.str_('101'): np.int64(182), np.str_('110'): np.int64(160), np.str_('111'): np.int64(13)}\n",
            "{np.str_('000'): np.int64(106), np.str_('001'): np.int64(51), np.str_('010'): np.int64(217), np.str_('011'): np.int64(419), np.str_('100'): np.int64(64), np.str_('101'): np.int64(18), np.str_('110'): np.int64(123), np.str_('111'): np.int64(2)}\n",
            "{np.str_('000'): np.int64(70), np.str_('001'): np.int64(15), np.str_('010'): np.int64(241), np.str_('011'): np.int64(402), np.str_('100'): np.int64(49), np.str_('101'): np.int64(64), np.str_('110'): np.int64(81), np.str_('111'): np.int64(78)}\n",
            "{np.str_('000'): np.int64(12), np.str_('001'): np.int64(1), np.str_('010'): np.int64(122), np.str_('011'): np.int64(478), np.str_('100'): np.int64(22), np.str_('101'): np.int64(27), np.str_('110'): np.int64(145), np.str_('111'): np.int64(193)}\n",
            "{np.str_('000'): np.int64(24), np.str_('001'): np.int64(32), np.str_('010'): np.int64(189), np.str_('011'): np.int64(463), np.str_('100'): np.int64(26), np.str_('101'): np.int64(34), np.str_('110'): np.int64(131), np.str_('111'): np.int64(101)}\n",
            "{np.str_('000'): np.int64(39), np.str_('001'): np.int64(2), np.str_('010'): np.int64(226), np.str_('011'): np.int64(497), np.str_('100'): np.int64(24), np.str_('101'): np.int64(40), np.str_('110'): np.int64(29), np.str_('111'): np.int64(143)}\n",
            "{np.str_('000'): np.int64(39), np.str_('001'): np.int64(9), np.str_('010'): np.int64(157), np.str_('011'): np.int64(534), np.str_('100'): np.int64(4), np.str_('101'): np.int64(19), np.str_('110'): np.int64(167), np.str_('111'): np.int64(71)}\n",
            "{np.str_('000'): np.int64(25), np.str_('001'): np.int64(10), np.str_('010'): np.int64(75), np.str_('011'): np.int64(357), np.str_('100'): np.int64(8), np.str_('101'): np.int64(76), np.str_('110'): np.int64(416), np.str_('111'): np.int64(33)}\n",
            "{np.str_('000'): np.int64(9), np.str_('001'): np.int64(25), np.str_('010'): np.int64(33), np.str_('011'): np.int64(445), np.str_('100'): np.int64(2), np.str_('101'): np.int64(58), np.str_('110'): np.int64(378), np.str_('111'): np.int64(50)}\n",
            "{np.str_('000'): np.int64(51), np.str_('001'): np.int64(64), np.str_('010'): np.int64(15), np.str_('011'): np.int64(469), np.str_('100'): np.int64(3), np.str_('101'): np.int64(32), np.str_('110'): np.int64(364), np.str_('111'): np.int64(2)}\n",
            "{np.str_('000'): np.int64(31), np.str_('001'): np.int64(21), np.str_('010'): np.int64(46), np.str_('011'): np.int64(329), np.str_('100'): np.int64(3), np.str_('101'): np.int64(97), np.str_('110'): np.int64(372), np.str_('111'): np.int64(101)}\n",
            "{np.str_('000'): np.int64(10), np.str_('001'): np.int64(16), np.str_('010'): np.int64(4), np.str_('011'): np.int64(353), np.str_('100'): np.int64(13), np.str_('101'): np.int64(18), np.str_('110'): np.int64(430), np.str_('111'): np.int64(156)}\n",
            "{np.str_('000'): np.int64(10), np.str_('001'): np.int64(20), np.str_('010'): np.int64(34), np.str_('011'): np.int64(425), np.str_('100'): np.int64(12), np.str_('101'): np.int64(105), np.str_('110'): np.int64(343), np.str_('111'): np.int64(51)}\n",
            "{np.str_('000'): np.int64(29), np.str_('001'): np.int64(104), np.str_('010'): np.int64(98), np.str_('011'): np.int64(407), np.str_('100'): np.int64(6), np.str_('101'): np.int64(129), np.str_('110'): np.int64(203), np.str_('111'): np.int64(24)}\n",
            "{np.str_('000'): np.int64(77), np.str_('001'): np.int64(57), np.str_('010'): np.int64(45), np.str_('011'): np.int64(432), np.str_('100'): np.int64(1), np.str_('101'): np.int64(33), np.str_('110'): np.int64(305), np.str_('111'): np.int64(50)}\n",
            "{np.str_('000'): np.int64(28), np.str_('001'): np.int64(6), np.str_('010'): np.int64(31), np.str_('011'): np.int64(493), np.str_('100'): np.int64(10), np.str_('101'): np.int64(30), np.str_('110'): np.int64(318), np.str_('111'): np.int64(84)}\n",
            "{np.str_('000'): np.int64(1), np.str_('001'): np.int64(22), np.str_('010'): np.int64(42), np.str_('011'): np.int64(399), np.str_('100'): np.int64(18), np.str_('101'): np.int64(54), np.str_('110'): np.int64(394), np.str_('111'): np.int64(70)}\n",
            "{np.str_('000'): np.int64(81), np.str_('001'): np.int64(51), np.str_('010'): np.int64(15), np.str_('011'): np.int64(342), np.str_('100'): np.int64(5), np.str_('101'): np.int64(125), np.str_('110'): np.int64(371), np.str_('111'): np.int64(10)}\n",
            "{np.str_('000'): np.int64(3), np.str_('001'): np.int64(9), np.str_('010'): np.int64(87), np.str_('011'): np.int64(502), np.str_('100'): np.int64(18), np.str_('101'): np.int64(35), np.str_('110'): np.int64(306), np.str_('111'): np.int64(40)}\n",
            "{np.str_('000'): np.int64(29), np.str_('001'): np.int64(10), np.str_('010'): np.int64(47), np.str_('011'): np.int64(504), np.str_('100'): np.int64(51), np.str_('101'): np.int64(34), np.str_('110'): np.int64(284), np.str_('111'): np.int64(41)}\n",
            "{np.str_('000'): np.int64(20), np.str_('001'): np.int64(39), np.str_('010'): np.int64(60), np.str_('011'): np.int64(458), np.str_('100'): np.int64(1), np.str_('101'): np.int64(27), np.str_('110'): np.int64(370), np.str_('111'): np.int64(25)}\n",
            "{np.str_('000'): np.int64(40), np.str_('001'): np.int64(15), np.str_('010'): np.int64(171), np.str_('011'): np.int64(403), np.str_('100'): np.int64(62), np.str_('101'): np.int64(36), np.str_('110'): np.int64(272), np.str_('111'): np.int64(1)}\n",
            "{np.str_('000'): np.int64(27), np.str_('001'): np.int64(13), np.str_('010'): np.int64(95), np.str_('011'): np.int64(446), np.str_('100'): np.int64(8), np.str_('101'): np.int64(36), np.str_('110'): np.int64(359), np.str_('111'): np.int64(16)}\n",
            "{np.str_('000'): np.int64(9), np.str_('001'): np.int64(4), np.str_('010'): np.int64(71), np.str_('011'): np.int64(485), np.str_('100'): np.int64(19), np.str_('101'): np.int64(29), np.str_('110'): np.int64(328), np.str_('111'): np.int64(55)}\n",
            "{np.str_('000'): np.int64(3), np.str_('001'): np.int64(9), np.str_('010'): np.int64(135), np.str_('011'): np.int64(501), np.str_('100'): np.int64(18), np.str_('101'): np.int64(30), np.str_('110'): np.int64(292), np.str_('111'): np.int64(12)}\n",
            "{np.str_('000'): np.int64(2), np.str_('001'): np.int64(3), np.str_('010'): np.int64(145), np.str_('011'): np.int64(500), np.str_('100'): np.int64(30), np.str_('101'): np.int64(34), np.str_('110'): np.int64(241), np.str_('111'): np.int64(45)}\n",
            "{np.str_('000'): np.int64(16), np.str_('001'): np.int64(9), np.str_('010'): np.int64(120), np.str_('011'): np.int64(557), np.str_('100'): np.int64(37), np.str_('101'): np.int64(31), np.str_('110'): np.int64(216), np.str_('111'): np.int64(14)}\n",
            "{np.str_('000'): np.int64(14), np.str_('001'): np.int64(9), np.str_('010'): np.int64(137), np.str_('011'): np.int64(488), np.str_('100'): np.int64(31), np.str_('101'): np.int64(33), np.str_('110'): np.int64(258), np.str_('111'): np.int64(30)}\n",
            "{np.str_('000'): np.int64(1), np.str_('001'): np.int64(15), np.str_('010'): np.int64(109), np.str_('011'): np.int64(456), np.str_('100'): np.int64(8), np.str_('101'): np.int64(37), np.str_('110'): np.int64(330), np.str_('111'): np.int64(44)}\n",
            "{np.str_('000'): np.int64(11), np.str_('001'): np.int64(14), np.str_('010'): np.int64(144), np.str_('011'): np.int64(403), np.str_('100'): np.int64(24), np.str_('101'): np.int64(52), np.str_('110'): np.int64(325), np.str_('111'): np.int64(27)}\n",
            "{np.str_('000'): np.int64(9), np.str_('001'): np.int64(11), np.str_('010'): np.int64(101), np.str_('011'): np.int64(524), np.str_('100'): np.int64(7), np.str_('101'): np.int64(28), np.str_('110'): np.int64(319), np.str_('111'): np.int64(1)}\n",
            "{np.str_('000'): np.int64(4), np.str_('001'): np.int64(5), np.str_('010'): np.int64(173), np.str_('011'): np.int64(512), np.str_('100'): np.int64(22), np.str_('101'): np.int64(44), np.str_('110'): np.int64(237), np.str_('111'): np.int64(3)}\n",
            "{np.str_('000'): np.int64(18), np.str_('001'): np.int64(38), np.str_('010'): np.int64(119), np.str_('011'): np.int64(474), np.str_('100'): np.int64(6), np.str_('101'): np.int64(24), np.str_('110'): np.int64(313), np.str_('111'): np.int64(8)}\n",
            "{np.str_('001'): np.int64(26), np.str_('010'): np.int64(123), np.str_('011'): np.int64(506), np.str_('100'): np.int64(11), np.str_('101'): np.int64(25), np.str_('110'): np.int64(308), np.str_('111'): np.int64(1)}\n",
            "{np.str_('000'): np.int64(34), np.str_('001'): np.int64(3), np.str_('010'): np.int64(131), np.str_('011'): np.int64(486), np.str_('100'): np.int64(1), np.str_('101'): np.int64(25), np.str_('110'): np.int64(304), np.str_('111'): np.int64(16)}\n",
            "{np.str_('000'): np.int64(18), np.str_('001'): np.int64(15), np.str_('010'): np.int64(116), np.str_('011'): np.int64(490), np.str_('100'): np.int64(12), np.str_('101'): np.int64(31), np.str_('110'): np.int64(314), np.str_('111'): np.int64(4)}\n",
            "{np.str_('000'): np.int64(38), np.str_('001'): np.int64(5), np.str_('010'): np.int64(86), np.str_('011'): np.int64(543), np.str_('100'): np.int64(7), np.str_('101'): np.int64(1), np.str_('110'): np.int64(308), np.str_('111'): np.int64(12)}\n",
            "{np.str_('000'): np.int64(25), np.str_('001'): np.int64(12), np.str_('010'): np.int64(106), np.str_('011'): np.int64(468), np.str_('100'): np.int64(10), np.str_('101'): np.int64(34), np.str_('110'): np.int64(342), np.str_('111'): np.int64(3)}\n",
            "{np.str_('000'): np.int64(12), np.str_('001'): np.int64(43), np.str_('010'): np.int64(70), np.str_('011'): np.int64(534), np.str_('101'): np.int64(5), np.str_('110'): np.int64(334), np.str_('111'): np.int64(2)}\n",
            "{np.str_('000'): np.int64(3), np.str_('001'): np.int64(35), np.str_('010'): np.int64(76), np.str_('011'): np.int64(537), np.str_('101'): np.int64(7), np.str_('110'): np.int64(336), np.str_('111'): np.int64(6)}\n",
            "{np.str_('000'): np.int64(9), np.str_('001'): np.int64(50), np.str_('010'): np.int64(70), np.str_('011'): np.int64(510), np.str_('100'): np.int64(11), np.str_('101'): np.int64(17), np.str_('110'): np.int64(325), np.str_('111'): np.int64(8)}\n",
            "{np.str_('000'): np.int64(4), np.str_('001'): np.int64(41), np.str_('010'): np.int64(66), np.str_('011'): np.int64(537), np.str_('101'): np.int64(6), np.str_('110'): np.int64(338), np.str_('111'): np.int64(8)}\n",
            "{np.str_('000'): np.int64(5), np.str_('001'): np.int64(55), np.str_('010'): np.int64(64), np.str_('011'): np.int64(503), np.str_('100'): np.int64(8), np.str_('101'): np.int64(14), np.str_('110'): np.int64(351)}\n",
            "{np.str_('000'): np.int64(5), np.str_('001'): np.int64(28), np.str_('010'): np.int64(69), np.str_('011'): np.int64(529), np.str_('101'): np.int64(11), np.str_('110'): np.int64(346), np.str_('111'): np.int64(12)}\n",
            "{np.str_('000'): np.int64(3), np.str_('001'): np.int64(27), np.str_('010'): np.int64(65), np.str_('011'): np.int64(559), np.str_('100'): np.int64(1), np.str_('101'): np.int64(1), np.str_('110'): np.int64(342), np.str_('111'): np.int64(2)}\n",
            "{np.str_('000'): np.int64(11), np.str_('001'): np.int64(40), np.str_('010'): np.int64(78), np.str_('011'): np.int64(540), np.str_('100'): np.int64(2), np.str_('101'): np.int64(3), np.str_('110'): np.int64(322), np.str_('111'): np.int64(4)}\n",
            "{np.str_('000'): np.int64(3), np.str_('001'): np.int64(42), np.str_('010'): np.int64(70), np.str_('011'): np.int64(570), np.str_('101'): np.int64(8), np.str_('110'): np.int64(295), np.str_('111'): np.int64(12)}\n",
            "{np.str_('000'): np.int64(1), np.str_('001'): np.int64(32), np.str_('010'): np.int64(88), np.str_('011'): np.int64(548), np.str_('101'): np.int64(6), np.str_('110'): np.int64(320), np.str_('111'): np.int64(5)}\n",
            "{np.str_('000'): np.int64(3), np.str_('001'): np.int64(53), np.str_('010'): np.int64(32), np.str_('011'): np.int64(417), np.str_('100'): np.int64(7), np.str_('101'): np.int64(12), np.str_('110'): np.int64(460), np.str_('111'): np.int64(16)}\n",
            "{np.str_('000'): np.int64(3), np.str_('001'): np.int64(23), np.str_('010'): np.int64(38), np.str_('011'): np.int64(545), np.str_('101'): np.int64(3), np.str_('110'): np.int64(385), np.str_('111'): np.int64(3)}\n",
            "{np.str_('000'): np.int64(41), np.str_('001'): np.int64(36), np.str_('010'): np.int64(39), np.str_('011'): np.int64(516), np.str_('101'): np.int64(13), np.str_('110'): np.int64(350), np.str_('111'): np.int64(5)}\n",
            "{np.str_('001'): np.int64(15), np.str_('010'): np.int64(47), np.str_('011'): np.int64(564), np.str_('101'): np.int64(7), np.str_('110'): np.int64(357), np.str_('111'): np.int64(10)}\n",
            "{np.str_('000'): np.int64(27), np.str_('001'): np.int64(18), np.str_('010'): np.int64(25), np.str_('011'): np.int64(573), np.str_('100'): np.int64(6), np.str_('101'): np.int64(10), np.str_('110'): np.int64(326), np.str_('111'): np.int64(15)}\n",
            "{np.str_('000'): np.int64(5), np.str_('001'): np.int64(29), np.str_('010'): np.int64(32), np.str_('011'): np.int64(544), np.str_('100'): np.int64(1), np.str_('101'): np.int64(6), np.str_('110'): np.int64(380), np.str_('111'): np.int64(3)}\n",
            "{np.str_('000'): np.int64(7), np.str_('001'): np.int64(11), np.str_('010'): np.int64(47), np.str_('011'): np.int64(525), np.str_('101'): np.int64(14), np.str_('110'): np.int64(368), np.str_('111'): np.int64(28)}\n",
            "{np.str_('000'): np.int64(7), np.str_('001'): np.int64(38), np.str_('010'): np.int64(38), np.str_('011'): np.int64(547), np.str_('100'): np.int64(1), np.str_('101'): np.int64(4), np.str_('110'): np.int64(365)}\n",
            "{np.str_('000'): np.int64(1), np.str_('001'): np.int64(21), np.str_('010'): np.int64(33), np.str_('011'): np.int64(571), np.str_('101'): np.int64(1), np.str_('110'): np.int64(372), np.str_('111'): np.int64(1)}\n",
            "{np.str_('000'): np.int64(2), np.str_('001'): np.int64(31), np.str_('010'): np.int64(49), np.str_('011'): np.int64(543), np.str_('101'): np.int64(3), np.str_('110'): np.int64(372)}\n",
            "{np.str_('000'): np.int64(1), np.str_('001'): np.int64(29), np.str_('010'): np.int64(55), np.str_('011'): np.int64(569), np.str_('101'): np.int64(2), np.str_('110'): np.int64(340), np.str_('111'): np.int64(4)}\n",
            "{np.str_('000'): np.int64(2), np.str_('001'): np.int64(12), np.str_('010'): np.int64(36), np.str_('011'): np.int64(582), np.str_('100'): np.int64(1), np.str_('110'): np.int64(365), np.str_('111'): np.int64(2)}\n",
            "{np.str_('000'): np.int64(3), np.str_('001'): np.int64(10), np.str_('010'): np.int64(27), np.str_('011'): np.int64(625), np.str_('101'): np.int64(2), np.str_('110'): np.int64(328), np.str_('111'): np.int64(5)}\n",
            "{np.str_('000'): np.int64(43), np.str_('001'): np.int64(5), np.str_('010'): np.int64(29), np.str_('011'): np.int64(545), np.str_('100'): np.int64(2), np.str_('101'): np.int64(4), np.str_('110'): np.int64(370), np.str_('111'): np.int64(2)}\n",
            "{np.str_('000'): np.int64(4), np.str_('001'): np.int64(15), np.str_('010'): np.int64(35), np.str_('011'): np.int64(610), np.str_('101'): np.int64(3), np.str_('110'): np.int64(328), np.str_('111'): np.int64(5)}\n",
            "{np.str_('000'): np.int64(11), np.str_('001'): np.int64(16), np.str_('010'): np.int64(35), np.str_('011'): np.int64(562), np.str_('100'): np.int64(2), np.str_('101'): np.int64(6), np.str_('110'): np.int64(360), np.str_('111'): np.int64(8)}\n",
            "{np.str_('000'): np.int64(4), np.str_('001'): np.int64(21), np.str_('010'): np.int64(32), np.str_('011'): np.int64(619), np.str_('110'): np.int64(320), np.str_('111'): np.int64(4)}\n",
            "{np.str_('000'): np.int64(2), np.str_('001'): np.int64(11), np.str_('010'): np.int64(33), np.str_('011'): np.int64(621), np.str_('110'): np.int64(316), np.str_('111'): np.int64(17)}\n",
            "{np.str_('000'): np.int64(4), np.str_('001'): np.int64(11), np.str_('010'): np.int64(30), np.str_('011'): np.int64(606), np.str_('100'): np.int64(2), np.str_('101'): np.int64(6), np.str_('110'): np.int64(338), np.str_('111'): np.int64(3)}\n",
            "{np.str_('000'): np.int64(6), np.str_('001'): np.int64(21), np.str_('010'): np.int64(12), np.str_('011'): np.int64(515), np.str_('100'): np.int64(3), np.str_('101'): np.int64(6), np.str_('110'): np.int64(435), np.str_('111'): np.int64(2)}\n",
            "{np.str_('000'): np.int64(7), np.str_('001'): np.int64(8), np.str_('010'): np.int64(34), np.str_('011'): np.int64(607), np.str_('100'): np.int64(1), np.str_('101'): np.int64(4), np.str_('110'): np.int64(339)}\n",
            "{np.str_('000'): np.int64(14), np.str_('001'): np.int64(7), np.str_('010'): np.int64(44), np.str_('011'): np.int64(565), np.str_('100'): np.int64(6), np.str_('101'): np.int64(6), np.str_('110'): np.int64(354), np.str_('111'): np.int64(4)}\n",
            "{np.str_('000'): np.int64(10), np.str_('001'): np.int64(9), np.str_('010'): np.int64(45), np.str_('011'): np.int64(592), np.str_('100'): np.int64(2), np.str_('101'): np.int64(1), np.str_('110'): np.int64(329), np.str_('111'): np.int64(12)}\n",
            "{np.str_('000'): np.int64(6), np.str_('001'): np.int64(4), np.str_('010'): np.int64(45), np.str_('011'): np.int64(590), np.str_('100'): np.int64(3), np.str_('101'): np.int64(6), np.str_('110'): np.int64(338), np.str_('111'): np.int64(8)}\n",
            "{np.str_('000'): np.int64(4), np.str_('001'): np.int64(20), np.str_('010'): np.int64(28), np.str_('011'): np.int64(577), np.str_('101'): np.int64(7), np.str_('110'): np.int64(359), np.str_('111'): np.int64(5)}\n",
            "{np.str_('000'): np.int64(8), np.str_('001'): np.int64(19), np.str_('010'): np.int64(38), np.str_('011'): np.int64(594), np.str_('100'): np.int64(1), np.str_('110'): np.int64(335), np.str_('111'): np.int64(5)}\n",
            "{np.str_('000'): np.int64(2), np.str_('001'): np.int64(8), np.str_('010'): np.int64(37), np.str_('011'): np.int64(617), np.str_('100'): np.int64(1), np.str_('101'): np.int64(1), np.str_('110'): np.int64(330), np.str_('111'): np.int64(4)}\n",
            "{np.str_('000'): np.int64(13), np.str_('001'): np.int64(8), np.str_('010'): np.int64(44), np.str_('011'): np.int64(586), np.str_('100'): np.int64(1), np.str_('101'): np.int64(2), np.str_('110'): np.int64(341), np.str_('111'): np.int64(5)}\n",
            "{np.str_('000'): np.int64(4), np.str_('001'): np.int64(19), np.str_('010'): np.int64(43), np.str_('011'): np.int64(592), np.str_('101'): np.int64(2), np.str_('110'): np.int64(336), np.str_('111'): np.int64(4)}\n",
            "{np.str_('000'): np.int64(7), np.str_('001'): np.int64(14), np.str_('010'): np.int64(35), np.str_('011'): np.int64(589), np.str_('100'): np.int64(2), np.str_('101'): np.int64(1), np.str_('110'): np.int64(351), np.str_('111'): np.int64(1)}\n",
            "{np.str_('000'): np.int64(9), np.str_('001'): np.int64(17), np.str_('010'): np.int64(37), np.str_('011'): np.int64(558), np.str_('100'): np.int64(1), np.str_('101'): np.int64(2), np.str_('110'): np.int64(373), np.str_('111'): np.int64(3)}\n",
            "{np.str_('000'): np.int64(8), np.str_('001'): np.int64(11), np.str_('010'): np.int64(50), np.str_('011'): np.int64(560), np.str_('100'): np.int64(2), np.str_('101'): np.int64(4), np.str_('110'): np.int64(353), np.str_('111'): np.int64(12)}\n",
            "{np.str_('000'): np.int64(2), np.str_('001'): np.int64(13), np.str_('010'): np.int64(39), np.str_('011'): np.int64(572), np.str_('101'): np.int64(4), np.str_('110'): np.int64(368), np.str_('111'): np.int64(2)}\n",
            "{np.str_('000'): np.int64(4), np.str_('001'): np.int64(11), np.str_('010'): np.int64(35), np.str_('011'): np.int64(581), np.str_('101'): np.int64(2), np.str_('110'): np.int64(363), np.str_('111'): np.int64(4)}\n",
            "{np.str_('000'): np.int64(8), np.str_('001'): np.int64(14), np.str_('010'): np.int64(32), np.str_('011'): np.int64(613), np.str_('100'): np.int64(1), np.str_('101'): np.int64(5), np.str_('110'): np.int64(326), np.str_('111'): np.int64(1)}\n",
            "{np.str_('000'): np.int64(8), np.str_('001'): np.int64(8), np.str_('010'): np.int64(38), np.str_('011'): np.int64(576), np.str_('100'): np.int64(1), np.str_('101'): np.int64(7), np.str_('110'): np.int64(361), np.str_('111'): np.int64(1)}\n",
            "{np.str_('000'): np.int64(4), np.str_('001'): np.int64(15), np.str_('010'): np.int64(24), np.str_('011'): np.int64(576), np.str_('101'): np.int64(6), np.str_('110'): np.int64(373), np.str_('111'): np.int64(2)}\n",
            "{np.str_('000'): np.int64(2), np.str_('001'): np.int64(10), np.str_('010'): np.int64(39), np.str_('011'): np.int64(598), np.str_('101'): np.int64(1), np.str_('110'): np.int64(350)}\n",
            "{np.str_('000'): np.int64(9), np.str_('001'): np.int64(10), np.str_('010'): np.int64(35), np.str_('011'): np.int64(585), np.str_('110'): np.int64(360), np.str_('111'): np.int64(1)}\n",
            "{np.str_('000'): np.int64(6), np.str_('001'): np.int64(15), np.str_('010'): np.int64(36), np.str_('011'): np.int64(609), np.str_('101'): np.int64(4), np.str_('110'): np.int64(330)}\n",
            "{np.str_('000'): np.int64(4), np.str_('001'): np.int64(15), np.str_('010'): np.int64(31), np.str_('011'): np.int64(584), np.str_('101'): np.int64(5), np.str_('110'): np.int64(359), np.str_('111'): np.int64(2)}\n",
            "{np.str_('000'): np.int64(3), np.str_('001'): np.int64(13), np.str_('010'): np.int64(26), np.str_('011'): np.int64(586), np.str_('100'): np.int64(2), np.str_('101'): np.int64(4), np.str_('110'): np.int64(365), np.str_('111'): np.int64(1)}\n",
            "{np.str_('000'): np.int64(3), np.str_('001'): np.int64(15), np.str_('010'): np.int64(40), np.str_('011'): np.int64(581), np.str_('101'): np.int64(4), np.str_('110'): np.int64(355), np.str_('111'): np.int64(2)}\n",
            "{np.str_('000'): np.int64(6), np.str_('001'): np.int64(11), np.str_('010'): np.int64(48), np.str_('011'): np.int64(595), np.str_('100'): np.int64(1), np.str_('101'): np.int64(2), np.str_('110'): np.int64(334), np.str_('111'): np.int64(3)}\n",
            "{np.str_('000'): np.int64(4), np.str_('001'): np.int64(11), np.str_('010'): np.int64(43), np.str_('011'): np.int64(562), np.str_('100'): np.int64(2), np.str_('101'): np.int64(3), np.str_('110'): np.int64(368), np.str_('111'): np.int64(7)}\n",
            "{np.str_('000'): np.int64(3), np.str_('001'): np.int64(14), np.str_('010'): np.int64(28), np.str_('011'): np.int64(591), np.str_('100'): np.int64(1), np.str_('101'): np.int64(3), np.str_('110'): np.int64(356), np.str_('111'): np.int64(4)}\n",
            "{np.str_('000'): np.int64(13), np.str_('001'): np.int64(15), np.str_('010'): np.int64(40), np.str_('011'): np.int64(587), np.str_('101'): np.int64(3), np.str_('110'): np.int64(339), np.str_('111'): np.int64(3)}\n",
            "{np.str_('000'): np.int64(5), np.str_('001'): np.int64(10), np.str_('010'): np.int64(30), np.str_('011'): np.int64(570), np.str_('101'): np.int64(2), np.str_('110'): np.int64(378), np.str_('111'): np.int64(5)}\n",
            "{np.str_('000'): np.int64(5), np.str_('001'): np.int64(16), np.str_('010'): np.int64(46), np.str_('011'): np.int64(557), np.str_('100'): np.int64(1), np.str_('101'): np.int64(2), np.str_('110'): np.int64(370), np.str_('111'): np.int64(3)}\n",
            "{np.str_('000'): np.int64(6), np.str_('001'): np.int64(12), np.str_('010'): np.int64(31), np.str_('011'): np.int64(576), np.str_('101'): np.int64(2), np.str_('110'): np.int64(372), np.str_('111'): np.int64(1)}\n",
            "{np.str_('000'): np.int64(5), np.str_('001'): np.int64(15), np.str_('010'): np.int64(25), np.str_('011'): np.int64(589), np.str_('101'): np.int64(4), np.str_('110'): np.int64(359), np.str_('111'): np.int64(3)}\n",
            "{np.str_('001'): np.int64(12), np.str_('010'): np.int64(40), np.str_('011'): np.int64(626), np.str_('101'): np.int64(6), np.str_('110'): np.int64(315), np.str_('111'): np.int64(1)}\n",
            "{np.str_('000'): np.int64(4), np.str_('001'): np.int64(13), np.str_('010'): np.int64(45), np.str_('011'): np.int64(587), np.str_('101'): np.int64(4), np.str_('110'): np.int64(345), np.str_('111'): np.int64(2)}\n",
            "{np.str_('000'): np.int64(5), np.str_('001'): np.int64(11), np.str_('010'): np.int64(34), np.str_('011'): np.int64(578), np.str_('100'): np.int64(1), np.str_('101'): np.int64(5), np.str_('110'): np.int64(361), np.str_('111'): np.int64(5)}\n",
            "{np.str_('000'): np.int64(2), np.str_('001'): np.int64(12), np.str_('010'): np.int64(54), np.str_('011'): np.int64(564), np.str_('100'): np.int64(2), np.str_('101'): np.int64(1), np.str_('110'): np.int64(362), np.str_('111'): np.int64(3)}\n",
            "{np.str_('000'): np.int64(2), np.str_('001'): np.int64(14), np.str_('010'): np.int64(33), np.str_('011'): np.int64(593), np.str_('101'): np.int64(2), np.str_('110'): np.int64(351), np.str_('111'): np.int64(5)}\n",
            "{np.str_('000'): np.int64(5), np.str_('001'): np.int64(13), np.str_('010'): np.int64(31), np.str_('011'): np.int64(603), np.str_('101'): np.int64(4), np.str_('110'): np.int64(340), np.str_('111'): np.int64(4)}\n",
            "{np.str_('000'): np.int64(6), np.str_('001'): np.int64(11), np.str_('010'): np.int64(30), np.str_('011'): np.int64(590), np.str_('100'): np.int64(1), np.str_('101'): np.int64(4), np.str_('110'): np.int64(356), np.str_('111'): np.int64(2)}\n",
            "{np.str_('000'): np.int64(5), np.str_('001'): np.int64(13), np.str_('010'): np.int64(31), np.str_('011'): np.int64(608), np.str_('101'): np.int64(5), np.str_('110'): np.int64(335), np.str_('111'): np.int64(3)}\n",
            "{np.str_('000'): np.int64(4), np.str_('001'): np.int64(15), np.str_('010'): np.int64(38), np.str_('011'): np.int64(579), np.str_('100'): np.int64(1), np.str_('101'): np.int64(5), np.str_('110'): np.int64(356), np.str_('111'): np.int64(2)}\n",
            "{np.str_('000'): np.int64(6), np.str_('001'): np.int64(12), np.str_('010'): np.int64(51), np.str_('011'): np.int64(586), np.str_('101'): np.int64(2), np.str_('110'): np.int64(339), np.str_('111'): np.int64(4)}\n",
            "{np.str_('000'): np.int64(6), np.str_('001'): np.int64(13), np.str_('010'): np.int64(29), np.str_('011'): np.int64(576), np.str_('101'): np.int64(3), np.str_('110'): np.int64(366), np.str_('111'): np.int64(7)}\n",
            "{np.str_('000'): np.int64(6), np.str_('001'): np.int64(8), np.str_('010'): np.int64(34), np.str_('011'): np.int64(580), np.str_('101'): np.int64(2), np.str_('110'): np.int64(363), np.str_('111'): np.int64(7)}\n",
            "{np.str_('000'): np.int64(3), np.str_('001'): np.int64(19), np.str_('010'): np.int64(40), np.str_('011'): np.int64(564), np.str_('101'): np.int64(1), np.str_('110'): np.int64(371), np.str_('111'): np.int64(2)}\n",
            "{np.str_('000'): np.int64(10), np.str_('001'): np.int64(11), np.str_('010'): np.int64(39), np.str_('011'): np.int64(584), np.str_('101'): np.int64(5), np.str_('110'): np.int64(349), np.str_('111'): np.int64(2)}\n",
            "{np.str_('000'): np.int64(4), np.str_('001'): np.int64(18), np.str_('010'): np.int64(31), np.str_('011'): np.int64(567), np.str_('100'): np.int64(1), np.str_('101'): np.int64(3), np.str_('110'): np.int64(374), np.str_('111'): np.int64(2)}\n",
            "{np.str_('000'): np.int64(7), np.str_('001'): np.int64(14), np.str_('010'): np.int64(36), np.str_('011'): np.int64(564), np.str_('100'): np.int64(1), np.str_('101'): np.int64(2), np.str_('110'): np.int64(373), np.str_('111'): np.int64(3)}\n",
            "{np.str_('000'): np.int64(8), np.str_('001'): np.int64(12), np.str_('010'): np.int64(46), np.str_('011'): np.int64(577), np.str_('101'): np.int64(3), np.str_('110'): np.int64(351), np.str_('111'): np.int64(3)}\n",
            "{np.str_('000'): np.int64(5), np.str_('001'): np.int64(13), np.str_('010'): np.int64(29), np.str_('011'): np.int64(590), np.str_('100'): np.int64(1), np.str_('101'): np.int64(4), np.str_('110'): np.int64(355), np.str_('111'): np.int64(3)}\n",
            "{np.str_('000'): np.int64(3), np.str_('001'): np.int64(16), np.str_('010'): np.int64(36), np.str_('011'): np.int64(609), np.str_('101'): np.int64(1), np.str_('110'): np.int64(330), np.str_('111'): np.int64(5)}\n",
            "{np.str_('000'): np.int64(5), np.str_('001'): np.int64(11), np.str_('010'): np.int64(46), np.str_('011'): np.int64(570), np.str_('101'): np.int64(4), np.str_('110'): np.int64(362), np.str_('111'): np.int64(2)}\n",
            "{np.str_('000'): np.int64(6), np.str_('001'): np.int64(11), np.str_('010'): np.int64(36), np.str_('011'): np.int64(599), np.str_('101'): np.int64(5), np.str_('110'): np.int64(340), np.str_('111'): np.int64(3)}\n",
            "{np.str_('000'): np.int64(2), np.str_('001'): np.int64(12), np.str_('010'): np.int64(53), np.str_('011'): np.int64(565), np.str_('101'): np.int64(4), np.str_('110'): np.int64(360), np.str_('111'): np.int64(4)}\n",
            "{np.str_('000'): np.int64(7), np.str_('001'): np.int64(14), np.str_('010'): np.int64(33), np.str_('011'): np.int64(594), np.str_('101'): np.int64(5), np.str_('110'): np.int64(344), np.str_('111'): np.int64(3)}\n",
            "{np.str_('000'): np.int64(3), np.str_('001'): np.int64(10), np.str_('010'): np.int64(38), np.str_('011'): np.int64(592), np.str_('101'): np.int64(2), np.str_('110'): np.int64(353), np.str_('111'): np.int64(2)}\n",
            "{np.str_('000'): np.int64(4), np.str_('001'): np.int64(10), np.str_('010'): np.int64(34), np.str_('011'): np.int64(579), np.str_('100'): np.int64(1), np.str_('101'): np.int64(6), np.str_('110'): np.int64(366)}\n",
            "{np.str_('000'): np.int64(6), np.str_('001'): np.int64(13), np.str_('010'): np.int64(32), np.str_('011'): np.int64(586), np.str_('100'): np.int64(2), np.str_('101'): np.int64(5), np.str_('110'): np.int64(352), np.str_('111'): np.int64(4)}\n",
            "{np.str_('000'): np.int64(6), np.str_('001'): np.int64(7), np.str_('010'): np.int64(31), np.str_('011'): np.int64(566), np.str_('100'): np.int64(1), np.str_('101'): np.int64(2), np.str_('110'): np.int64(386), np.str_('111'): np.int64(1)}\n",
            "{np.str_('000'): np.int64(5), np.str_('001'): np.int64(16), np.str_('010'): np.int64(28), np.str_('011'): np.int64(587), np.str_('101'): np.int64(5), np.str_('110'): np.int64(358), np.str_('111'): np.int64(1)}\n",
            "{np.str_('000'): np.int64(5), np.str_('001'): np.int64(7), np.str_('010'): np.int64(35), np.str_('011'): np.int64(591), np.str_('100'): np.int64(1), np.str_('101'): np.int64(1), np.str_('110'): np.int64(350), np.str_('111'): np.int64(10)}\n",
            "{np.str_('000'): np.int64(9), np.str_('001'): np.int64(8), np.str_('010'): np.int64(39), np.str_('011'): np.int64(579), np.str_('100'): np.int64(3), np.str_('101'): np.int64(4), np.str_('110'): np.int64(351), np.str_('111'): np.int64(7)}\n",
            "{np.str_('000'): np.int64(6), np.str_('001'): np.int64(17), np.str_('010'): np.int64(38), np.str_('011'): np.int64(565), np.str_('101'): np.int64(1), np.str_('110'): np.int64(366), np.str_('111'): np.int64(7)}\n",
            "{np.str_('000'): np.int64(7), np.str_('001'): np.int64(17), np.str_('010'): np.int64(30), np.str_('011'): np.int64(602), np.str_('101'): np.int64(4), np.str_('110'): np.int64(338), np.str_('111'): np.int64(2)}\n",
            "{np.str_('000'): np.int64(6), np.str_('001'): np.int64(18), np.str_('010'): np.int64(27), np.str_('011'): np.int64(588), np.str_('100'): np.int64(1), np.str_('101'): np.int64(2), np.str_('110'): np.int64(354), np.str_('111'): np.int64(4)}\n",
            "{np.str_('000'): np.int64(10), np.str_('001'): np.int64(8), np.str_('010'): np.int64(33), np.str_('011'): np.int64(589), np.str_('101'): np.int64(3), np.str_('110'): np.int64(356), np.str_('111'): np.int64(1)}\n",
            "{np.str_('000'): np.int64(5), np.str_('001'): np.int64(12), np.str_('010'): np.int64(34), np.str_('011'): np.int64(586), np.str_('101'): np.int64(1), np.str_('110'): np.int64(360), np.str_('111'): np.int64(2)}\n",
            "{np.str_('000'): np.int64(4), np.str_('001'): np.int64(15), np.str_('010'): np.int64(35), np.str_('011'): np.int64(570), np.str_('101'): np.int64(4), np.str_('110'): np.int64(370), np.str_('111'): np.int64(2)}\n",
            "{np.str_('000'): np.int64(4), np.str_('001'): np.int64(13), np.str_('010'): np.int64(37), np.str_('011'): np.int64(579), np.str_('101'): np.int64(4), np.str_('110'): np.int64(360), np.str_('111'): np.int64(3)}\n",
            "{np.str_('000'): np.int64(5), np.str_('001'): np.int64(9), np.str_('010'): np.int64(31), np.str_('011'): np.int64(603), np.str_('100'): np.int64(2), np.str_('101'): np.int64(2), np.str_('110'): np.int64(343), np.str_('111'): np.int64(5)}\n",
            "{np.str_('000'): np.int64(2), np.str_('001'): np.int64(11), np.str_('010'): np.int64(34), np.str_('011'): np.int64(610), np.str_('101'): np.int64(3), np.str_('110'): np.int64(339), np.str_('111'): np.int64(1)}\n",
            "{np.str_('000'): np.int64(6), np.str_('001'): np.int64(13), np.str_('010'): np.int64(27), np.str_('011'): np.int64(614), np.str_('101'): np.int64(6), np.str_('110'): np.int64(333), np.str_('111'): np.int64(1)}\n",
            "{np.str_('000'): np.int64(10), np.str_('001'): np.int64(9), np.str_('010'): np.int64(25), np.str_('011'): np.int64(590), np.str_('100'): np.int64(1), np.str_('101'): np.int64(3), np.str_('110'): np.int64(360), np.str_('111'): np.int64(2)}\n",
            "{np.str_('000'): np.int64(4), np.str_('001'): np.int64(13), np.str_('010'): np.int64(33), np.str_('011'): np.int64(600), np.str_('101'): np.int64(2), np.str_('110'): np.int64(347), np.str_('111'): np.int64(1)}\n",
            "{np.str_('000'): np.int64(8), np.str_('001'): np.int64(14), np.str_('010'): np.int64(44), np.str_('011'): np.int64(580), np.str_('101'): np.int64(6), np.str_('110'): np.int64(345), np.str_('111'): np.int64(3)}\n",
            "{np.str_('000'): np.int64(6), np.str_('001'): np.int64(19), np.str_('010'): np.int64(32), np.str_('011'): np.int64(574), np.str_('101'): np.int64(2), np.str_('110'): np.int64(363), np.str_('111'): np.int64(4)}\n",
            "{np.str_('000'): np.int64(11), np.str_('001'): np.int64(8), np.str_('010'): np.int64(36), np.str_('011'): np.int64(595), np.str_('100'): np.int64(2), np.str_('101'): np.int64(3), np.str_('110'): np.int64(343), np.str_('111'): np.int64(2)}\n",
            "{np.str_('000'): np.int64(3), np.str_('001'): np.int64(21), np.str_('010'): np.int64(38), np.str_('011'): np.int64(575), np.str_('101'): np.int64(5), np.str_('110'): np.int64(356), np.str_('111'): np.int64(2)}\n",
            "{np.str_('000'): np.int64(9), np.str_('001'): np.int64(16), np.str_('010'): np.int64(20), np.str_('011'): np.int64(596), np.str_('101'): np.int64(3), np.str_('110'): np.int64(355), np.str_('111'): np.int64(1)}\n",
            "{np.str_('000'): np.int64(7), np.str_('001'): np.int64(17), np.str_('010'): np.int64(37), np.str_('011'): np.int64(570), np.str_('101'): np.int64(3), np.str_('110'): np.int64(365), np.str_('111'): np.int64(1)}\n",
            "{np.str_('000'): np.int64(8), np.str_('001'): np.int64(10), np.str_('010'): np.int64(21), np.str_('011'): np.int64(595), np.str_('101'): np.int64(1), np.str_('110'): np.int64(363), np.str_('111'): np.int64(2)}\n",
            "{np.str_('000'): np.int64(5), np.str_('001'): np.int64(15), np.str_('010'): np.int64(33), np.str_('011'): np.int64(585), np.str_('100'): np.int64(1), np.str_('101'): np.int64(2), np.str_('110'): np.int64(352), np.str_('111'): np.int64(7)}\n",
            "{np.str_('000'): np.int64(2), np.str_('001'): np.int64(14), np.str_('010'): np.int64(42), np.str_('011'): np.int64(573), np.str_('101'): np.int64(3), np.str_('110'): np.int64(364), np.str_('111'): np.int64(2)}\n",
            "{np.str_('000'): np.int64(5), np.str_('001'): np.int64(6), np.str_('010'): np.int64(36), np.str_('011'): np.int64(618), np.str_('101'): np.int64(1), np.str_('110'): np.int64(330), np.str_('111'): np.int64(4)}\n",
            "{np.str_('000'): np.int64(7), np.str_('001'): np.int64(11), np.str_('010'): np.int64(49), np.str_('011'): np.int64(574), np.str_('100'): np.int64(1), np.str_('101'): np.int64(4), np.str_('110'): np.int64(351), np.str_('111'): np.int64(3)}\n",
            "{np.str_('000'): np.int64(4), np.str_('001'): np.int64(17), np.str_('010'): np.int64(29), np.str_('011'): np.int64(579), np.str_('100'): np.int64(2), np.str_('101'): np.int64(7), np.str_('110'): np.int64(359), np.str_('111'): np.int64(3)}\n",
            "{np.str_('000'): np.int64(6), np.str_('001'): np.int64(12), np.str_('010'): np.int64(29), np.str_('011'): np.int64(576), np.str_('101'): np.int64(2), np.str_('110'): np.int64(371), np.str_('111'): np.int64(4)}\n",
            "{np.str_('000'): np.int64(7), np.str_('001'): np.int64(11), np.str_('010'): np.int64(24), np.str_('011'): np.int64(606), np.str_('101'): np.int64(8), np.str_('110'): np.int64(343), np.str_('111'): np.int64(1)}\n",
            "{np.str_('000'): np.int64(6), np.str_('001'): np.int64(17), np.str_('010'): np.int64(35), np.str_('011'): np.int64(571), np.str_('100'): np.int64(4), np.str_('101'): np.int64(2), np.str_('110'): np.int64(362), np.str_('111'): np.int64(3)}\n",
            "{np.str_('000'): np.int64(3), np.str_('001'): np.int64(11), np.str_('010'): np.int64(30), np.str_('011'): np.int64(618), np.str_('101'): np.int64(6), np.str_('110'): np.int64(331), np.str_('111'): np.int64(1)}\n",
            "{np.str_('000'): np.int64(6), np.str_('001'): np.int64(14), np.str_('010'): np.int64(30), np.str_('011'): np.int64(558), np.str_('101'): np.int64(6), np.str_('110'): np.int64(383), np.str_('111'): np.int64(3)}\n",
            "{np.str_('000'): np.int64(7), np.str_('001'): np.int64(8), np.str_('010'): np.int64(36), np.str_('011'): np.int64(580), np.str_('100'): np.int64(1), np.str_('101'): np.int64(5), np.str_('110'): np.int64(358), np.str_('111'): np.int64(5)}\n",
            "{np.str_('000'): np.int64(8), np.str_('001'): np.int64(10), np.str_('010'): np.int64(33), np.str_('011'): np.int64(590), np.str_('101'): np.int64(4), np.str_('110'): np.int64(353), np.str_('111'): np.int64(2)}\n",
            "{np.str_('000'): np.int64(4), np.str_('001'): np.int64(13), np.str_('010'): np.int64(36), np.str_('011'): np.int64(573), np.str_('100'): np.int64(1), np.str_('101'): np.int64(2), np.str_('110'): np.int64(361), np.str_('111'): np.int64(10)}\n",
            "{np.str_('000'): np.int64(4), np.str_('001'): np.int64(15), np.str_('010'): np.int64(37), np.str_('011'): np.int64(598), np.str_('101'): np.int64(1), np.str_('110'): np.int64(343), np.str_('111'): np.int64(2)}\n"
          ]
        },
        {
          "output_type": "execute_result",
          "data": {
            "text/plain": [
              " message: Optimization terminated successfully.\n",
              " success: True\n",
              "  status: 1\n",
              "     fun: -7.081007444460791\n",
              "       x: [ 1.735e+00  2.208e+00 ...  1.971e+00  3.818e+00]\n",
              "    nfev: 200\n",
              "   maxcv: 0.0"
            ]
          },
          "metadata": {},
          "execution_count": 56
        }
      ]
    },
    {
      "cell_type": "code",
      "source": [
        "p_size = []\n",
        "eigen_value = []\n",
        "\n",
        "for i in range(1,15):\n",
        "  init_point = random_array = np.random.rand(2*i)\n",
        "  p_size.append(i)\n",
        "\n",
        "  obj = get_black_box_objective(iou_matrix,i)\n",
        "\n",
        "  res_sample = minimize(obj, init_point, method='COBYLA', options={'maxiter':5000, 'disp': True})\n",
        "  eigen_value.append(res_sample.fun)\n",
        "\n",
        "plt.plot(p_size, eigen_value)\n",
        "plt.xlabel('p')\n",
        "plt.ylabel('Eigen Value')\n",
        "plt.title('Eigen Value vs p')\n",
        "plt.show()\n",
        "  # res_sample"
      ],
      "metadata": {
        "colab": {
          "base_uri": "https://localhost:8080/",
          "height": 472
        },
        "id": "TfUQDwmtdZeY",
        "outputId": "8ef4adc3-5552-40dc-a815-1a1f7171b8f3"
      },
      "execution_count": null,
      "outputs": [
        {
          "output_type": "display_data",
          "data": {
            "text/plain": [
              "<Figure size 640x480 with 1 Axes>"
            ],
            "image/png": "[encoded data removed]"
          },
          "metadata": {}
        }
      ]
    }
  ]
}