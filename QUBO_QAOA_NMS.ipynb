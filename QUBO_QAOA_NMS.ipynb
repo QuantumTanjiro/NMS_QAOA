{
  "cells": [
    {
      "cell_type": "code",
      "execution_count": 1,
      "metadata": {
        "colab": {
          "base_uri": "https://localhost:8080/"
        },
        "id": "vWJ6fMHw1Ucu",
        "outputId": "6a849bb9-c263-4ed3-aba3-35bbf735e133"
      },
      "outputs": [
        {
          "output_type": "stream",
          "name": "stdout",
          "text": [
            "Collecting pennylane\n",
            "  Downloading PennyLane-0.41.0-py3-none-any.whl.metadata (10 kB)\n",
            "Requirement already satisfied: numpy in /usr/local/lib/python3.11/dist-packages (from pennylane) (2.0.2)\n",
            "Requirement already satisfied: scipy in /usr/local/lib/python3.11/dist-packages (from pennylane) (1.15.2)\n",
            "Requirement already satisfied: networkx in /usr/local/lib/python3.11/dist-packages (from pennylane) (3.4.2)\n",
            "Collecting rustworkx>=0.14.0 (from pennylane)\n",
            "  Downloading rustworkx-0.16.0-cp39-abi3-manylinux_2_17_x86_64.manylinux2014_x86_64.whl.metadata (10 kB)\n",
            "Requirement already satisfied: autograd in /usr/local/lib/python3.11/dist-packages (from pennylane) (1.7.0)\n",
            "Collecting tomlkit (from pennylane)\n",
            "  Downloading tomlkit-0.13.2-py3-none-any.whl.metadata (2.7 kB)\n",
            "Collecting appdirs (from pennylane)\n",
            "  Downloading appdirs-1.4.4-py2.py3-none-any.whl.metadata (9.0 kB)\n",
            "Collecting autoray>=0.6.11 (from pennylane)\n",
            "  Downloading autoray-0.7.1-py3-none-any.whl.metadata (5.8 kB)\n",
            "Requirement already satisfied: cachetools in /usr/local/lib/python3.11/dist-packages (from pennylane) (5.5.2)\n",
            "Collecting pennylane-lightning>=0.41 (from pennylane)\n",
            "  Downloading pennylane_lightning-0.41.0-cp311-cp311-manylinux_2_28_x86_64.whl.metadata (28 kB)\n",
            "Requirement already satisfied: requests in /usr/local/lib/python3.11/dist-packages (from pennylane) (2.32.3)\n",
            "Requirement already satisfied: typing-extensions in /usr/local/lib/python3.11/dist-packages (from pennylane) (4.13.2)\n",
            "Requirement already satisfied: packaging in /usr/local/lib/python3.11/dist-packages (from pennylane) (24.2)\n",
            "Collecting diastatic-malt (from pennylane)\n",
            "  Downloading diastatic_malt-2.15.2-py3-none-any.whl.metadata (2.6 kB)\n",
            "Collecting scipy-openblas32>=0.3.26 (from pennylane-lightning>=0.41->pennylane)\n",
            "  Downloading scipy_openblas32-0.3.29.0.0-py3-none-manylinux_2_17_x86_64.manylinux2014_x86_64.whl.metadata (56 kB)\n",
            "\u001b[2K     \u001b[90m━━━━━━━━━━━━━━━━━━━━━━━━━━━━━━━━━━━━━━━━\u001b[0m \u001b[32m56.1/56.1 kB\u001b[0m \u001b[31m2.0 MB/s\u001b[0m eta \u001b[36m0:00:00\u001b[0m\n",
            "\u001b[?25hRequirement already satisfied: astunparse in /usr/local/lib/python3.11/dist-packages (from diastatic-malt->pennylane) (1.6.3)\n",
            "Requirement already satisfied: gast in /usr/local/lib/python3.11/dist-packages (from diastatic-malt->pennylane) (0.6.0)\n",
            "Requirement already satisfied: termcolor in /usr/local/lib/python3.11/dist-packages (from diastatic-malt->pennylane) (3.0.1)\n",
            "Requirement already satisfied: charset-normalizer<4,>=2 in /usr/local/lib/python3.11/dist-packages (from requests->pennylane) (3.4.1)\n",
            "Requirement already satisfied: idna<4,>=2.5 in /usr/local/lib/python3.11/dist-packages (from requests->pennylane) (3.10)\n",
            "Requirement already satisfied: urllib3<3,>=1.21.1 in /usr/local/lib/python3.11/dist-packages (from requests->pennylane) (2.4.0)\n",
            "Requirement already satisfied: certifi>=2017.4.17 in /usr/local/lib/python3.11/dist-packages (from requests->pennylane) (2025.1.31)\n",
            "Requirement already satisfied: wheel<1.0,>=0.23.0 in /usr/local/lib/python3.11/dist-packages (from astunparse->diastatic-malt->pennylane) (0.45.1)\n",
            "Requirement already satisfied: six<2.0,>=1.6.1 in /usr/local/lib/python3.11/dist-packages (from astunparse->diastatic-malt->pennylane) (1.17.0)\n",
            "Downloading PennyLane-0.41.0-py3-none-any.whl (2.3 MB)\n",
            "\u001b[2K   \u001b[90m━━━━━━━━━━━━━━━━━━━━━━━━━━━━━━━━━━━━━━━━\u001b[0m \u001b[32m2.3/2.3 MB\u001b[0m \u001b[31m29.7 MB/s\u001b[0m eta \u001b[36m0:00:00\u001b[0m\n",
            "\u001b[?25hDownloading autoray-0.7.1-py3-none-any.whl (930 kB)\n",
            "\u001b[2K   \u001b[90m━━━━━━━━━━━━━━━━━━━━━━━━━━━━━━━━━━━━━━━━\u001b[0m \u001b[32m930.8/930.8 kB\u001b[0m \u001b[31m35.3 MB/s\u001b[0m eta \u001b[36m0:00:00\u001b[0m\n",
            "\u001b[?25hDownloading pennylane_lightning-0.41.0-cp311-cp311-manylinux_2_28_x86_64.whl (2.5 MB)\n",
            "\u001b[2K   \u001b[90m━━━━━━━━━━━━━━━━━━━━━━━━━━━━━━━━━━━━━━━━\u001b[0m \u001b[32m2.5/2.5 MB\u001b[0m \u001b[31m27.5 MB/s\u001b[0m eta \u001b[36m0:00:00\u001b[0m\n",
            "\u001b[?25hDownloading rustworkx-0.16.0-cp39-abi3-manylinux_2_17_x86_64.manylinux2014_x86_64.whl (2.1 MB)\n",
            "\u001b[2K   \u001b[90m━━━━━━━━━━━━━━━━━━━━━━━━━━━━━━━━━━━━━━━━\u001b[0m \u001b[32m2.1/2.1 MB\u001b[0m \u001b[31m39.4 MB/s\u001b[0m eta \u001b[36m0:00:00\u001b[0m\n",
            "\u001b[?25hDownloading appdirs-1.4.4-py2.py3-none-any.whl (9.6 kB)\n",
            "Downloading diastatic_malt-2.15.2-py3-none-any.whl (167 kB)\n",
            "\u001b[2K   \u001b[90m━━━━━━━━━━━━━━━━━━━━━━━━━━━━━━━━━━━━━━━━\u001b[0m \u001b[32m167.9/167.9 kB\u001b[0m \u001b[31m9.5 MB/s\u001b[0m eta \u001b[36m0:00:00\u001b[0m\n",
            "\u001b[?25hDownloading tomlkit-0.13.2-py3-none-any.whl (37 kB)\n",
            "Downloading scipy_openblas32-0.3.29.0.0-py3-none-manylinux_2_17_x86_64.manylinux2014_x86_64.whl (8.6 MB)\n",
            "\u001b[2K   \u001b[90m━━━━━━━━━━━━━━━━━━━━━━━━━━━━━━━━━━━━━━━━\u001b[0m \u001b[32m8.6/8.6 MB\u001b[0m \u001b[31m68.4 MB/s\u001b[0m eta \u001b[36m0:00:00\u001b[0m\n",
            "\u001b[?25hInstalling collected packages: appdirs, tomlkit, scipy-openblas32, rustworkx, autoray, diastatic-malt, pennylane-lightning, pennylane\n",
            "Successfully installed appdirs-1.4.4 autoray-0.7.1 diastatic-malt-2.15.2 pennylane-0.41.0 pennylane-lightning-0.41.0 rustworkx-0.16.0 scipy-openblas32-0.3.29.0.0 tomlkit-0.13.2\n"
          ]
        }
      ],
      "source": [
        "pip install pennylane"
      ]
    },
    {
      "cell_type": "code",
      "execution_count": 2,
      "metadata": {
        "id": "B4vMEVTnmMxP"
      },
      "outputs": [],
      "source": [
        "from PIL import Image\n",
        "import numpy as np\n",
        "import random\n",
        "import cv2\n",
        "import matplotlib.pyplot as plt\n",
        "from pprint import pprint\n",
        "from collections import Counter\n",
        "\n",
        "\n",
        "\"\"\"To generate random bounding boxes.\"\"\"\n",
        "def compute_bounding_boxes(num_bouning_boxes,size:[]):\n",
        "\n",
        "  bounding_boxes = []\n",
        "  conf_score = []\n",
        "  for i in range(num_bouning_boxes):\n",
        "    num1 = random.randint(0, 350)\n",
        "    num2 = random.randint(0, 350)\n",
        "\n",
        "    bounding_boxes.append([num1, num2, num1+size[0], num2+size[1]])\n",
        "    num = round(random.uniform(0.5,1),2)\n",
        "    conf_score.append(num)\n",
        "\n",
        "  return bounding_boxes,conf_score\n",
        "\n",
        "\n",
        "\"\"\"To compute intersection between two bounding boxes.\"\"\"\n",
        "def compute_iou(box1, box2):\n",
        "  x1, y1, x2, y2 = box1\n",
        "  x1_p, y1_p, x2_p, y2_p = box2\n",
        "\n",
        "  inter_x1 = max(x1, x1_p)\n",
        "  inter_y1 = max(y1, y1_p)\n",
        "  inter_x2 = min(x2, x2_p)\n",
        "  inter_y2 = min(y2, y2_p)\n",
        "\n",
        "  inter_area = max(0, inter_x2 - inter_x1) * max(0, inter_y2 - inter_y1)\n",
        "  box1_area = (x2 - x1) * (y2 - y1)\n",
        "  box2_area = (x2_p - x1_p) * (y2_p - y1_p)\n",
        "  union_area = box1_area + box2_area - inter_area\n",
        "\n",
        "  return inter_area / union_area if union_area > 0 else 0\n",
        "\n",
        "\n",
        "\"\"\"To plot bounding boxes on black background\"\"\"\n",
        "def drawing_bounding_boxes(boxes,score,plot_title):\n",
        "  white_img = Image.new(\"RGB\", (500, 500), \"black\")\n",
        "  white_img = np.array(white_img)\n",
        "  count = 0\n",
        "  for i in boxes:\n",
        "    x_min, y_min, x_max, y_max = i\n",
        "    cv2.rectangle(white_img, (x_min, y_min), (x_max, y_max), (0, 0, 255), 2)\n",
        "    cv2.putText(white_img, str(score[count])+ str(count), (x_min, y_min - 10), cv2.FONT_HERSHEY_SIMPLEX, 0.5, (0, 255, 0), 2)\n",
        "    count = count+1\n",
        "\n",
        "  plt.figure(figsize=(12, 8))\n",
        "  plt.imshow(white_img)\n",
        "  plt.axis(\"off\")\n",
        "  plt.title(plot_title)\n",
        "  plt.show()\n",
        "\n",
        "\"\"\"Generation of all possoble 1's and 0's in array form.\"\"\"\n",
        "def generate_binary_array(n):\n",
        "  max_number = 2**n\n",
        "  binary_array = []\n",
        "  for i in range(max_number):\n",
        "    binary = format(i, f'0{n}b')\n",
        "    binary_arr = [int(bit) for bit in list(binary)]\n",
        "    binary_array.append(binary_arr)\n",
        "  return np.array(binary_array)"
      ]
    },
    {
      "cell_type": "code",
      "execution_count": 3,
      "metadata": {
        "id": "Jx7-YJQ58GLM"
      },
      "outputs": [],
      "source": [
        "def QUBO_solution(Q):\n",
        "\n",
        "  QUBO_solution = {}\n",
        "  x = []\n",
        "  score = []\n",
        "  n = len(Q)\n",
        "  binary_array = generate_binary_array(n)\n",
        "  energy_values = []\n",
        "  for binary in binary_array:\n",
        "    energy = np.dot(binary.T,np.dot(Q,binary))\n",
        "    x.append(binary)\n",
        "    score.append(energy)\n",
        "\n",
        "  for arr, score in zip(x, score):\n",
        "    QUBO_solution.setdefault(\"results\", []).append({\"array\": arr, \"score\": score})\n",
        "\n",
        "  QUBO_solution['results'] = sorted(QUBO_solution['results'], key=lambda x:x[\"score\"])\n",
        "  return QUBO_solution['results'][-1]['array']"
      ]
    },
    {
      "cell_type": "code",
      "execution_count": 4,
      "metadata": {
        "id": "cWeLuF9em-Yg"
      },
      "outputs": [],
      "source": [
        "def compute_Q_matrix (bounding_boxes, score, alpha, lambda_overlap, mu_sparsity):\n",
        "  intersection = 0\n",
        "  num_boxes = len(bounding_boxes)\n",
        "  iou_matrix = np.zeros((num_boxes, num_boxes))\n",
        "\n",
        "  for i in range(num_boxes):\n",
        "    for j in range(num_boxes):\n",
        "      if i != j :\n",
        "        iou_matrix[i, j] = -round(compute_iou(bounding_boxes[i], bounding_boxes[j]),2)\n",
        "        intersection = intersection + round(compute_iou(bounding_boxes[i], bounding_boxes[j]),2)\n",
        "      if i ==j:\n",
        "        iou_matrix[i, j] = -alpha * score[i]\n",
        "      else:\n",
        "        iou_matrix[i,j] = (lambda_overlap * compute_iou(bounding_boxes[i], bounding_boxes[j]) + mu_sparsity)\n",
        "        intersection = intersection + round(compute_iou(bounding_boxes[i], bounding_boxes[j]),2)\n",
        "  return iou_matrix, intersection"
      ]
    },
    {
      "cell_type": "code",
      "execution_count": 14,
      "metadata": {
        "colab": {
          "base_uri": "https://localhost:8080/",
          "height": 675
        },
        "id": "bRoFPO3Mm-bE",
        "outputId": "59a2b972-c528-4856-ff23-16ca79893d9b"
      },
      "outputs": [
        {
          "output_type": "display_data",
          "data": {
            "text/plain": [
              "<Figure size 1200x800 with 1 Axes>"
            ],
            "image/png": "[encoded data removed]"
          },
          "metadata": {}
        }
      ],
      "source": [
        "bounding_boxes, confidence_score = compute_bounding_boxes(3, [150,150])\n",
        "drawing_bounding_boxes(bounding_boxes,confidence_score,\"Randomly generated bounding boxes.\")"
      ]
    },
    {
      "cell_type": "code",
      "execution_count": 15,
      "metadata": {
        "colab": {
          "base_uri": "https://localhost:8080/",
          "height": 692
        },
        "id": "SKaED6ksm-fl",
        "outputId": "fa0c650f-1a50-4a50-de43-9ff046dd3c8f"
      },
      "outputs": [
        {
          "output_type": "stream",
          "name": "stdout",
          "text": [
            "[[52, 127, 202, 277], [305, 247, 455, 397]]\n"
          ]
        },
        {
          "output_type": "display_data",
          "data": {
            "text/plain": [
              "<Figure size 1200x800 with 1 Axes>"
            ],
            "image/png": "[encoded data removed]"
          },
          "metadata": {}
        }
      ],
      "source": [
        "indices = cv2.dnn.NMSBoxes(bounding_boxes, confidence_score, score_threshold=0.5, nms_threshold=0.4)\n",
        "NMS_boxes = [bounding_boxes[i] for i in indices.flatten()]\n",
        "print(NMS_boxes)\n",
        "hel = len(NMS_boxes)\n",
        "drawing_bounding_boxes(NMS_boxes, NMS_boxes[:hel],\"Bounding boxes selected using NMS\")"
      ]
    },
    {
      "cell_type": "markdown",
      "metadata": {
        "id": "UwlXQI0qoXJt"
      },
      "source": [
        "#Panelty terms\n",
        "\n",
        "# Confidence Scaling $α$\n",
        "\n",
        "It will increase the values of a digonal entries which are confidence score of each bounding box.\n",
        "\n",
        "$Q[i,i] = \\alpha * ConfidenceScore[i]$\n",
        "\n",
        "# Overlap Panelty $\\lambda$\n",
        "\n",
        "We will first check the overlapping panelty $\\lambda$.\n",
        "\n",
        "If two bounding boxes overlaps significantly\n",
        "\n",
        "$Q[i,j] = -\\lambda IOU[i,j]$\n",
        "\n",
        "\n",
        "*   Higher $\\lambda$ means stronger panelty for selecting overlaping bounding boxes.\n",
        "*   Lower $\\lambda$ means less restriction on selecting overlapping bounding boxes.\n",
        "\n",
        "If $\\lambda = 5$, then panelty for two windows overlap with iou = 0.5 is\n",
        "\n",
        "$Q[i,j] = 0.5*-5 = -2.5$\n",
        "\n",
        "This reduces the selection of both bounding boxes.\n",
        "\n",
        "# Sparsity Panelty $\\mu$\n",
        "\n",
        "Encourage selecting fewer bounindg boxes, applies nagetive panelty on selecting many bounding boxes when they don't overlap.\n",
        "\n",
        "*   Higher $\\mu$ means QUBO will select fewer bounding boxes.\n",
        "*   Lower $\\mu$ allows more BB to be selected.\n"
      ]
    },
    {
      "cell_type": "code",
      "execution_count": 18,
      "metadata": {
        "colab": {
          "base_uri": "https://localhost:8080/"
        },
        "id": "ixI-0BkJm-mh",
        "outputId": "6dbe8a31-3504-44da-cf6d-9e8e1aa5bd74"
      },
      "outputs": [
        {
          "output_type": "stream",
          "name": "stdout",
          "text": [
            "array([[-1.        ,  0.26325488,  0.26325488],\n",
            "       [ 0.26325488, -0.80769231,  0.53195027],\n",
            "       [ 0.26325488,  0.53195027, -0.73076923]])\n"
          ]
        }
      ],
      "source": [
        "iou_matrix, intersection = compute_Q_matrix(bounding_boxes, confidence_score,4.87,3.24,1)\n",
        "iou_matrix = iou_matrix / np.max(np.abs(iou_matrix))\n",
        "pprint(iou_matrix)"
      ]
    },
    {
      "cell_type": "code",
      "execution_count": 20,
      "metadata": {
        "colab": {
          "base_uri": "https://localhost:8080/"
        },
        "id": "1JQZ7ZXtm-rP",
        "outputId": "36ec0c1c-76df-4df1-d096-18ef8767b7e8"
      },
      "outputs": [
        {
          "output_type": "stream",
          "name": "stdout",
          "text": [
            "array([[-1.        ,  0.26325488,  0.26325488],\n",
            "       [ 0.26325488, -0.80769231,  0.53195027],\n",
            "       [ 0.26325488,  0.53195027, -0.73076923]])\n",
            "{'results': [{'array': array([0, 0, 0]), 'score': np.float64(0.0)},\n",
            "             {'array': array([0, 0, 1]),\n",
            "              'score': np.float64(-0.7307692307692307)},\n",
            "             {'array': array([0, 1, 0]),\n",
            "              'score': np.float64(-0.8076923076923077)},\n",
            "             {'array': array([0, 1, 1]),\n",
            "              'score': np.float64(-0.4745610082498942)},\n",
            "             {'array': array([1, 0, 0]), 'score': np.float64(-1.0)},\n",
            "             {'array': array([1, 0, 1]),\n",
            "              'score': np.float64(-1.2042594640130575)},\n",
            "             {'array': array([1, 1, 0]),\n",
            "              'score': np.float64(-1.2811825409361346)},\n",
            "             {'array': array([1, 1, 1]),\n",
            "              'score': np.float64(-0.42154147473754794)}]}\n",
            "{'results': [{'array': array([1, 1, 0]),\n",
            "              'score': np.float64(-1.2811825409361346)},\n",
            "             {'array': array([1, 0, 1]),\n",
            "              'score': np.float64(-1.2042594640130575)},\n",
            "             {'array': array([1, 0, 0]), 'score': np.float64(-1.0)},\n",
            "             {'array': array([0, 1, 0]),\n",
            "              'score': np.float64(-0.8076923076923077)},\n",
            "             {'array': array([0, 0, 1]),\n",
            "              'score': np.float64(-0.7307692307692307)},\n",
            "             {'array': array([0, 1, 1]),\n",
            "              'score': np.float64(-0.4745610082498942)},\n",
            "             {'array': array([1, 1, 1]),\n",
            "              'score': np.float64(-0.42154147473754794)},\n",
            "             {'array': array([0, 0, 0]), 'score': np.float64(0.0)}]}\n"
          ]
        }
      ],
      "source": [
        "pprint(iou_matrix)\n",
        "QUBO_solution = {}\n",
        "\n",
        "x = []\n",
        "score = []\n",
        "\n",
        "for i in (0,1):\n",
        "  for j in (0,1):\n",
        "    for k in (0,1):\n",
        "        res_matrix = [i,j,k]\n",
        "        res_matrix = np.array(res_matrix)\n",
        "        result = np.dot(iou_matrix,res_matrix)\n",
        "        result = np.dot(res_matrix.T, result)\n",
        "        x.append(res_matrix)\n",
        "        score.append(result)\n",
        "\n",
        "for arr, score in zip(x, score):\n",
        "  QUBO_solution.setdefault(\"results\", []).append({\"array\": arr, \"score\": score})\n",
        "\n",
        "pprint(QUBO_solution)\n",
        "\n",
        "QUBO_solution['results'] = sorted(QUBO_solution['results'], key=lambda x:x[\"score\"])\n",
        "pprint(QUBO_solution)"
      ]
    },
    {
      "cell_type": "code",
      "execution_count": 22,
      "metadata": {
        "id": "Dke2bO9X1Q4S"
      },
      "outputs": [],
      "source": [
        "import matplotlib.pyplot as plt\n",
        "from collections import defaultdict\n",
        "from operator import itemgetter\n",
        "from scipy.optimize import minimize\n",
        "import pennylane as qml\n",
        "import numpy as np"
      ]
    },
    {
      "cell_type": "markdown",
      "metadata": {
        "id": "E4eDOueW16ok"
      },
      "source": [
        "NON MAXIMA SUPRESSION PROBLEM\n",
        "\n",
        "$C = X^TQX$\n",
        "\n",
        "Now to convert this problem into ising model we will take\n",
        "\n",
        "$x_i = \\frac{1-Z_i}{2}$\n",
        "\n",
        "$C = \\sum_{i}\\frac{Q_i}{2} + \\sum_{ij}\\frac{Q_{ij}}{4} - \\left( \\sum_{i}\\frac{Q_i}{2} + \\sum_{ij}\\frac{Q_{ij}}{4} \\right) Z_i - \\sum_{ij}\\frac{Q_{ij}}{4}Z_j + \\sum_{ij}\\frac{Q_{ij}}{4}Z_iZ_j$"
      ]
    },
    {
      "cell_type": "code",
      "execution_count": 23,
      "metadata": {
        "colab": {
          "base_uri": "https://localhost:8080/"
        },
        "id": "0290Q9d71Q2R",
        "outputId": "7ca672bf-accc-4b7f-b1cf-4a28f75a90dc"
      },
      "outputs": [
        {
          "output_type": "stream",
          "name": "stdout",
          "text": [
            "[[ 0.74000075  0.          0.          0.          0.          0.\n",
            "   0.          0.        ]\n",
            " [ 0.          0.00923152  0.          0.          0.          0.\n",
            "   0.          0.        ]\n",
            " [ 0.          0.         -0.06769155  0.          0.          0.\n",
            "   0.          0.        ]\n",
            " [ 0.          0.          0.          0.26543975  0.          0.\n",
            "   0.          0.        ]\n",
            " [ 0.          0.          0.          0.         -0.25999925  0.\n",
            "   0.          0.        ]\n",
            " [ 0.          0.          0.          0.          0.         -0.46425871\n",
            "   0.          0.        ]\n",
            " [ 0.          0.          0.          0.          0.          0.\n",
            "  -0.54118179  0.        ]\n",
            " [ 0.          0.          0.          0.          0.          0.\n",
            "   0.          0.31845928]]\n"
          ]
        }
      ],
      "source": [
        "I = [[1,0],[0,1]]\n",
        "Z = [[1,0],[0,-1]]\n",
        "\n",
        "third_term = 0\n",
        "for i in range(len(iou_matrix)):\n",
        "    if i == 0:\n",
        "      matrix = np.kron(Z,np.kron(I,I))\n",
        "      third_term = third_term + (matrix*(iou_matrix[i][i]/2))\n",
        "    if i == 1:\n",
        "      matrix = np.kron(I,np.kron(Z,I))\n",
        "      third_term = third_term + (matrix*(iou_matrix[i][i]/2))\n",
        "    if i == 2:\n",
        "      matrix = np.kron(I,np.kron(I,Z))\n",
        "      third_term = third_term + (matrix*(iou_matrix[i][i]/2))\n",
        "\n",
        "fourth_term = 0\n",
        "for i in range(len(iou_matrix)):\n",
        "  for j in range(len(iou_matrix)):\n",
        "    if i!=j:\n",
        "      if i == 0 and j == 1:\n",
        "        matrix = np.kron(Z,np.kron(I,I))\n",
        "        fourth_term = fourth_term + (matrix*(iou_matrix[i][j]/4))\n",
        "      if i == 0 and j == 2:\n",
        "        matrix = np.kron(Z,np.kron(I,I))\n",
        "        fourth_term = fourth_term + (matrix*(iou_matrix[i][j]/4))\n",
        "      if i == 1 and j == 2:\n",
        "        matrix = np.kron(I,np.kron(Z,I))\n",
        "        fourth_term = fourth_term + (matrix*(iou_matrix[i][j]/4))\n",
        "      if i == 1 and j == 0:\n",
        "        matrix = np.kron(I,np.kron(Z,I))\n",
        "        fourth_term = fourth_term + (matrix*(iou_matrix[i][j]/4))\n",
        "      if i == 2 and j == 0:\n",
        "        matrix = np.kron(I,np.kron(I,Z))\n",
        "        fourth_term = fourth_term + (matrix*(iou_matrix[i][j]/4))\n",
        "      if i == 2 and j == 1:\n",
        "        matrix = np.kron(I,np.kron(I,Z))\n",
        "        fourth_term = fourth_term + (matrix*(iou_matrix[i][j]/4))\n",
        "\n",
        "fifth_term = 0\n",
        "for i in range(len(iou_matrix)):\n",
        "  for j in range(len(iou_matrix)):\n",
        "    if i!=j:\n",
        "      if i == 0 and j == 1:\n",
        "        matrix = np.kron(I,np.kron(Z,I))\n",
        "        fifth_term = fifth_term + (matrix*(iou_matrix[i][j]/4))\n",
        "      if i == 0 and j == 2:\n",
        "        matrix = np.kron(I,np.kron(I,Z))\n",
        "        fifth_term = fifth_term + (matrix*(iou_matrix[i][j]/4))\n",
        "      if i == 1 and j == 2:\n",
        "        matrix = np.kron(I,np.kron(I,Z))\n",
        "        fifth_term = fifth_term + (matrix*(iou_matrix[i][j]/4))\n",
        "      if i == 1 and j == 0:\n",
        "        matrix = np.kron(Z,np.kron(I,I))\n",
        "        fifth_term = fifth_term + (matrix*(iou_matrix[i][j]/4))\n",
        "      if i == 2 and j == 0:\n",
        "        matrix = np.kron(Z,np.kron(I,I))\n",
        "        fifth_term = fifth_term + (matrix*(iou_matrix[i][j]/4))\n",
        "      if i == 2 and j == 1:\n",
        "        matrix = np.kron(I,np.kron(Z,I))\n",
        "        fifth_term = fifth_term + (matrix*(iou_matrix[i][j]/4))\n",
        "\n",
        "sixth_term = 0\n",
        "for i in range(len(iou_matrix)):\n",
        "  for j in range(len(iou_matrix)):\n",
        "    if i!=j:\n",
        "      if i == 0 and j == 1:\n",
        "        matrix = np.kron(Z,np.kron(Z,I))\n",
        "        sixth_term = sixth_term + (matrix*(iou_matrix[i][j]/4))\n",
        "      if i == 0 and j == 2:\n",
        "        matrix = np.kron(Z,np.kron(I,Z))\n",
        "        sixth_term = sixth_term + (matrix*(iou_matrix[i][j]/4))\n",
        "      if i == 1 and j == 2:\n",
        "        matrix = np.kron(I,np.kron(Z,Z))\n",
        "        sixth_term = sixth_term + (matrix*(iou_matrix[i][j]/4))\n",
        "      if i == 1 and j == 0:\n",
        "        matrix = np.kron(Z,np.kron(Z,I))\n",
        "        sixth_term = sixth_term + (matrix*(iou_matrix[i][j]/4))\n",
        "      if i == 2 and j == 0:\n",
        "        matrix = np.kron(Z,np.kron(I,Z))\n",
        "        sixth_term = sixth_term + (matrix*(iou_matrix[i][j]/4))\n",
        "      if i == 2 and j == 1:\n",
        "        matrix = np.kron(I,np.kron(Z,Z))\n",
        "        sixth_term = sixth_term + (matrix*(iou_matrix[i][j]/4))\n",
        "\n",
        "result_matix = -third_term-fourth_term-fifth_term+sixth_term\n",
        "print(result_matix)"
      ]
    },
    {
      "cell_type": "markdown",
      "metadata": {
        "id": "H5dQB0F713Fv"
      },
      "source": [
        "Now we compute this using quanthum circuit.\n",
        "\n",
        "Quantum circuit mainly contains 3 gates. Z gate on a single qubit then ZZ gate which will be CNOT-Z-CNOT gate and X gate to all the qubits. Let us see how we can compute it."
      ]
    },
    {
      "cell_type": "code",
      "execution_count": 24,
      "metadata": {
        "id": "sNzXagTW1QzR"
      },
      "outputs": [],
      "source": [
        "def construct_Z_term(q1,Q_matrix_entry,beta):\n",
        "  qml.RZ(Q_matrix_entry*beta,wires=q1)\n",
        "\n",
        "def construct_ZZ(q1,q2,Q_matrix_entry,gamma):\n",
        "  qml.CNOT(wires=[q1,q2])\n",
        "  qml.RZ(2*Q_matrix_entry*gamma,wires=q2)\n",
        "  qml.CNOT(wires=[q1,q2])\n",
        "\n",
        "def construct_mixer_x_gate(q1,beta):\n",
        "  qml.RX(2*beta, wires=q1)"
      ]
    },
    {
      "cell_type": "markdown",
      "metadata": {
        "id": "0_HrUZA-2CYo"
      },
      "source": [
        "We want to construct\n",
        "\n",
        "$C = \\sum_{i}\\frac{Q_i}{2} + \\sum_{ij}\\frac{Q_{ij}}{4} - \\left( \\sum_{i}\\frac{Q_i}{2} + \\sum_{ij}\\frac{Q_{ij}}{4} \\right) Z_i - \\sum_{ij}\\frac{Q_{ij}}{4}Z_j + \\sum_{ij}\\frac{Q_{ij}}{4}Z_iZ_j$\n",
        "\n",
        "But problem is we don't know in which order we have to apply this gates. So as usual we will first go with the order which is given."
      ]
    },
    {
      "cell_type": "code",
      "execution_count": 25,
      "metadata": {
        "colab": {
          "base_uri": "https://localhost:8080/"
        },
        "id": "ylWqiCHH1Qwy",
        "outputId": "9e12ae9b-8422-450f-bc8b-30ff415afff1"
      },
      "outputs": [
        {
          "output_type": "stream",
          "name": "stdout",
          "text": [
            "0: ──RZ(0.52)──RZ(-0.07)──RZ(-0.07)──RZ(-0.07)──RZ(-0.07)─╭●───────────╭●─╭●───────────╭●─╭X ···\n",
            "1: ──RZ(0.42)──RZ(-0.07)──RZ(-0.14)──RZ(-0.07)──RZ(-0.14)─╰X──RZ(0.14)─╰X─│────────────│──╰● ···\n",
            "2: ──RZ(0.38)──RZ(-0.07)──RZ(-0.14)──RZ(-0.07)──RZ(-0.14)─────────────────╰X──RZ(0.14)─╰X─── ···\n",
            "\n",
            "0: ··· ──RZ(0.14)─╭X─────────────────╭X──RZ(0.14)─╭X──RX(2.09)────────────────────────┤  State\n",
            "1: ··· ───────────╰●─╭●───────────╭●─│────────────│──╭X─────────RZ(0.28)─╭X──RX(2.09)─┤  State\n",
            "2: ··· ──────────────╰X──RZ(0.28)─╰X─╰●───────────╰●─╰●──────────────────╰●──RX(2.09)─┤  State\n"
          ]
        }
      ],
      "source": [
        "def compute_cost_hamiltonian(Q_matrix, beta, gamma):\n",
        "  dev = qml.device('default.qubit', wires = len(Q_matrix))\n",
        "  @qml.qnode(dev)\n",
        "  def cost_hamiltonian_circuit():\n",
        "    for i in range(len(Q_matrix)):\n",
        "      construct_Z_term(i, -Q_matrix[i][i]/2, gamma)\n",
        "    for i in range(len(Q_matrix)):\n",
        "      for j in range(len(Q_matrix)):\n",
        "        if i!=j:\n",
        "          construct_Z_term(i, -Q_matrix[i][j]/4, gamma)\n",
        "\n",
        "    for i in range(len(Q_matrix)):\n",
        "      for j in range(len(Q_matrix)):\n",
        "        if i!=j:\n",
        "          construct_Z_term(j, -Q_matrix[i][j]/4, gamma)\n",
        "\n",
        "    for i in range(len(Q_matrix)):\n",
        "      for j in range(len(Q_matrix)):\n",
        "        if i!=j:\n",
        "          construct_ZZ(i,j,Q_matrix[i][j]/4, gamma)\n",
        "\n",
        "    for i in range(len(Q_matrix)):\n",
        "      construct_mixer_x_gate(i, beta)\n",
        "\n",
        "    return qml.state()\n",
        "  return cost_hamiltonian_circuit\n",
        "\n",
        "qc = compute_cost_hamiltonian(iou_matrix, np.pi / 3, np.pi / 3)\n",
        "print(qml.draw(qc)())"
      ]
    },
    {
      "cell_type": "code",
      "execution_count": 26,
      "metadata": {
        "colab": {
          "base_uri": "https://localhost:8080/"
        },
        "id": "0-Pk5zqc1QuV",
        "outputId": "53bf52ae-3a7e-4d05-d2ae-cbcfaf9b775d"
      },
      "outputs": [
        {
          "output_type": "stream",
          "name": "stdout",
          "text": [
            "000: 49\n",
            "001: 218\n",
            "010: 212\n",
            "011: 118\n",
            "100: 87\n",
            "101: 145\n",
            "110: 140\n",
            "111: 31\n"
          ]
        }
      ],
      "source": [
        "from collections import Counter\n",
        "\n",
        "def compute_QAOA_circuit(Q_matrix, beta, gamma):\n",
        "  assert(len(beta) == len(gamma))\n",
        "  p = len(beta)\n",
        "  dev = qml.device('default.qubit', wires = len(Q_matrix), shots=1000)\n",
        "  @qml.qnode(dev)\n",
        "  def QAOA_circuit():\n",
        "    for i in range(len(Q_matrix)):\n",
        "      qml.Hadamard(wires=i)\n",
        "    for k in range(p):\n",
        "      for i in range(len(Q_matrix)):\n",
        "          construct_Z_term(i, -Q_matrix[i][i]/2, gamma[k])\n",
        "      for i in range(len(Q_matrix)):\n",
        "        for j in range(len(Q_matrix)):\n",
        "          if i!=j:\n",
        "            construct_Z_term(i, -Q_matrix[i][j]/4, gamma[k])\n",
        "\n",
        "      for i in range(len(Q_matrix)):\n",
        "        for j in range(len(Q_matrix)):\n",
        "          if i!=j:\n",
        "            construct_Z_term(j, -Q_matrix[i][j]/4, gamma[k])\n",
        "\n",
        "      for i in range(len(Q_matrix)):\n",
        "        for j in range(len(Q_matrix)):\n",
        "          if i!=j:\n",
        "            construct_ZZ(i,j,Q_matrix[i][j]/4, gamma[k])\n",
        "\n",
        "      for i in range(len(Q_matrix)):\n",
        "        construct_mixer_x_gate(i, beta[k])\n",
        "    return qml.counts()\n",
        "  return QAOA_circuit()\n",
        "\n",
        "qc = compute_QAOA_circuit(iou_matrix, [np.pi / 3], [np.pi / 3])\n",
        "for key, value in qc.items():\n",
        "    print(f\"{key}: {value}\")"
      ]
    },
    {
      "cell_type": "code",
      "execution_count": 27,
      "metadata": {
        "id": "ii-f5tYE1Qr3"
      },
      "outputs": [],
      "source": [
        "def NMS_objective(x,iou_matrix):\n",
        "  detections = np.array([int(char) for char in x])\n",
        "  result = np.dot(iou_matrix,detections)\n",
        "  result = np.dot(detections.T, result)\n",
        "  return result"
      ]
    },
    {
      "cell_type": "code",
      "execution_count": 28,
      "metadata": {
        "colab": {
          "base_uri": "https://localhost:8080/"
        },
        "id": "3Ybj0nAy1QpR",
        "outputId": "0ce1d0bd-9ef3-4e51-c336-f20769d2aa19"
      },
      "outputs": [
        {
          "output_type": "execute_result",
          "data": {
            "text/plain": [
              "np.float64(-0.8405876242417653)"
            ]
          },
          "metadata": {},
          "execution_count": 28
        }
      ],
      "source": [
        "def compute_NMS_energy(counts,iou_matrix):\n",
        "  energy = 0\n",
        "  total_counts = 0\n",
        "  for meas, meas_count in counts.items():\n",
        "    obj_for_meas = NMS_objective(meas,iou_matrix)\n",
        "    energy += obj_for_meas * meas_count\n",
        "    total_counts += meas_count\n",
        "  return energy/total_counts\n",
        "\n",
        "compute_NMS_energy(qc, iou_matrix)"
      ]
    },
    {
      "cell_type": "code",
      "execution_count": 34,
      "metadata": {
        "id": "j8uR3m731Qm3"
      },
      "outputs": [],
      "source": [
        "def get_black_box_objective(iou_matrix, p):\n",
        "  def f(theta):\n",
        "    beta = theta[:p]\n",
        "    gamma = theta[p:]\n",
        "    counts = compute_QAOA_circuit(iou_matrix, beta, gamma)\n",
        "    # print(counts)\n",
        "    return compute_NMS_energy(counts, iou_matrix)\n",
        "  return f"
      ]
    },
    {
      "cell_type": "code",
      "execution_count": 30,
      "metadata": {
        "colab": {
          "base_uri": "https://localhost:8080/"
        },
        "id": "ff1uVdrJ1QkV",
        "outputId": "3c659c8e-65f4-49d6-c733-fbe38f6bfa72"
      },
      "outputs": [
        {
          "output_type": "stream",
          "name": "stdout",
          "text": [
            "{np.str_('000'): np.int64(26), np.str_('001'): np.int64(3), np.str_('010'): np.int64(15), np.str_('011'): np.int64(50), np.str_('100'): np.int64(194), np.str_('101'): np.int64(261), np.str_('110'): np.int64(219), np.str_('111'): np.int64(232)}\n",
            "{np.str_('000'): np.int64(14), np.str_('001'): np.int64(56), np.str_('010'): np.int64(43), np.str_('011'): np.int64(97), np.str_('100'): np.int64(225), np.str_('101'): np.int64(129), np.str_('110'): np.int64(109), np.str_('111'): np.int64(327)}\n",
            "{np.str_('000'): np.int64(145), np.str_('001'): np.int64(12), np.str_('010'): np.int64(8), np.str_('011'): np.int64(350), np.str_('100'): np.int64(13), np.str_('101'): np.int64(5), np.str_('110'): np.int64(16), np.str_('111'): np.int64(451)}\n",
            "{np.str_('000'): np.int64(252), np.str_('001'): np.int64(10), np.str_('010'): np.int64(1), np.str_('011'): np.int64(236), np.str_('100'): np.int64(27), np.str_('101'): np.int64(22), np.str_('110'): np.int64(52), np.str_('111'): np.int64(400)}\n",
            "{np.str_('000'): np.int64(60), np.str_('001'): np.int64(227), np.str_('010'): np.int64(386), np.str_('011'): np.int64(172), np.str_('100'): np.int64(23), np.str_('101'): np.int64(27), np.str_('110'): np.int64(11), np.str_('111'): np.int64(94)}\n",
            "{np.str_('000'): np.int64(55), np.str_('001'): np.int64(232), np.str_('010'): np.int64(363), np.str_('011'): np.int64(234), np.str_('100'): np.int64(8), np.str_('101'): np.int64(23), np.str_('110'): np.int64(8), np.str_('111'): np.int64(77)}\n",
            "{np.str_('000'): np.int64(55), np.str_('001'): np.int64(117), np.str_('010'): np.int64(188), np.str_('011'): np.int64(175), np.str_('100'): np.int64(123), np.str_('101'): np.int64(76), np.str_('110'): np.int64(113), np.str_('111'): np.int64(153)}\n",
            "{np.str_('000'): np.int64(44), np.str_('001'): np.int64(212), np.str_('010'): np.int64(250), np.str_('011'): np.int64(214), np.str_('100'): np.int64(86), np.str_('101'): np.int64(88), np.str_('110'): np.int64(83), np.str_('111'): np.int64(23)}\n",
            "{np.str_('000'): np.int64(38), np.str_('001'): np.int64(157), np.str_('010'): np.int64(285), np.str_('011'): np.int64(60), np.str_('100'): np.int64(59), np.str_('101'): np.int64(34), np.str_('110'): np.int64(88), np.str_('111'): np.int64(279)}\n",
            "{np.str_('000'): np.int64(12), np.str_('001'): np.int64(106), np.str_('010'): np.int64(212), np.str_('011'): np.int64(141), np.str_('100'): np.int64(12), np.str_('101'): np.int64(88), np.str_('110'): np.int64(156), np.str_('111'): np.int64(273)}\n",
            "{np.str_('000'): np.int64(295), np.str_('001'): np.int64(1), np.str_('010'): np.int64(33), np.str_('011'): np.int64(114), np.str_('100'): np.int64(423), np.str_('101'): np.int64(12), np.str_('110'): np.int64(1), np.str_('111'): np.int64(121)}\n",
            "{np.str_('000'): np.int64(51), np.str_('001'): np.int64(1), np.str_('010'): np.int64(16), np.str_('011'): np.int64(61), np.str_('100'): np.int64(171), np.str_('101'): np.int64(342), np.str_('110'): np.int64(261), np.str_('111'): np.int64(97)}\n",
            "{np.str_('000'): np.int64(30), np.str_('010'): np.int64(26), np.str_('011'): np.int64(52), np.str_('100'): np.int64(214), np.str_('101'): np.int64(287), np.str_('110'): np.int64(253), np.str_('111'): np.int64(138)}\n",
            "{np.str_('000'): np.int64(86), np.str_('001'): np.int64(2), np.str_('010'): np.int64(8), np.str_('011'): np.int64(172), np.str_('100'): np.int64(253), np.str_('101'): np.int64(171), np.str_('110'): np.int64(206), np.str_('111'): np.int64(102)}\n",
            "{np.str_('000'): np.int64(33), np.str_('010'): np.int64(15), np.str_('011'): np.int64(43), np.str_('100'): np.int64(215), np.str_('101'): np.int64(283), np.str_('110'): np.int64(248), np.str_('111'): np.int64(163)}\n",
            "{np.str_('000'): np.int64(79), np.str_('001'): np.int64(3), np.str_('010'): np.int64(8), np.str_('011'): np.int64(28), np.str_('100'): np.int64(167), np.str_('101'): np.int64(322), np.str_('110'): np.int64(328), np.str_('111'): np.int64(65)}\n",
            "{np.str_('000'): np.int64(179), np.str_('001'): np.int64(43), np.str_('010'): np.int64(35), np.str_('011'): np.int64(53), np.str_('100'): np.int64(183), np.str_('101'): np.int64(238), np.str_('110'): np.int64(214), np.str_('111'): np.int64(55)}\n",
            "{np.str_('000'): np.int64(20), np.str_('001'): np.int64(7), np.str_('010'): np.int64(1), np.str_('011'): np.int64(75), np.str_('100'): np.int64(105), np.str_('101'): np.int64(350), np.str_('110'): np.int64(348), np.str_('111'): np.int64(94)}\n",
            "{np.str_('000'): np.int64(112), np.str_('001'): np.int64(28), np.str_('010'): np.int64(2), np.str_('011'): np.int64(143), np.str_('100'): np.int64(152), np.str_('101'): np.int64(269), np.str_('110'): np.int64(275), np.str_('111'): np.int64(19)}\n",
            "{np.str_('000'): np.int64(13), np.str_('001'): np.int64(7), np.str_('010'): np.int64(3), np.str_('011'): np.int64(139), np.str_('100'): np.int64(100), np.str_('101'): np.int64(314), np.str_('110'): np.int64(312), np.str_('111'): np.int64(112)}\n",
            "{np.str_('000'): np.int64(37), np.str_('010'): np.int64(4), np.str_('011'): np.int64(100), np.str_('100'): np.int64(112), np.str_('101'): np.int64(253), np.str_('110'): np.int64(290), np.str_('111'): np.int64(204)}\n",
            "{np.str_('000'): np.int64(268), np.str_('001'): np.int64(68), np.str_('010'): np.int64(42), np.str_('011'): np.int64(112), np.str_('100'): np.int64(237), np.str_('101'): np.int64(87), np.str_('110'): np.int64(41), np.str_('111'): np.int64(145)}\n",
            "{np.str_('000'): np.int64(308), np.str_('001'): np.int64(6), np.str_('010'): np.int64(4), np.str_('011'): np.int64(26), np.str_('100'): np.int64(54), np.str_('101'): np.int64(220), np.str_('110'): np.int64(271), np.str_('111'): np.int64(111)}\n",
            "{np.str_('000'): np.int64(15), np.str_('001'): np.int64(18), np.str_('010'): np.int64(2), np.str_('011'): np.int64(215), np.str_('100'): np.int64(29), np.str_('101'): np.int64(231), np.str_('110'): np.int64(244), np.str_('111'): np.int64(246)}\n",
            "{np.str_('000'): np.int64(268), np.str_('001'): np.int64(5), np.str_('010'): np.int64(5), np.str_('011'): np.int64(7), np.str_('100'): np.int64(35), np.str_('101'): np.int64(232), np.str_('110'): np.int64(295), np.str_('111'): np.int64(153)}\n",
            "{np.str_('000'): np.int64(10), np.str_('001'): np.int64(1), np.str_('010'): np.int64(20), np.str_('011'): np.int64(138), np.str_('100'): np.int64(126), np.str_('101'): np.int64(320), np.str_('110'): np.int64(263), np.str_('111'): np.int64(122)}\n",
            "{np.str_('000'): np.int64(69), np.str_('001'): np.int64(27), np.str_('010'): np.int64(38), np.str_('011'): np.int64(83), np.str_('100'): np.int64(400), np.str_('101'): np.int64(92), np.str_('110'): np.int64(95), np.str_('111'): np.int64(196)}\n",
            "{np.str_('000'): np.int64(53), np.str_('001'): np.int64(10), np.str_('010'): np.int64(4), np.str_('011'): np.int64(54), np.str_('100'): np.int64(69), np.str_('101'): np.int64(368), np.str_('110'): np.int64(363), np.str_('111'): np.int64(79)}\n",
            "{np.str_('000'): np.int64(24), np.str_('001'): np.int64(93), np.str_('010'): np.int64(54), np.str_('011'): np.int64(25), np.str_('100'): np.int64(70), np.str_('101'): np.int64(264), np.str_('110'): np.int64(309), np.str_('111'): np.int64(161)}\n",
            "{np.str_('000'): np.int64(40), np.str_('001'): np.int64(11), np.str_('010'): np.int64(4), np.str_('011'): np.int64(42), np.str_('100'): np.int64(165), np.str_('101'): np.int64(362), np.str_('110'): np.int64(344), np.str_('111'): np.int64(32)}\n",
            "{np.str_('000'): np.int64(35), np.str_('001'): np.int64(38), np.str_('010'): np.int64(17), np.str_('011'): np.int64(181), np.str_('100'): np.int64(48), np.str_('101'): np.int64(121), np.str_('110'): np.int64(87), np.str_('111'): np.int64(473)}\n",
            "{np.str_('000'): np.int64(60), np.str_('001'): np.int64(10), np.str_('010'): np.int64(7), np.str_('011'): np.int64(36), np.str_('100'): np.int64(190), np.str_('101'): np.int64(314), np.str_('110'): np.int64(364), np.str_('111'): np.int64(19)}\n",
            "{np.str_('000'): np.int64(51), np.str_('001'): np.int64(73), np.str_('010'): np.int64(141), np.str_('011'): np.int64(61), np.str_('100'): np.int64(339), np.str_('101'): np.int64(71), np.str_('110'): np.int64(78), np.str_('111'): np.int64(186)}\n",
            "{np.str_('000'): np.int64(36), np.str_('001'): np.int64(13), np.str_('010'): np.int64(1), np.str_('011'): np.int64(55), np.str_('100'): np.int64(192), np.str_('101'): np.int64(336), np.str_('110'): np.int64(334), np.str_('111'): np.int64(33)}\n",
            "{np.str_('000'): np.int64(25), np.str_('001'): np.int64(8), np.str_('010'): np.int64(2), np.str_('011'): np.int64(91), np.str_('100'): np.int64(207), np.str_('101'): np.int64(323), np.str_('110'): np.int64(310), np.str_('111'): np.int64(34)}\n",
            "{np.str_('000'): np.int64(34), np.str_('001'): np.int64(12), np.str_('010'): np.int64(2), np.str_('011'): np.int64(43), np.str_('100'): np.int64(185), np.str_('101'): np.int64(343), np.str_('110'): np.int64(349), np.str_('111'): np.int64(32)}\n",
            "{np.str_('000'): np.int64(117), np.str_('001'): np.int64(3), np.str_('010'): np.int64(1), np.str_('011'): np.int64(62), np.str_('100'): np.int64(142), np.str_('101'): np.int64(320), np.str_('110'): np.int64(307), np.str_('111'): np.int64(48)}\n",
            "{np.str_('000'): np.int64(55), np.str_('001'): np.int64(10), np.str_('010'): np.int64(1), np.str_('011'): np.int64(54), np.str_('100'): np.int64(168), np.str_('101'): np.int64(303), np.str_('110'): np.int64(367), np.str_('111'): np.int64(42)}\n",
            "{np.str_('000'): np.int64(90), np.str_('001'): np.int64(12), np.str_('011'): np.int64(52), np.str_('100'): np.int64(174), np.str_('101'): np.int64(353), np.str_('110'): np.int64(311), np.str_('111'): np.int64(8)}\n",
            "{np.str_('000'): np.int64(25), np.str_('001'): np.int64(16), np.str_('010'): np.int64(6), np.str_('011'): np.int64(78), np.str_('100'): np.int64(151), np.str_('101'): np.int64(365), np.str_('110'): np.int64(324), np.str_('111'): np.int64(35)}\n",
            "{np.str_('000'): np.int64(77), np.str_('001'): np.int64(7), np.str_('011'): np.int64(48), np.str_('100'): np.int64(176), np.str_('101'): np.int64(344), np.str_('110'): np.int64(328), np.str_('111'): np.int64(20)}\n",
            "{np.str_('000'): np.int64(58), np.str_('001'): np.int64(9), np.str_('010'): np.int64(3), np.str_('011'): np.int64(47), np.str_('100'): np.int64(222), np.str_('101'): np.int64(278), np.str_('110'): np.int64(315), np.str_('111'): np.int64(68)}\n",
            "{np.str_('000'): np.int64(15), np.str_('001'): np.int64(125), np.str_('010'): np.int64(107), np.str_('011'): np.int64(43), np.str_('100'): np.int64(476), np.str_('101'): np.int64(122), np.str_('110'): np.int64(93), np.str_('111'): np.int64(19)}\n",
            "{np.str_('000'): np.int64(190), np.str_('001'): np.int64(8), np.str_('010'): np.int64(2), np.str_('011'): np.int64(6), np.str_('100'): np.int64(162), np.str_('101'): np.int64(294), np.str_('110'): np.int64(325), np.str_('111'): np.int64(13)}\n",
            "{np.str_('000'): np.int64(157), np.str_('001'): np.int64(2), np.str_('010'): np.int64(6), np.str_('011'): np.int64(81), np.str_('100'): np.int64(131), np.str_('101'): np.int64(253), np.str_('110'): np.int64(241), np.str_('111'): np.int64(129)}\n",
            "{np.str_('000'): np.int64(149), np.str_('001'): np.int64(24), np.str_('010'): np.int64(7), np.str_('011'): np.int64(4), np.str_('100'): np.int64(107), np.str_('101'): np.int64(324), np.str_('110'): np.int64(352), np.str_('111'): np.int64(33)}\n",
            "{np.str_('000'): np.int64(57), np.str_('001'): np.int64(7), np.str_('010'): np.int64(10), np.str_('011'): np.int64(19), np.str_('100'): np.int64(135), np.str_('101'): np.int64(311), np.str_('110'): np.int64(355), np.str_('111'): np.int64(106)}\n",
            "{np.str_('000'): np.int64(82), np.str_('001'): np.int64(25), np.str_('010'): np.int64(3), np.str_('011'): np.int64(84), np.str_('100'): np.int64(310), np.str_('101'): np.int64(186), np.str_('110'): np.int64(209), np.str_('111'): np.int64(101)}\n",
            "{np.str_('000'): np.int64(26), np.str_('001'): np.int64(1), np.str_('011'): np.int64(81), np.str_('100'): np.int64(144), np.str_('101'): np.int64(352), np.str_('110'): np.int64(353), np.str_('111'): np.int64(43)}\n",
            "{np.str_('000'): np.int64(16), np.str_('001'): np.int64(33), np.str_('010'): np.int64(2), np.str_('011'): np.int64(60), np.str_('100'): np.int64(132), np.str_('101'): np.int64(291), np.str_('110'): np.int64(325), np.str_('111'): np.int64(141)}\n",
            "{np.str_('000'): np.int64(46), np.str_('001'): np.int64(15), np.str_('010'): np.int64(1), np.str_('011'): np.int64(45), np.str_('100'): np.int64(186), np.str_('101'): np.int64(324), np.str_('110'): np.int64(339), np.str_('111'): np.int64(44)}\n",
            "{np.str_('000'): np.int64(41), np.str_('001'): np.int64(23), np.str_('010'): np.int64(43), np.str_('011'): np.int64(33), np.str_('100'): np.int64(252), np.str_('101'): np.int64(303), np.str_('110'): np.int64(277), np.str_('111'): np.int64(28)}\n",
            "{np.str_('000'): np.int64(13), np.str_('001'): np.int64(3), np.str_('011'): np.int64(58), np.str_('100'): np.int64(162), np.str_('101'): np.int64(363), np.str_('110'): np.int64(361), np.str_('111'): np.int64(40)}\n",
            "{np.str_('000'): np.int64(13), np.str_('001'): np.int64(7), np.str_('011'): np.int64(31), np.str_('100'): np.int64(152), np.str_('101'): np.int64(388), np.str_('110'): np.int64(366), np.str_('111'): np.int64(43)}\n",
            "{np.str_('000'): np.int64(20), np.str_('001'): np.int64(2), np.str_('010'): np.int64(7), np.str_('011'): np.int64(34), np.str_('100'): np.int64(174), np.str_('101'): np.int64(351), np.str_('110'): np.int64(371), np.str_('111'): np.int64(41)}\n",
            "{np.str_('000'): np.int64(7), np.str_('001'): np.int64(2), np.str_('011'): np.int64(40), np.str_('100'): np.int64(155), np.str_('101'): np.int64(377), np.str_('110'): np.int64(378), np.str_('111'): np.int64(41)}\n",
            "{np.str_('000'): np.int64(19), np.str_('001'): np.int64(1), np.str_('010'): np.int64(3), np.str_('011'): np.int64(28), np.str_('100'): np.int64(171), np.str_('101'): np.int64(368), np.str_('110'): np.int64(374), np.str_('111'): np.int64(36)}\n",
            "{np.str_('000'): np.int64(6), np.str_('001'): np.int64(2), np.str_('011'): np.int64(61), np.str_('100'): np.int64(160), np.str_('101'): np.int64(362), np.str_('110'): np.int64(365), np.str_('111'): np.int64(44)}\n",
            "{np.str_('000'): np.int64(8), np.str_('001'): np.int64(6), np.str_('010'): np.int64(3), np.str_('011'): np.int64(59), np.str_('100'): np.int64(146), np.str_('101'): np.int64(371), np.str_('110'): np.int64(322), np.str_('111'): np.int64(85)}\n",
            "{np.str_('000'): np.int64(11), np.str_('001'): np.int64(4), np.str_('011'): np.int64(59), np.str_('100'): np.int64(173), np.str_('101'): np.int64(343), np.str_('110'): np.int64(365), np.str_('111'): np.int64(45)}\n",
            "{np.str_('000'): np.int64(5), np.str_('010'): np.int64(5), np.str_('011'): np.int64(78), np.str_('100'): np.int64(136), np.str_('101'): np.int64(370), np.str_('110'): np.int64(346), np.str_('111'): np.int64(60)}\n",
            "{np.str_('000'): np.int64(7), np.str_('001'): np.int64(5), np.str_('011'): np.int64(57), np.str_('100'): np.int64(166), np.str_('101'): np.int64(353), np.str_('110'): np.int64(348), np.str_('111'): np.int64(64)}\n",
            "{np.str_('000'): np.int64(4), np.str_('001'): np.int64(2), np.str_('010'): np.int64(4), np.str_('011'): np.int64(84), np.str_('100'): np.int64(195), np.str_('101'): np.int64(324), np.str_('110'): np.int64(327), np.str_('111'): np.int64(60)}\n",
            "{np.str_('000'): np.int64(18), np.str_('001'): np.int64(4), np.str_('011'): np.int64(47), np.str_('100'): np.int64(140), np.str_('101'): np.int64(381), np.str_('110'): np.int64(386), np.str_('111'): np.int64(24)}\n",
            "{np.str_('000'): np.int64(61), np.str_('001'): np.int64(2), np.str_('011'): np.int64(15), np.str_('100'): np.int64(141), np.str_('101'): np.int64(382), np.str_('110'): np.int64(389), np.str_('111'): np.int64(10)}\n",
            "{np.str_('000'): np.int64(28), np.str_('001'): np.int64(2), np.str_('010'): np.int64(1), np.str_('011'): np.int64(42), np.str_('100'): np.int64(156), np.str_('101'): np.int64(356), np.str_('110'): np.int64(371), np.str_('111'): np.int64(44)}\n",
            "{np.str_('000'): np.int64(24), np.str_('001'): np.int64(12), np.str_('011'): np.int64(15), np.str_('100'): np.int64(108), np.str_('101'): np.int64(419), np.str_('110'): np.int64(377), np.str_('111'): np.int64(45)}\n",
            "{np.str_('000'): np.int64(14), np.str_('001'): np.int64(6), np.str_('011'): np.int64(34), np.str_('100'): np.int64(129), np.str_('101'): np.int64(380), np.str_('110'): np.int64(362), np.str_('111'): np.int64(75)}\n",
            "{np.str_('000'): np.int64(21), np.str_('010'): np.int64(5), np.str_('011'): np.int64(32), np.str_('100'): np.int64(145), np.str_('101'): np.int64(398), np.str_('110'): np.int64(376), np.str_('111'): np.int64(23)}\n",
            "{np.str_('000'): np.int64(27), np.str_('001'): np.int64(1), np.str_('010'): np.int64(4), np.str_('011'): np.int64(32), np.str_('100'): np.int64(166), np.str_('101'): np.int64(369), np.str_('110'): np.int64(389), np.str_('111'): np.int64(12)}\n",
            "{np.str_('000'): np.int64(32), np.str_('010'): np.int64(4), np.str_('011'): np.int64(36), np.str_('100'): np.int64(161), np.str_('101'): np.int64(354), np.str_('110'): np.int64(400), np.str_('111'): np.int64(13)}\n",
            "{np.str_('000'): np.int64(16), np.str_('001'): np.int64(2), np.str_('010'): np.int64(9), np.str_('011'): np.int64(33), np.str_('100'): np.int64(155), np.str_('101'): np.int64(389), np.str_('110'): np.int64(386), np.str_('111'): np.int64(10)}\n",
            "{np.str_('000'): np.int64(34), np.str_('001'): np.int64(1), np.str_('010'): np.int64(11), np.str_('011'): np.int64(16), np.str_('100'): np.int64(116), np.str_('101'): np.int64(395), np.str_('110'): np.int64(417), np.str_('111'): np.int64(10)}\n",
            "{np.str_('000'): np.int64(31), np.str_('001'): np.int64(2), np.str_('010'): np.int64(8), np.str_('011'): np.int64(17), np.str_('100'): np.int64(152), np.str_('101'): np.int64(366), np.str_('110'): np.int64(418), np.str_('111'): np.int64(6)}\n",
            "{np.str_('000'): np.int64(38), np.str_('001'): np.int64(1), np.str_('010'): np.int64(7), np.str_('011'): np.int64(20), np.str_('100'): np.int64(117), np.str_('101'): np.int64(369), np.str_('110'): np.int64(430), np.str_('111'): np.int64(18)}\n",
            "{np.str_('000'): np.int64(55), np.str_('001'): np.int64(4), np.str_('010'): np.int64(12), np.str_('011'): np.int64(14), np.str_('100'): np.int64(143), np.str_('101'): np.int64(354), np.str_('110'): np.int64(402), np.str_('111'): np.int64(16)}\n",
            "{np.str_('000'): np.int64(40), np.str_('001'): np.int64(2), np.str_('010'): np.int64(6), np.str_('011'): np.int64(9), np.str_('100'): np.int64(146), np.str_('101'): np.int64(375), np.str_('110'): np.int64(413), np.str_('111'): np.int64(9)}\n",
            "{np.str_('000'): np.int64(9), np.str_('001'): np.int64(2), np.str_('010'): np.int64(5), np.str_('011'): np.int64(12), np.str_('100'): np.int64(127), np.str_('101'): np.int64(417), np.str_('110'): np.int64(415), np.str_('111'): np.int64(13)}\n",
            "{np.str_('000'): np.int64(20), np.str_('001'): np.int64(4), np.str_('010'): np.int64(6), np.str_('011'): np.int64(9), np.str_('100'): np.int64(109), np.str_('101'): np.int64(430), np.str_('110'): np.int64(405), np.str_('111'): np.int64(17)}\n",
            "{np.str_('000'): np.int64(25), np.str_('001'): np.int64(4), np.str_('010'): np.int64(6), np.str_('011'): np.int64(15), np.str_('100'): np.int64(126), np.str_('101'): np.int64(412), np.str_('110'): np.int64(404), np.str_('111'): np.int64(8)}\n",
            "{np.str_('000'): np.int64(19), np.str_('001'): np.int64(3), np.str_('010'): np.int64(2), np.str_('011'): np.int64(22), np.str_('100'): np.int64(109), np.str_('101'): np.int64(426), np.str_('110'): np.int64(415), np.str_('111'): np.int64(4)}\n",
            "{np.str_('000'): np.int64(24), np.str_('010'): np.int64(5), np.str_('011'): np.int64(20), np.str_('100'): np.int64(110), np.str_('101'): np.int64(407), np.str_('110'): np.int64(428), np.str_('111'): np.int64(6)}\n",
            "{np.str_('000'): np.int64(15), np.str_('001'): np.int64(2), np.str_('010'): np.int64(4), np.str_('011'): np.int64(28), np.str_('100'): np.int64(128), np.str_('101'): np.int64(448), np.str_('110'): np.int64(374), np.str_('111'): np.int64(1)}\n",
            "{np.str_('000'): np.int64(9), np.str_('001'): np.int64(1), np.str_('010'): np.int64(4), np.str_('011'): np.int64(15), np.str_('100'): np.int64(133), np.str_('101'): np.int64(438), np.str_('110'): np.int64(388), np.str_('111'): np.int64(12)}\n",
            "{np.str_('000'): np.int64(12), np.str_('001'): np.int64(1), np.str_('010'): np.int64(5), np.str_('011'): np.int64(9), np.str_('100'): np.int64(130), np.str_('101'): np.int64(423), np.str_('110'): np.int64(410), np.str_('111'): np.int64(10)}\n",
            "{np.str_('000'): np.int64(11), np.str_('001'): np.int64(4), np.str_('010'): np.int64(9), np.str_('011'): np.int64(17), np.str_('100'): np.int64(125), np.str_('101'): np.int64(440), np.str_('110'): np.int64(377), np.str_('111'): np.int64(17)}\n",
            "{np.str_('000'): np.int64(8), np.str_('001'): np.int64(1), np.str_('010'): np.int64(7), np.str_('011'): np.int64(27), np.str_('100'): np.int64(127), np.str_('101'): np.int64(409), np.str_('110'): np.int64(398), np.str_('111'): np.int64(23)}\n",
            "{np.str_('000'): np.int64(10), np.str_('001'): np.int64(3), np.str_('010'): np.int64(10), np.str_('011'): np.int64(13), np.str_('100'): np.int64(149), np.str_('101'): np.int64(418), np.str_('110'): np.int64(379), np.str_('111'): np.int64(18)}\n",
            "{np.str_('000'): np.int64(11), np.str_('001'): np.int64(3), np.str_('010'): np.int64(1), np.str_('011'): np.int64(20), np.str_('100'): np.int64(123), np.str_('101'): np.int64(398), np.str_('110'): np.int64(436), np.str_('111'): np.int64(8)}\n",
            "{np.str_('000'): np.int64(20), np.str_('001'): np.int64(3), np.str_('010'): np.int64(8), np.str_('011'): np.int64(14), np.str_('100'): np.int64(128), np.str_('101'): np.int64(404), np.str_('110'): np.int64(405), np.str_('111'): np.int64(18)}\n",
            "{np.str_('000'): np.int64(19), np.str_('001'): np.int64(2), np.str_('010'): np.int64(3), np.str_('011'): np.int64(9), np.str_('100'): np.int64(146), np.str_('101'): np.int64(389), np.str_('110'): np.int64(418), np.str_('111'): np.int64(14)}\n",
            "{np.str_('000'): np.int64(13), np.str_('001'): np.int64(5), np.str_('010'): np.int64(13), np.str_('011'): np.int64(13), np.str_('100'): np.int64(164), np.str_('101'): np.int64(371), np.str_('110'): np.int64(407), np.str_('111'): np.int64(14)}\n",
            "{np.str_('000'): np.int64(12), np.str_('001'): np.int64(3), np.str_('010'): np.int64(8), np.str_('011'): np.int64(24), np.str_('100'): np.int64(150), np.str_('101'): np.int64(358), np.str_('110'): np.int64(434), np.str_('111'): np.int64(11)}\n",
            "{np.str_('000'): np.int64(24), np.str_('001'): np.int64(3), np.str_('010'): np.int64(5), np.str_('011'): np.int64(6), np.str_('100'): np.int64(127), np.str_('101'): np.int64(404), np.str_('110'): np.int64(417), np.str_('111'): np.int64(14)}\n",
            "{np.str_('000'): np.int64(7), np.str_('001'): np.int64(10), np.str_('010'): np.int64(11), np.str_('011'): np.int64(24), np.str_('100'): np.int64(119), np.str_('101'): np.int64(381), np.str_('110'): np.int64(432), np.str_('111'): np.int64(16)}\n",
            "{np.str_('000'): np.int64(20), np.str_('010'): np.int64(4), np.str_('011'): np.int64(20), np.str_('100'): np.int64(125), np.str_('101'): np.int64(409), np.str_('110'): np.int64(410), np.str_('111'): np.int64(12)}\n",
            "{np.str_('000'): np.int64(12), np.str_('001'): np.int64(4), np.str_('010'): np.int64(8), np.str_('011'): np.int64(28), np.str_('100'): np.int64(148), np.str_('101'): np.int64(404), np.str_('110'): np.int64(389), np.str_('111'): np.int64(7)}\n",
            "{np.str_('000'): np.int64(25), np.str_('001'): np.int64(2), np.str_('010'): np.int64(10), np.str_('011'): np.int64(9), np.str_('100'): np.int64(132), np.str_('101'): np.int64(413), np.str_('110'): np.int64(396), np.str_('111'): np.int64(13)}\n",
            "{np.str_('000'): np.int64(12), np.str_('001'): np.int64(2), np.str_('010'): np.int64(8), np.str_('011'): np.int64(19), np.str_('100'): np.int64(140), np.str_('101'): np.int64(401), np.str_('110'): np.int64(399), np.str_('111'): np.int64(19)}\n",
            "{np.str_('000'): np.int64(9), np.str_('001'): np.int64(11), np.str_('010'): np.int64(4), np.str_('011'): np.int64(11), np.str_('100'): np.int64(126), np.str_('101'): np.int64(406), np.str_('110'): np.int64(419), np.str_('111'): np.int64(14)}\n",
            "{np.str_('000'): np.int64(17), np.str_('001'): np.int64(5), np.str_('010'): np.int64(10), np.str_('011'): np.int64(17), np.str_('100'): np.int64(136), np.str_('101'): np.int64(404), np.str_('110'): np.int64(398), np.str_('111'): np.int64(13)}\n",
            "{np.str_('000'): np.int64(26), np.str_('001'): np.int64(2), np.str_('010'): np.int64(8), np.str_('011'): np.int64(13), np.str_('100'): np.int64(127), np.str_('101'): np.int64(412), np.str_('110'): np.int64(401), np.str_('111'): np.int64(11)}\n",
            "{np.str_('000'): np.int64(24), np.str_('001'): np.int64(3), np.str_('010'): np.int64(7), np.str_('011'): np.int64(16), np.str_('100'): np.int64(132), np.str_('101'): np.int64(428), np.str_('110'): np.int64(373), np.str_('111'): np.int64(17)}\n",
            "{np.str_('000'): np.int64(14), np.str_('001'): np.int64(4), np.str_('010'): np.int64(9), np.str_('011'): np.int64(9), np.str_('100'): np.int64(146), np.str_('101'): np.int64(400), np.str_('110'): np.int64(406), np.str_('111'): np.int64(12)}\n",
            "{np.str_('000'): np.int64(21), np.str_('001'): np.int64(5), np.str_('010'): np.int64(15), np.str_('011'): np.int64(15), np.str_('100'): np.int64(143), np.str_('101'): np.int64(377), np.str_('110'): np.int64(411), np.str_('111'): np.int64(13)}\n",
            "{np.str_('000'): np.int64(20), np.str_('001'): np.int64(1), np.str_('010'): np.int64(3), np.str_('011'): np.int64(12), np.str_('100'): np.int64(123), np.str_('101'): np.int64(399), np.str_('110'): np.int64(428), np.str_('111'): np.int64(14)}\n",
            "{np.str_('000'): np.int64(14), np.str_('001'): np.int64(2), np.str_('010'): np.int64(5), np.str_('011'): np.int64(23), np.str_('100'): np.int64(127), np.str_('101'): np.int64(405), np.str_('110'): np.int64(412), np.str_('111'): np.int64(12)}\n",
            "{np.str_('000'): np.int64(10), np.str_('001'): np.int64(3), np.str_('010'): np.int64(7), np.str_('011'): np.int64(10), np.str_('100'): np.int64(148), np.str_('101'): np.int64(413), np.str_('110'): np.int64(400), np.str_('111'): np.int64(9)}\n",
            "{np.str_('000'): np.int64(8), np.str_('001'): np.int64(1), np.str_('010'): np.int64(13), np.str_('011'): np.int64(22), np.str_('100'): np.int64(143), np.str_('101'): np.int64(410), np.str_('110'): np.int64(387), np.str_('111'): np.int64(16)}\n",
            "{np.str_('000'): np.int64(12), np.str_('001'): np.int64(1), np.str_('010'): np.int64(7), np.str_('011'): np.int64(13), np.str_('100'): np.int64(149), np.str_('101'): np.int64(400), np.str_('110'): np.int64(404), np.str_('111'): np.int64(14)}\n",
            "{np.str_('000'): np.int64(17), np.str_('001'): np.int64(1), np.str_('010'): np.int64(2), np.str_('011'): np.int64(19), np.str_('100'): np.int64(147), np.str_('101'): np.int64(388), np.str_('110'): np.int64(408), np.str_('111'): np.int64(18)}\n",
            "{np.str_('000'): np.int64(23), np.str_('001'): np.int64(3), np.str_('010'): np.int64(5), np.str_('011'): np.int64(16), np.str_('100'): np.int64(137), np.str_('101'): np.int64(400), np.str_('110'): np.int64(407), np.str_('111'): np.int64(9)}\n",
            "{np.str_('000'): np.int64(11), np.str_('001'): np.int64(4), np.str_('010'): np.int64(8), np.str_('011'): np.int64(17), np.str_('100'): np.int64(130), np.str_('101'): np.int64(409), np.str_('110'): np.int64(409), np.str_('111'): np.int64(12)}\n",
            "{np.str_('000'): np.int64(15), np.str_('001'): np.int64(3), np.str_('010'): np.int64(5), np.str_('011'): np.int64(24), np.str_('100'): np.int64(133), np.str_('101'): np.int64(400), np.str_('110'): np.int64(407), np.str_('111'): np.int64(13)}\n",
            "{np.str_('000'): np.int64(13), np.str_('001'): np.int64(5), np.str_('010'): np.int64(14), np.str_('011'): np.int64(16), np.str_('100'): np.int64(128), np.str_('101'): np.int64(391), np.str_('110'): np.int64(416), np.str_('111'): np.int64(17)}\n",
            "{np.str_('000'): np.int64(10), np.str_('001'): np.int64(4), np.str_('010'): np.int64(9), np.str_('011'): np.int64(20), np.str_('100'): np.int64(124), np.str_('101'): np.int64(403), np.str_('110'): np.int64(420), np.str_('111'): np.int64(10)}\n",
            "{np.str_('000'): np.int64(12), np.str_('001'): np.int64(4), np.str_('010'): np.int64(8), np.str_('011'): np.int64(16), np.str_('100'): np.int64(124), np.str_('101'): np.int64(426), np.str_('110'): np.int64(395), np.str_('111'): np.int64(15)}\n",
            "{np.str_('000'): np.int64(19), np.str_('001'): np.int64(1), np.str_('010'): np.int64(7), np.str_('011'): np.int64(8), np.str_('100'): np.int64(145), np.str_('101'): np.int64(398), np.str_('110'): np.int64(404), np.str_('111'): np.int64(18)}\n",
            "{np.str_('000'): np.int64(17), np.str_('001'): np.int64(3), np.str_('010'): np.int64(6), np.str_('011'): np.int64(30), np.str_('100'): np.int64(151), np.str_('101'): np.int64(400), np.str_('110'): np.int64(373), np.str_('111'): np.int64(20)}\n",
            "{np.str_('000'): np.int64(22), np.str_('001'): np.int64(3), np.str_('010'): np.int64(10), np.str_('011'): np.int64(14), np.str_('100'): np.int64(136), np.str_('101'): np.int64(398), np.str_('110'): np.int64(404), np.str_('111'): np.int64(13)}\n",
            "{np.str_('000'): np.int64(16), np.str_('001'): np.int64(2), np.str_('010'): np.int64(5), np.str_('011'): np.int64(16), np.str_('100'): np.int64(152), np.str_('101'): np.int64(405), np.str_('110'): np.int64(396), np.str_('111'): np.int64(8)}\n",
            "{np.str_('000'): np.int64(19), np.str_('010'): np.int64(10), np.str_('011'): np.int64(18), np.str_('100'): np.int64(150), np.str_('101'): np.int64(401), np.str_('110'): np.int64(387), np.str_('111'): np.int64(15)}\n",
            "{np.str_('000'): np.int64(25), np.str_('001'): np.int64(1), np.str_('010'): np.int64(10), np.str_('011'): np.int64(13), np.str_('100'): np.int64(131), np.str_('101'): np.int64(412), np.str_('110'): np.int64(396), np.str_('111'): np.int64(12)}\n",
            "{np.str_('000'): np.int64(15), np.str_('001'): np.int64(5), np.str_('010'): np.int64(10), np.str_('011'): np.int64(11), np.str_('100'): np.int64(135), np.str_('101'): np.int64(409), np.str_('110'): np.int64(404), np.str_('111'): np.int64(11)}\n",
            "{np.str_('000'): np.int64(15), np.str_('001'): np.int64(5), np.str_('010'): np.int64(4), np.str_('011'): np.int64(22), np.str_('100'): np.int64(131), np.str_('101'): np.int64(399), np.str_('110'): np.int64(410), np.str_('111'): np.int64(14)}\n",
            "{np.str_('000'): np.int64(16), np.str_('001'): np.int64(1), np.str_('010'): np.int64(8), np.str_('011'): np.int64(16), np.str_('100'): np.int64(146), np.str_('101'): np.int64(384), np.str_('110'): np.int64(414), np.str_('111'): np.int64(15)}\n",
            "{np.str_('000'): np.int64(14), np.str_('010'): np.int64(10), np.str_('011'): np.int64(14), np.str_('100'): np.int64(132), np.str_('101'): np.int64(402), np.str_('110'): np.int64(416), np.str_('111'): np.int64(12)}\n",
            "{np.str_('000'): np.int64(21), np.str_('001'): np.int64(5), np.str_('010'): np.int64(4), np.str_('011'): np.int64(14), np.str_('100'): np.int64(134), np.str_('101'): np.int64(395), np.str_('110'): np.int64(410), np.str_('111'): np.int64(17)}\n",
            "{np.str_('000'): np.int64(21), np.str_('001'): np.int64(5), np.str_('010'): np.int64(4), np.str_('011'): np.int64(16), np.str_('100'): np.int64(126), np.str_('101'): np.int64(424), np.str_('110'): np.int64(387), np.str_('111'): np.int64(17)}\n",
            "{np.str_('000'): np.int64(13), np.str_('001'): np.int64(4), np.str_('010'): np.int64(6), np.str_('011'): np.int64(23), np.str_('100'): np.int64(143), np.str_('101'): np.int64(393), np.str_('110'): np.int64(394), np.str_('111'): np.int64(24)}\n",
            "{np.str_('000'): np.int64(18), np.str_('001'): np.int64(3), np.str_('010'): np.int64(10), np.str_('011'): np.int64(9), np.str_('100'): np.int64(141), np.str_('101'): np.int64(398), np.str_('110'): np.int64(408), np.str_('111'): np.int64(13)}\n",
            "{np.str_('000'): np.int64(14), np.str_('001'): np.int64(1), np.str_('010'): np.int64(6), np.str_('011'): np.int64(19), np.str_('100'): np.int64(134), np.str_('101'): np.int64(404), np.str_('110'): np.int64(406), np.str_('111'): np.int64(16)}\n",
            "{np.str_('000'): np.int64(29), np.str_('001'): np.int64(4), np.str_('010'): np.int64(4), np.str_('011'): np.int64(11), np.str_('100'): np.int64(133), np.str_('101'): np.int64(376), np.str_('110'): np.int64(429), np.str_('111'): np.int64(14)}\n",
            "{np.str_('000'): np.int64(20), np.str_('001'): np.int64(4), np.str_('010'): np.int64(5), np.str_('011'): np.int64(20), np.str_('100'): np.int64(124), np.str_('101'): np.int64(426), np.str_('110'): np.int64(387), np.str_('111'): np.int64(14)}\n",
            "{np.str_('000'): np.int64(13), np.str_('001'): np.int64(2), np.str_('010'): np.int64(6), np.str_('011'): np.int64(18), np.str_('100'): np.int64(122), np.str_('101'): np.int64(423), np.str_('110'): np.int64(404), np.str_('111'): np.int64(12)}\n",
            "{np.str_('000'): np.int64(23), np.str_('001'): np.int64(3), np.str_('010'): np.int64(4), np.str_('011'): np.int64(17), np.str_('100'): np.int64(142), np.str_('101'): np.int64(402), np.str_('110'): np.int64(395), np.str_('111'): np.int64(14)}\n",
            "{np.str_('000'): np.int64(18), np.str_('001'): np.int64(1), np.str_('010'): np.int64(10), np.str_('011'): np.int64(21), np.str_('100'): np.int64(135), np.str_('101'): np.int64(424), np.str_('110'): np.int64(379), np.str_('111'): np.int64(12)}\n",
            "{np.str_('000'): np.int64(26), np.str_('001'): np.int64(4), np.str_('010'): np.int64(12), np.str_('011'): np.int64(12), np.str_('100'): np.int64(140), np.str_('101'): np.int64(406), np.str_('110'): np.int64(388), np.str_('111'): np.int64(12)}\n",
            "{np.str_('000'): np.int64(16), np.str_('001'): np.int64(2), np.str_('010'): np.int64(5), np.str_('011'): np.int64(13), np.str_('100'): np.int64(131), np.str_('101'): np.int64(411), np.str_('110'): np.int64(409), np.str_('111'): np.int64(13)}\n",
            "{np.str_('000'): np.int64(13), np.str_('001'): np.int64(5), np.str_('010'): np.int64(9), np.str_('011'): np.int64(18), np.str_('100'): np.int64(111), np.str_('101'): np.int64(432), np.str_('110'): np.int64(398), np.str_('111'): np.int64(14)}\n",
            "{np.str_('000'): np.int64(15), np.str_('001'): np.int64(4), np.str_('010'): np.int64(8), np.str_('011'): np.int64(13), np.str_('100'): np.int64(144), np.str_('101'): np.int64(403), np.str_('110'): np.int64(398), np.str_('111'): np.int64(15)}\n",
            "{np.str_('000'): np.int64(14), np.str_('001'): np.int64(2), np.str_('010'): np.int64(12), np.str_('011'): np.int64(11), np.str_('100'): np.int64(127), np.str_('101'): np.int64(423), np.str_('110'): np.int64(392), np.str_('111'): np.int64(19)}\n",
            "{np.str_('000'): np.int64(18), np.str_('001'): np.int64(5), np.str_('010'): np.int64(7), np.str_('011'): np.int64(21), np.str_('100'): np.int64(140), np.str_('101'): np.int64(400), np.str_('110'): np.int64(388), np.str_('111'): np.int64(21)}\n",
            "{np.str_('000'): np.int64(18), np.str_('001'): np.int64(2), np.str_('010'): np.int64(9), np.str_('011'): np.int64(17), np.str_('100'): np.int64(130), np.str_('101'): np.int64(406), np.str_('110'): np.int64(400), np.str_('111'): np.int64(18)}\n",
            "{np.str_('000'): np.int64(22), np.str_('001'): np.int64(1), np.str_('010'): np.int64(6), np.str_('011'): np.int64(17), np.str_('100'): np.int64(140), np.str_('101'): np.int64(412), np.str_('110'): np.int64(383), np.str_('111'): np.int64(19)}\n",
            "{np.str_('000'): np.int64(17), np.str_('010'): np.int64(5), np.str_('011'): np.int64(24), np.str_('100'): np.int64(124), np.str_('101'): np.int64(389), np.str_('110'): np.int64(426), np.str_('111'): np.int64(15)}\n",
            "{np.str_('000'): np.int64(17), np.str_('010'): np.int64(7), np.str_('011'): np.int64(13), np.str_('100'): np.int64(132), np.str_('101'): np.int64(425), np.str_('110'): np.int64(382), np.str_('111'): np.int64(24)}\n",
            "{np.str_('000'): np.int64(10), np.str_('001'): np.int64(3), np.str_('010'): np.int64(9), np.str_('011'): np.int64(15), np.str_('100'): np.int64(136), np.str_('101'): np.int64(411), np.str_('110'): np.int64(394), np.str_('111'): np.int64(22)}\n",
            "{np.str_('000'): np.int64(18), np.str_('001'): np.int64(3), np.str_('010'): np.int64(6), np.str_('011'): np.int64(15), np.str_('100'): np.int64(114), np.str_('101'): np.int64(437), np.str_('110'): np.int64(389), np.str_('111'): np.int64(18)}\n",
            "{np.str_('000'): np.int64(13), np.str_('001'): np.int64(5), np.str_('010'): np.int64(11), np.str_('011'): np.int64(14), np.str_('100'): np.int64(114), np.str_('101'): np.int64(395), np.str_('110'): np.int64(430), np.str_('111'): np.int64(18)}\n",
            "{np.str_('000'): np.int64(11), np.str_('001'): np.int64(2), np.str_('010'): np.int64(11), np.str_('011'): np.int64(13), np.str_('100'): np.int64(135), np.str_('101'): np.int64(438), np.str_('110'): np.int64(370), np.str_('111'): np.int64(20)}\n",
            "{np.str_('000'): np.int64(19), np.str_('001'): np.int64(1), np.str_('010'): np.int64(5), np.str_('011'): np.int64(17), np.str_('100'): np.int64(136), np.str_('101'): np.int64(436), np.str_('110'): np.int64(367), np.str_('111'): np.int64(19)}\n",
            "{np.str_('000'): np.int64(11), np.str_('001'): np.int64(2), np.str_('010'): np.int64(10), np.str_('011'): np.int64(13), np.str_('100'): np.int64(135), np.str_('101'): np.int64(407), np.str_('110'): np.int64(407), np.str_('111'): np.int64(15)}\n",
            "{np.str_('000'): np.int64(17), np.str_('001'): np.int64(1), np.str_('010'): np.int64(8), np.str_('011'): np.int64(14), np.str_('100'): np.int64(134), np.str_('101'): np.int64(383), np.str_('110'): np.int64(429), np.str_('111'): np.int64(14)}\n",
            "{np.str_('000'): np.int64(18), np.str_('001'): np.int64(1), np.str_('010'): np.int64(9), np.str_('011'): np.int64(19), np.str_('100'): np.int64(142), np.str_('101'): np.int64(387), np.str_('110'): np.int64(413), np.str_('111'): np.int64(11)}\n",
            "{np.str_('000'): np.int64(22), np.str_('001'): np.int64(3), np.str_('010'): np.int64(8), np.str_('011'): np.int64(19), np.str_('100'): np.int64(126), np.str_('101'): np.int64(446), np.str_('110'): np.int64(364), np.str_('111'): np.int64(12)}\n",
            "{np.str_('000'): np.int64(17), np.str_('001'): np.int64(3), np.str_('010'): np.int64(9), np.str_('011'): np.int64(28), np.str_('100'): np.int64(127), np.str_('101'): np.int64(390), np.str_('110'): np.int64(405), np.str_('111'): np.int64(21)}\n",
            "{np.str_('000'): np.int64(17), np.str_('001'): np.int64(2), np.str_('010'): np.int64(10), np.str_('011'): np.int64(19), np.str_('100'): np.int64(134), np.str_('101'): np.int64(414), np.str_('110'): np.int64(386), np.str_('111'): np.int64(18)}\n",
            "{np.str_('000'): np.int64(14), np.str_('001'): np.int64(3), np.str_('010'): np.int64(6), np.str_('011'): np.int64(20), np.str_('100'): np.int64(126), np.str_('101'): np.int64(417), np.str_('110'): np.int64(403), np.str_('111'): np.int64(11)}\n",
            "{np.str_('000'): np.int64(15), np.str_('001'): np.int64(4), np.str_('010'): np.int64(6), np.str_('011'): np.int64(24), np.str_('100'): np.int64(156), np.str_('101'): np.int64(382), np.str_('110'): np.int64(399), np.str_('111'): np.int64(14)}\n",
            "{np.str_('000'): np.int64(20), np.str_('001'): np.int64(2), np.str_('010'): np.int64(7), np.str_('011'): np.int64(25), np.str_('100'): np.int64(141), np.str_('101'): np.int64(399), np.str_('110'): np.int64(386), np.str_('111'): np.int64(20)}\n",
            "{np.str_('000'): np.int64(8), np.str_('001'): np.int64(2), np.str_('010'): np.int64(10), np.str_('011'): np.int64(18), np.str_('100'): np.int64(138), np.str_('101'): np.int64(385), np.str_('110'): np.int64(424), np.str_('111'): np.int64(15)}\n",
            "{np.str_('000'): np.int64(19), np.str_('001'): np.int64(1), np.str_('010'): np.int64(6), np.str_('011'): np.int64(17), np.str_('100'): np.int64(126), np.str_('101'): np.int64(415), np.str_('110'): np.int64(409), np.str_('111'): np.int64(7)}\n",
            "{np.str_('000'): np.int64(18), np.str_('001'): np.int64(2), np.str_('010'): np.int64(11), np.str_('011'): np.int64(15), np.str_('100'): np.int64(143), np.str_('101'): np.int64(397), np.str_('110'): np.int64(403), np.str_('111'): np.int64(11)}\n",
            "{np.str_('000'): np.int64(17), np.str_('001'): np.int64(2), np.str_('010'): np.int64(8), np.str_('011'): np.int64(15), np.str_('100'): np.int64(132), np.str_('101'): np.int64(399), np.str_('110'): np.int64(410), np.str_('111'): np.int64(17)}\n",
            "{np.str_('000'): np.int64(14), np.str_('001'): np.int64(3), np.str_('010'): np.int64(7), np.str_('011'): np.int64(21), np.str_('100'): np.int64(126), np.str_('101'): np.int64(413), np.str_('110'): np.int64(404), np.str_('111'): np.int64(12)}\n",
            "{np.str_('000'): np.int64(18), np.str_('001'): np.int64(5), np.str_('010'): np.int64(9), np.str_('011'): np.int64(20), np.str_('100'): np.int64(143), np.str_('101'): np.int64(387), np.str_('110'): np.int64(406), np.str_('111'): np.int64(12)}\n",
            "{np.str_('000'): np.int64(18), np.str_('001'): np.int64(5), np.str_('010'): np.int64(8), np.str_('011'): np.int64(5), np.str_('100'): np.int64(135), np.str_('101'): np.int64(400), np.str_('110'): np.int64(416), np.str_('111'): np.int64(13)}\n",
            "{np.str_('000'): np.int64(12), np.str_('001'): np.int64(4), np.str_('010'): np.int64(4), np.str_('011'): np.int64(21), np.str_('100'): np.int64(126), np.str_('101'): np.int64(422), np.str_('110'): np.int64(397), np.str_('111'): np.int64(14)}\n",
            "{np.str_('000'): np.int64(12), np.str_('001'): np.int64(5), np.str_('010'): np.int64(10), np.str_('011'): np.int64(15), np.str_('100'): np.int64(136), np.str_('101'): np.int64(402), np.str_('110'): np.int64(405), np.str_('111'): np.int64(15)}\n",
            "{np.str_('000'): np.int64(14), np.str_('001'): np.int64(2), np.str_('010'): np.int64(4), np.str_('011'): np.int64(20), np.str_('100'): np.int64(140), np.str_('101'): np.int64(407), np.str_('110'): np.int64(397), np.str_('111'): np.int64(16)}\n",
            "{np.str_('000'): np.int64(18), np.str_('001'): np.int64(3), np.str_('010'): np.int64(14), np.str_('011'): np.int64(8), np.str_('100'): np.int64(143), np.str_('101'): np.int64(413), np.str_('110'): np.int64(391), np.str_('111'): np.int64(10)}\n",
            "{np.str_('000'): np.int64(15), np.str_('001'): np.int64(2), np.str_('010'): np.int64(4), np.str_('011'): np.int64(18), np.str_('100'): np.int64(136), np.str_('101'): np.int64(428), np.str_('110'): np.int64(382), np.str_('111'): np.int64(15)}\n",
            "{np.str_('000'): np.int64(14), np.str_('001'): np.int64(3), np.str_('010'): np.int64(7), np.str_('011'): np.int64(12), np.str_('100'): np.int64(142), np.str_('101'): np.int64(378), np.str_('110'): np.int64(430), np.str_('111'): np.int64(14)}\n",
            "{np.str_('000'): np.int64(14), np.str_('001'): np.int64(1), np.str_('010'): np.int64(14), np.str_('011'): np.int64(17), np.str_('100'): np.int64(135), np.str_('101'): np.int64(396), np.str_('110'): np.int64(405), np.str_('111'): np.int64(18)}\n",
            "{np.str_('000'): np.int64(21), np.str_('001'): np.int64(3), np.str_('010'): np.int64(7), np.str_('011'): np.int64(12), np.str_('100'): np.int64(127), np.str_('101'): np.int64(408), np.str_('110'): np.int64(407), np.str_('111'): np.int64(15)}\n",
            "{np.str_('000'): np.int64(13), np.str_('001'): np.int64(3), np.str_('010'): np.int64(6), np.str_('011'): np.int64(15), np.str_('100'): np.int64(147), np.str_('101'): np.int64(412), np.str_('110'): np.int64(394), np.str_('111'): np.int64(10)}\n",
            "{np.str_('000'): np.int64(13), np.str_('001'): np.int64(5), np.str_('010'): np.int64(3), np.str_('011'): np.int64(22), np.str_('100'): np.int64(132), np.str_('101'): np.int64(415), np.str_('110'): np.int64(392), np.str_('111'): np.int64(18)}\n",
            "{np.str_('000'): np.int64(12), np.str_('001'): np.int64(2), np.str_('010'): np.int64(12), np.str_('011'): np.int64(14), np.str_('100'): np.int64(121), np.str_('101'): np.int64(416), np.str_('110'): np.int64(407), np.str_('111'): np.int64(16)}\n",
            "{np.str_('000'): np.int64(19), np.str_('001'): np.int64(1), np.str_('010'): np.int64(1), np.str_('011'): np.int64(14), np.str_('100'): np.int64(151), np.str_('101'): np.int64(385), np.str_('110'): np.int64(416), np.str_('111'): np.int64(13)}\n",
            "{np.str_('000'): np.int64(13), np.str_('001'): np.int64(5), np.str_('010'): np.int64(6), np.str_('011'): np.int64(19), np.str_('100'): np.int64(126), np.str_('101'): np.int64(405), np.str_('110'): np.int64(415), np.str_('111'): np.int64(11)}\n",
            "{np.str_('000'): np.int64(11), np.str_('001'): np.int64(3), np.str_('010'): np.int64(16), np.str_('011'): np.int64(15), np.str_('100'): np.int64(131), np.str_('101'): np.int64(395), np.str_('110'): np.int64(413), np.str_('111'): np.int64(16)}\n",
            "{np.str_('000'): np.int64(18), np.str_('001'): np.int64(4), np.str_('010'): np.int64(8), np.str_('011'): np.int64(13), np.str_('100'): np.int64(127), np.str_('101'): np.int64(413), np.str_('110'): np.int64(401), np.str_('111'): np.int64(16)}\n",
            "{np.str_('000'): np.int64(17), np.str_('001'): np.int64(2), np.str_('010'): np.int64(8), np.str_('011'): np.int64(10), np.str_('100'): np.int64(135), np.str_('101'): np.int64(403), np.str_('110'): np.int64(408), np.str_('111'): np.int64(17)}\n",
            "{np.str_('000'): np.int64(15), np.str_('001'): np.int64(1), np.str_('010'): np.int64(10), np.str_('011'): np.int64(16), np.str_('100'): np.int64(124), np.str_('101'): np.int64(392), np.str_('110'): np.int64(421), np.str_('111'): np.int64(21)}\n"
          ]
        },
        {
          "output_type": "execute_result",
          "data": {
            "text/plain": [
              " message: Optimization terminated successfully.\n",
              " success: True\n",
              "  status: 1\n",
              "     fun: -1.1607005990364103\n",
              "       x: [ 7.984e-01  2.137e+00 ...  9.726e-01  4.057e+00]\n",
              "    nfev: 185\n",
              "   maxcv: 0.0"
            ]
          },
          "metadata": {},
          "execution_count": 30
        }
      ],
      "source": [
        "p = 10\n",
        "obj = get_black_box_objective(iou_matrix,p)\n",
        "init_point = np.array([0.81069872, 2.2067517 , 0.83830696, 2.15579759, 0.37060699, 2.42068091, 0.91069872, 1.2067517 , 0.88762696, 1.87679759, 0.9234699, 2.9864091, 0.5627165, 3.91827365, 0.672536, 1.9283765, 0.6351722, 1.92837364, 0.982736, 3.9182736  ])\n",
        "# init_point = np.array([0.81069872, 2.2067517 , 0.83830696, 2.15579759, 0.37060699, 2.42068091, 0.82730, 0.82736 ])\n",
        "\n",
        "res_sample = minimize(obj, init_point, method='COBYLA', options={'maxiter':5000, 'disp': True})\n",
        "res_sample"
      ]
    },
    {
      "cell_type": "markdown",
      "metadata": {
        "id": "0eBw2zyk2TjD"
      },
      "source": [
        "Below code computes random bounding box, and using NMS algorithm suppression takes place. Using same IOU and confidence score $H_C$ is computed to run on QAOA circuit. After optimization of QAOA macimum number of measurements shows final result using QAOA. You can see that detections using QAOA and NMS are some."
      ]
    },
    {
      "cell_type": "code",
      "execution_count": 33,
      "metadata": {
        "colab": {
          "base_uri": "https://localhost:8080/",
          "height": 1000
        },
        "id": "d0uEmdKi2MVs",
        "outputId": "4acea1fd-9c2f-46f3-b606-f3d4d8aad6df"
      },
      "outputs": [
        {
          "output_type": "display_data",
          "data": {
            "text/plain": [
              "<Figure size 1200x800 with 1 Axes>"
            ],
            "image/png": "[encoded data removed]"
          },
          "metadata": {}
        },
        {
          "output_type": "stream",
          "name": "stdout",
          "text": [
            "array([[-0.80232558,  0.32199268,  0.24930844],\n",
            "       [ 0.32199268, -1.        ,  0.67056885],\n",
            "       [ 0.24930844,  0.67056885, -0.68604651]])\n",
            "[[309, 141, 459, 291], [190, 150, 340, 300]]\n"
          ]
        },
        {
          "output_type": "display_data",
          "data": {
            "text/plain": [
              "<Figure size 1200x800 with 1 Axes>"
            ],
            "image/png": "[encoded data removed]"
          },
          "metadata": {}
        },
        {
          "output_type": "stream",
          "name": "stdout",
          "text": [
            "{np.str_('000'): np.int64(33), np.str_('001'): np.int64(385), np.str_('010'): np.int64(16), np.str_('011'): np.int64(34), np.str_('100'): np.int64(207), np.str_('101'): np.int64(46), np.str_('110'): np.int64(97), np.str_('111'): np.int64(182)}\n",
            "{np.str_('000'): np.int64(27), np.str_('001'): np.int64(220), np.str_('010'): np.int64(32), np.str_('011'): np.int64(223), np.str_('100'): np.int64(341), np.str_('101'): np.int64(68), np.str_('110'): np.int64(4), np.str_('111'): np.int64(85)}\n",
            "{np.str_('000'): np.int64(305), np.str_('001'): np.int64(57), np.str_('010'): np.int64(40), np.str_('011'): np.int64(238), np.str_('100'): np.int64(47), np.str_('101'): np.int64(40), np.str_('110'): np.int64(14), np.str_('111'): np.int64(259)}\n",
            "{np.str_('000'): np.int64(381), np.str_('001'): np.int64(39), np.str_('010'): np.int64(13), np.str_('011'): np.int64(124), np.str_('100'): np.int64(24), np.str_('101'): np.int64(17), np.str_('110'): np.int64(60), np.str_('111'): np.int64(342)}\n",
            "{np.str_('000'): np.int64(116), np.str_('001'): np.int64(271), np.str_('010'): np.int64(208), np.str_('011'): np.int64(29), np.str_('100'): np.int64(155), np.str_('101'): np.int64(21), np.str_('110'): np.int64(144), np.str_('111'): np.int64(56)}\n",
            "{np.str_('000'): np.int64(62), np.str_('001'): np.int64(108), np.str_('010'): np.int64(11), np.str_('011'): np.int64(231), np.str_('100'): np.int64(114), np.str_('101'): np.int64(35), np.str_('110'): np.int64(338), np.str_('111'): np.int64(101)}\n",
            "{np.str_('000'): np.int64(17), np.str_('001'): np.int64(140), np.str_('010'): np.int64(22), np.str_('011'): np.int64(199), np.str_('100'): np.int64(195), np.str_('101'): np.int64(10), np.str_('110'): np.int64(391), np.str_('111'): np.int64(26)}\n",
            "{np.str_('000'): np.int64(24), np.str_('001'): np.int64(255), np.str_('010'): np.int64(51), np.str_('011'): np.int64(146), np.str_('100'): np.int64(97), np.str_('101'): np.int64(234), np.str_('110'): np.int64(97), np.str_('111'): np.int64(96)}\n",
            "{np.str_('000'): np.int64(24), np.str_('001'): np.int64(298), np.str_('010'): np.int64(44), np.str_('011'): np.int64(148), np.str_('100'): np.int64(65), np.str_('101'): np.int64(190), np.str_('110'): np.int64(114), np.str_('111'): np.int64(117)}\n",
            "{np.str_('001'): np.int64(486), np.str_('010'): np.int64(13), np.str_('011'): np.int64(131), np.str_('100'): np.int64(11), np.str_('101'): np.int64(138), np.str_('110'): np.int64(145), np.str_('111'): np.int64(76)}\n",
            "{np.str_('000'): np.int64(159), np.str_('001'): np.int64(47), np.str_('010'): np.int64(158), np.str_('011'): np.int64(180), np.str_('100'): np.int64(272), np.str_('101'): np.int64(26), np.str_('110'): np.int64(5), np.str_('111'): np.int64(153)}\n",
            "{np.str_('000'): np.int64(31), np.str_('001'): np.int64(155), np.str_('010'): np.int64(7), np.str_('011'): np.int64(142), np.str_('100'): np.int64(252), np.str_('101'): np.int64(24), np.str_('110'): np.int64(291), np.str_('111'): np.int64(98)}\n",
            "{np.str_('000'): np.int64(50), np.str_('001'): np.int64(128), np.str_('010'): np.int64(49), np.str_('011'): np.int64(258), np.str_('100'): np.int64(75), np.str_('101'): np.int64(4), np.str_('110'): np.int64(350), np.str_('111'): np.int64(86)}\n",
            "{np.str_('000'): np.int64(16), np.str_('001'): np.int64(189), np.str_('010'): np.int64(35), np.str_('011'): np.int64(47), np.str_('100'): np.int64(264), np.str_('101'): np.int64(18), np.str_('110'): np.int64(406), np.str_('111'): np.int64(25)}\n",
            "{np.str_('000'): np.int64(14), np.str_('001'): np.int64(221), np.str_('010'): np.int64(30), np.str_('011'): np.int64(74), np.str_('100'): np.int64(150), np.str_('101'): np.int64(12), np.str_('110'): np.int64(467), np.str_('111'): np.int64(32)}\n",
            "{np.str_('000'): np.int64(9), np.str_('001'): np.int64(217), np.str_('010'): np.int64(35), np.str_('011'): np.int64(62), np.str_('100'): np.int64(170), np.str_('101'): np.int64(12), np.str_('110'): np.int64(472), np.str_('111'): np.int64(23)}\n",
            "{np.str_('000'): np.int64(21), np.str_('001'): np.int64(279), np.str_('010'): np.int64(32), np.str_('011'): np.int64(35), np.str_('100'): np.int64(128), np.str_('101'): np.int64(9), np.str_('110'): np.int64(479), np.str_('111'): np.int64(17)}\n",
            "{np.str_('000'): np.int64(37), np.str_('001'): np.int64(225), np.str_('010'): np.int64(31), np.str_('011'): np.int64(66), np.str_('100'): np.int64(133), np.str_('101'): np.int64(24), np.str_('110'): np.int64(459), np.str_('111'): np.int64(25)}\n",
            "{np.str_('000'): np.int64(48), np.str_('001'): np.int64(286), np.str_('010'): np.int64(85), np.str_('011'): np.int64(10), np.str_('100'): np.int64(78), np.str_('101'): np.int64(45), np.str_('110'): np.int64(426), np.str_('111'): np.int64(22)}\n",
            "{np.str_('000'): np.int64(19), np.str_('001'): np.int64(264), np.str_('010'): np.int64(71), np.str_('011'): np.int64(59), np.str_('100'): np.int64(54), np.str_('101'): np.int64(67), np.str_('110'): np.int64(383), np.str_('111'): np.int64(83)}\n",
            "{np.str_('000'): np.int64(6), np.str_('001'): np.int64(248), np.str_('010'): np.int64(59), np.str_('011'): np.int64(37), np.str_('100'): np.int64(203), np.str_('101'): np.int64(18), np.str_('110'): np.int64(397), np.str_('111'): np.int64(32)}\n",
            "{np.str_('000'): np.int64(67), np.str_('001'): np.int64(40), np.str_('010'): np.int64(37), np.str_('011'): np.int64(408), np.str_('100'): np.int64(246), np.str_('101'): np.int64(80), np.str_('110'): np.int64(22), np.str_('111'): np.int64(100)}\n",
            "{np.str_('000'): np.int64(34), np.str_('001'): np.int64(81), np.str_('010'): np.int64(18), np.str_('011'): np.int64(119), np.str_('100'): np.int64(424), np.str_('101'): np.int64(19), np.str_('110'): np.int64(204), np.str_('111'): np.int64(101)}\n",
            "{np.str_('000'): np.int64(20), np.str_('001'): np.int64(48), np.str_('010'): np.int64(7), np.str_('011'): np.int64(555), np.str_('100'): np.int64(38), np.str_('101'): np.int64(100), np.str_('110'): np.int64(9), np.str_('111'): np.int64(223)}\n",
            "{np.str_('000'): np.int64(51), np.str_('001'): np.int64(85), np.str_('010'): np.int64(98), np.str_('011'): np.int64(252), np.str_('100'): np.int64(281), np.str_('101'): np.int64(12), np.str_('110'): np.int64(156), np.str_('111'): np.int64(65)}\n",
            "{np.str_('000'): np.int64(148), np.str_('001'): np.int64(15), np.str_('010'): np.int64(13), np.str_('011'): np.int64(187), np.str_('100'): np.int64(24), np.str_('101'): np.int64(117), np.str_('110'): np.int64(3), np.str_('111'): np.int64(493)}\n",
            "{np.str_('000'): np.int64(193), np.str_('001'): np.int64(162), np.str_('010'): np.int64(30), np.str_('100'): np.int64(27), np.str_('101'): np.int64(7), np.str_('110'): np.int64(547), np.str_('111'): np.int64(34)}\n",
            "{np.str_('000'): np.int64(119), np.str_('001'): np.int64(197), np.str_('010'): np.int64(75), np.str_('011'): np.int64(172), np.str_('100'): np.int64(46), np.str_('101'): np.int64(102), np.str_('110'): np.int64(62), np.str_('111'): np.int64(227)}\n",
            "{np.str_('000'): np.int64(78), np.str_('001'): np.int64(135), np.str_('010'): np.int64(176), np.str_('011'): np.int64(23), np.str_('100'): np.int64(146), np.str_('101'): np.int64(244), np.str_('110'): np.int64(150), np.str_('111'): np.int64(48)}\n",
            "{np.str_('000'): np.int64(35), np.str_('001'): np.int64(182), np.str_('010'): np.int64(28), np.str_('011'): np.int64(165), np.str_('100'): np.int64(162), np.str_('101'): np.int64(71), np.str_('110'): np.int64(162), np.str_('111'): np.int64(195)}\n",
            "{np.str_('000'): np.int64(251), np.str_('001'): np.int64(145), np.str_('010'): np.int64(30), np.str_('011'): np.int64(56), np.str_('100'): np.int64(35), np.str_('101'): np.int64(10), np.str_('110'): np.int64(356), np.str_('111'): np.int64(117)}\n",
            "{np.str_('000'): np.int64(72), np.str_('001'): np.int64(221), np.str_('010'): np.int64(61), np.str_('011'): np.int64(28), np.str_('100'): np.int64(148), np.str_('101'): np.int64(16), np.str_('110'): np.int64(443), np.str_('111'): np.int64(11)}\n",
            "{np.str_('000'): np.int64(275), np.str_('001'): np.int64(200), np.str_('010'): np.int64(18), np.str_('011'): np.int64(121), np.str_('100'): np.int64(66), np.str_('101'): np.int64(23), np.str_('110'): np.int64(269), np.str_('111'): np.int64(28)}\n",
            "{np.str_('000'): np.int64(16), np.str_('001'): np.int64(267), np.str_('010'): np.int64(45), np.str_('011'): np.int64(41), np.str_('100'): np.int64(108), np.str_('101'): np.int64(5), np.str_('110'): np.int64(516), np.str_('111'): np.int64(2)}\n",
            "{np.str_('000'): np.int64(19), np.str_('001'): np.int64(234), np.str_('010'): np.int64(63), np.str_('011'): np.int64(55), np.str_('100'): np.int64(168), np.str_('101'): np.int64(19), np.str_('110'): np.int64(438), np.str_('111'): np.int64(4)}\n",
            "{np.str_('000'): np.int64(23), np.str_('001'): np.int64(255), np.str_('010'): np.int64(43), np.str_('011'): np.int64(35), np.str_('100'): np.int64(159), np.str_('101'): np.int64(6), np.str_('110'): np.int64(477), np.str_('111'): np.int64(2)}\n",
            "{np.str_('000'): np.int64(30), np.str_('001'): np.int64(283), np.str_('010'): np.int64(27), np.str_('011'): np.int64(53), np.str_('100'): np.int64(124), np.str_('101'): np.int64(84), np.str_('110'): np.int64(294), np.str_('111'): np.int64(105)}\n",
            "{np.str_('000'): np.int64(17), np.str_('001'): np.int64(273), np.str_('010'): np.int64(24), np.str_('011'): np.int64(60), np.str_('100'): np.int64(122), np.str_('101'): np.int64(9), np.str_('110'): np.int64(491), np.str_('111'): np.int64(4)}\n",
            "{np.str_('000'): np.int64(16), np.str_('001'): np.int64(275), np.str_('010'): np.int64(68), np.str_('011'): np.int64(24), np.str_('100'): np.int64(109), np.str_('101'): np.int64(23), np.str_('110'): np.int64(471), np.str_('111'): np.int64(14)}\n",
            "{np.str_('000'): np.int64(16), np.str_('001'): np.int64(239), np.str_('010'): np.int64(33), np.str_('011'): np.int64(40), np.str_('100'): np.int64(142), np.str_('101'): np.int64(8), np.str_('110'): np.int64(516), np.str_('111'): np.int64(6)}\n",
            "{np.str_('000'): np.int64(56), np.str_('001'): np.int64(178), np.str_('010'): np.int64(65), np.str_('011'): np.int64(49), np.str_('100'): np.int64(112), np.str_('101'): np.int64(24), np.str_('110'): np.int64(515), np.str_('111'): np.int64(1)}\n",
            "{np.str_('000'): np.int64(59), np.str_('001'): np.int64(331), np.str_('010'): np.int64(103), np.str_('011'): np.int64(11), np.str_('100'): np.int64(126), np.str_('101'): np.int64(11), np.str_('110'): np.int64(347), np.str_('111'): np.int64(12)}\n",
            "{np.str_('000'): np.int64(16), np.str_('001'): np.int64(273), np.str_('010'): np.int64(25), np.str_('011'): np.int64(44), np.str_('100'): np.int64(139), np.str_('101'): np.int64(13), np.str_('110'): np.int64(488), np.str_('111'): np.int64(2)}\n",
            "{np.str_('000'): np.int64(1), np.str_('001'): np.int64(161), np.str_('010'): np.int64(50), np.str_('011'): np.int64(180), np.str_('100'): np.int64(89), np.str_('101'): np.int64(30), np.str_('110'): np.int64(466), np.str_('111'): np.int64(23)}\n",
            "{np.str_('000'): np.int64(13), np.str_('001'): np.int64(302), np.str_('010'): np.int64(35), np.str_('011'): np.int64(53), np.str_('100'): np.int64(125), np.str_('101'): np.int64(8), np.str_('110'): np.int64(464)}\n",
            "{np.str_('000'): np.int64(30), np.str_('001'): np.int64(136), np.str_('010'): np.int64(42), np.str_('011'): np.int64(178), np.str_('100'): np.int64(179), np.str_('101'): np.int64(41), np.str_('110'): np.int64(373), np.str_('111'): np.int64(21)}\n",
            "{np.str_('000'): np.int64(12), np.str_('001'): np.int64(322), np.str_('010'): np.int64(29), np.str_('011'): np.int64(34), np.str_('100'): np.int64(120), np.str_('101'): np.int64(7), np.str_('110'): np.int64(471), np.str_('111'): np.int64(5)}\n",
            "{np.str_('000'): np.int64(25), np.str_('001'): np.int64(310), np.str_('010'): np.int64(13), np.str_('011'): np.int64(45), np.str_('100'): np.int64(54), np.str_('101'): np.int64(8), np.str_('110'): np.int64(535), np.str_('111'): np.int64(10)}\n",
            "{np.str_('000'): np.int64(37), np.str_('001'): np.int64(358), np.str_('010'): np.int64(28), np.str_('011'): np.int64(15), np.str_('100'): np.int64(47), np.str_('101'): np.int64(3), np.str_('110'): np.int64(504), np.str_('111'): np.int64(8)}\n",
            "{np.str_('000'): np.int64(71), np.str_('001'): np.int64(206), np.str_('010'): np.int64(5), np.str_('011'): np.int64(128), np.str_('100'): np.int64(132), np.str_('101'): np.int64(5), np.str_('110'): np.int64(400), np.str_('111'): np.int64(53)}\n",
            "{np.str_('000'): np.int64(27), np.str_('001'): np.int64(246), np.str_('010'): np.int64(29), np.str_('011'): np.int64(29), np.str_('100'): np.int64(210), np.str_('101'): np.int64(7), np.str_('110'): np.int64(440), np.str_('111'): np.int64(12)}\n",
            "{np.str_('000'): np.int64(11), np.str_('001'): np.int64(192), np.str_('010'): np.int64(51), np.str_('011'): np.int64(103), np.str_('100'): np.int64(224), np.str_('101'): np.int64(10), np.str_('110'): np.int64(392), np.str_('111'): np.int64(17)}\n",
            "{np.str_('000'): np.int64(18), np.str_('001'): np.int64(301), np.str_('010'): np.int64(8), np.str_('011'): np.int64(36), np.str_('100'): np.int64(78), np.str_('101'): np.int64(21), np.str_('110'): np.int64(531), np.str_('111'): np.int64(7)}\n",
            "{np.str_('000'): np.int64(116), np.str_('001'): np.int64(216), np.str_('010'): np.int64(24), np.str_('100'): np.int64(16), np.str_('101'): np.int64(46), np.str_('110'): np.int64(554), np.str_('111'): np.int64(28)}\n",
            "{np.str_('000'): np.int64(22), np.str_('001'): np.int64(328), np.str_('010'): np.int64(17), np.str_('011'): np.int64(24), np.str_('100'): np.int64(129), np.str_('101'): np.int64(11), np.str_('110'): np.int64(467), np.str_('111'): np.int64(2)}\n",
            "{np.str_('000'): np.int64(14), np.str_('001'): np.int64(274), np.str_('010'): np.int64(25), np.str_('011'): np.int64(38), np.str_('100'): np.int64(132), np.str_('101'): np.int64(10), np.str_('110'): np.int64(502), np.str_('111'): np.int64(5)}\n",
            "{np.str_('000'): np.int64(28), np.str_('001'): np.int64(252), np.str_('010'): np.int64(44), np.str_('011'): np.int64(12), np.str_('100'): np.int64(131), np.str_('101'): np.int64(15), np.str_('110'): np.int64(515), np.str_('111'): np.int64(3)}\n",
            "{np.str_('000'): np.int64(33), np.str_('001'): np.int64(255), np.str_('010'): np.int64(44), np.str_('011'): np.int64(27), np.str_('100'): np.int64(126), np.str_('101'): np.int64(9), np.str_('110'): np.int64(504), np.str_('111'): np.int64(2)}\n",
            "{np.str_('000'): np.int64(31), np.str_('001'): np.int64(253), np.str_('010'): np.int64(53), np.str_('011'): np.int64(28), np.str_('100'): np.int64(122), np.str_('101'): np.int64(19), np.str_('110'): np.int64(491), np.str_('111'): np.int64(3)}\n",
            "{np.str_('000'): np.int64(32), np.str_('001'): np.int64(269), np.str_('010'): np.int64(32), np.str_('011'): np.int64(35), np.str_('100'): np.int64(107), np.str_('101'): np.int64(13), np.str_('110'): np.int64(507), np.str_('111'): np.int64(5)}\n",
            "{np.str_('000'): np.int64(33), np.str_('001'): np.int64(220), np.str_('010'): np.int64(59), np.str_('011'): np.int64(83), np.str_('100'): np.int64(123), np.str_('101'): np.int64(16), np.str_('110'): np.int64(457), np.str_('111'): np.int64(9)}\n",
            "{np.str_('000'): np.int64(32), np.str_('001'): np.int64(279), np.str_('010'): np.int64(49), np.str_('011'): np.int64(10), np.str_('100'): np.int64(125), np.str_('101'): np.int64(7), np.str_('110'): np.int64(498)}\n",
            "{np.str_('000'): np.int64(49), np.str_('001'): np.int64(250), np.str_('010'): np.int64(58), np.str_('011'): np.int64(7), np.str_('100'): np.int64(167), np.str_('101'): np.int64(19), np.str_('110'): np.int64(445), np.str_('111'): np.int64(5)}\n",
            "{np.str_('000'): np.int64(33), np.str_('001'): np.int64(238), np.str_('010'): np.int64(39), np.str_('011'): np.int64(44), np.str_('100'): np.int64(159), np.str_('101'): np.int64(10), np.str_('110'): np.int64(474), np.str_('111'): np.int64(3)}\n",
            "{np.str_('000'): np.int64(65), np.str_('001'): np.int64(239), np.str_('010'): np.int64(46), np.str_('011'): np.int64(24), np.str_('100'): np.int64(44), np.str_('101'): np.int64(48), np.str_('110'): np.int64(531), np.str_('111'): np.int64(3)}\n",
            "{np.str_('000'): np.int64(34), np.str_('001'): np.int64(272), np.str_('010'): np.int64(39), np.str_('011'): np.int64(21), np.str_('100'): np.int64(145), np.str_('101'): np.int64(17), np.str_('110'): np.int64(472)}\n",
            "{np.str_('000'): np.int64(64), np.str_('001'): np.int64(225), np.str_('010'): np.int64(33), np.str_('011'): np.int64(15), np.str_('100'): np.int64(202), np.str_('101'): np.int64(24), np.str_('110'): np.int64(427), np.str_('111'): np.int64(10)}\n",
            "{np.str_('000'): np.int64(41), np.str_('001'): np.int64(276), np.str_('010'): np.int64(41), np.str_('011'): np.int64(26), np.str_('100'): np.int64(118), np.str_('101'): np.int64(14), np.str_('110'): np.int64(481), np.str_('111'): np.int64(3)}\n",
            "{np.str_('000'): np.int64(36), np.str_('001'): np.int64(285), np.str_('010'): np.int64(25), np.str_('011'): np.int64(14), np.str_('100'): np.int64(80), np.str_('101'): np.int64(21), np.str_('110'): np.int64(531), np.str_('111'): np.int64(8)}\n",
            "{np.str_('000'): np.int64(25), np.str_('001'): np.int64(242), np.str_('010'): np.int64(54), np.str_('011'): np.int64(30), np.str_('100'): np.int64(145), np.str_('101'): np.int64(5), np.str_('110'): np.int64(499)}\n",
            "{np.str_('000'): np.int64(44), np.str_('001'): np.int64(333), np.str_('010'): np.int64(41), np.str_('011'): np.int64(6), np.str_('100'): np.int64(56), np.str_('101'): np.int64(3), np.str_('110'): np.int64(508), np.str_('111'): np.int64(9)}\n",
            "{np.str_('000'): np.int64(34), np.str_('001'): np.int64(267), np.str_('010'): np.int64(41), np.str_('011'): np.int64(22), np.str_('100'): np.int64(135), np.str_('101'): np.int64(8), np.str_('110'): np.int64(490), np.str_('111'): np.int64(3)}\n",
            "{np.str_('000'): np.int64(35), np.str_('001'): np.int64(284), np.str_('010'): np.int64(30), np.str_('011'): np.int64(20), np.str_('100'): np.int64(133), np.str_('101'): np.int64(7), np.str_('110'): np.int64(484), np.str_('111'): np.int64(7)}\n",
            "{np.str_('000'): np.int64(33), np.str_('001'): np.int64(247), np.str_('010'): np.int64(55), np.str_('011'): np.int64(36), np.str_('100'): np.int64(131), np.str_('101'): np.int64(22), np.str_('110'): np.int64(470), np.str_('111'): np.int64(6)}\n",
            "{np.str_('000'): np.int64(25), np.str_('001'): np.int64(286), np.str_('010'): np.int64(46), np.str_('011'): np.int64(19), np.str_('100'): np.int64(132), np.str_('101'): np.int64(13), np.str_('110'): np.int64(476), np.str_('111'): np.int64(3)}\n",
            "{np.str_('000'): np.int64(23), np.str_('001'): np.int64(262), np.str_('010'): np.int64(30), np.str_('011'): np.int64(32), np.str_('100'): np.int64(115), np.str_('101'): np.int64(16), np.str_('110'): np.int64(520), np.str_('111'): np.int64(2)}\n",
            "{np.str_('000'): np.int64(34), np.str_('001'): np.int64(251), np.str_('010'): np.int64(42), np.str_('011'): np.int64(30), np.str_('100'): np.int64(141), np.str_('101'): np.int64(21), np.str_('110'): np.int64(478), np.str_('111'): np.int64(3)}\n",
            "{np.str_('000'): np.int64(38), np.str_('001'): np.int64(270), np.str_('010'): np.int64(31), np.str_('011'): np.int64(39), np.str_('100'): np.int64(136), np.str_('101'): np.int64(6), np.str_('110'): np.int64(478), np.str_('111'): np.int64(2)}\n",
            "{np.str_('000'): np.int64(26), np.str_('001'): np.int64(265), np.str_('010'): np.int64(43), np.str_('011'): np.int64(24), np.str_('100'): np.int64(122), np.str_('101'): np.int64(12), np.str_('110'): np.int64(502), np.str_('111'): np.int64(6)}\n",
            "{np.str_('000'): np.int64(37), np.str_('001'): np.int64(239), np.str_('010'): np.int64(41), np.str_('011'): np.int64(24), np.str_('100'): np.int64(131), np.str_('101'): np.int64(15), np.str_('110'): np.int64(510), np.str_('111'): np.int64(3)}\n",
            "{np.str_('000'): np.int64(24), np.str_('001'): np.int64(249), np.str_('010'): np.int64(43), np.str_('011'): np.int64(26), np.str_('100'): np.int64(108), np.str_('101'): np.int64(19), np.str_('110'): np.int64(530), np.str_('111'): np.int64(1)}\n",
            "{np.str_('000'): np.int64(26), np.str_('001'): np.int64(248), np.str_('010'): np.int64(37), np.str_('011'): np.int64(21), np.str_('100'): np.int64(130), np.str_('101'): np.int64(24), np.str_('110'): np.int64(510), np.str_('111'): np.int64(4)}\n",
            "{np.str_('000'): np.int64(25), np.str_('001'): np.int64(234), np.str_('010'): np.int64(52), np.str_('011'): np.int64(20), np.str_('100'): np.int64(136), np.str_('101'): np.int64(25), np.str_('110'): np.int64(505), np.str_('111'): np.int64(3)}\n",
            "{np.str_('000'): np.int64(35), np.str_('001'): np.int64(249), np.str_('010'): np.int64(47), np.str_('011'): np.int64(21), np.str_('100'): np.int64(123), np.str_('101'): np.int64(31), np.str_('110'): np.int64(490), np.str_('111'): np.int64(4)}\n",
            "{np.str_('000'): np.int64(42), np.str_('001'): np.int64(235), np.str_('010'): np.int64(51), np.str_('011'): np.int64(20), np.str_('100'): np.int64(97), np.str_('101'): np.int64(15), np.str_('110'): np.int64(539), np.str_('111'): np.int64(1)}\n",
            "{np.str_('000'): np.int64(40), np.str_('001'): np.int64(257), np.str_('010'): np.int64(51), np.str_('011'): np.int64(20), np.str_('100'): np.int64(107), np.str_('101'): np.int64(15), np.str_('110'): np.int64(505), np.str_('111'): np.int64(5)}\n",
            "{np.str_('000'): np.int64(26), np.str_('001'): np.int64(243), np.str_('010'): np.int64(41), np.str_('011'): np.int64(35), np.str_('100'): np.int64(91), np.str_('101'): np.int64(18), np.str_('110'): np.int64(545), np.str_('111'): np.int64(1)}\n",
            "{np.str_('000'): np.int64(31), np.str_('001'): np.int64(246), np.str_('010'): np.int64(46), np.str_('011'): np.int64(28), np.str_('100'): np.int64(118), np.str_('101'): np.int64(24), np.str_('110'): np.int64(507)}\n",
            "{np.str_('000'): np.int64(24), np.str_('001'): np.int64(252), np.str_('010'): np.int64(42), np.str_('011'): np.int64(37), np.str_('100'): np.int64(100), np.str_('101'): np.int64(18), np.str_('110'): np.int64(526), np.str_('111'): np.int64(1)}\n",
            "{np.str_('000'): np.int64(30), np.str_('001'): np.int64(247), np.str_('010'): np.int64(36), np.str_('011'): np.int64(20), np.str_('100'): np.int64(114), np.str_('101'): np.int64(15), np.str_('110'): np.int64(537), np.str_('111'): np.int64(1)}\n",
            "{np.str_('000'): np.int64(32), np.str_('001'): np.int64(255), np.str_('010'): np.int64(49), np.str_('011'): np.int64(18), np.str_('100'): np.int64(97), np.str_('101'): np.int64(19), np.str_('110'): np.int64(528), np.str_('111'): np.int64(2)}\n",
            "{np.str_('000'): np.int64(30), np.str_('001'): np.int64(257), np.str_('010'): np.int64(44), np.str_('011'): np.int64(19), np.str_('100'): np.int64(100), np.str_('101'): np.int64(11), np.str_('110'): np.int64(535), np.str_('111'): np.int64(4)}\n",
            "{np.str_('000'): np.int64(32), np.str_('001'): np.int64(243), np.str_('010'): np.int64(42), np.str_('011'): np.int64(32), np.str_('100'): np.int64(106), np.str_('101'): np.int64(21), np.str_('110'): np.int64(523), np.str_('111'): np.int64(1)}\n",
            "{np.str_('000'): np.int64(40), np.str_('001'): np.int64(258), np.str_('010'): np.int64(42), np.str_('011'): np.int64(28), np.str_('100'): np.int64(114), np.str_('101'): np.int64(19), np.str_('110'): np.int64(497), np.str_('111'): np.int64(2)}\n",
            "{np.str_('000'): np.int64(36), np.str_('001'): np.int64(248), np.str_('010'): np.int64(48), np.str_('011'): np.int64(19), np.str_('100'): np.int64(122), np.str_('101'): np.int64(19), np.str_('110'): np.int64(507), np.str_('111'): np.int64(1)}\n",
            "{np.str_('000'): np.int64(29), np.str_('001'): np.int64(255), np.str_('010'): np.int64(45), np.str_('011'): np.int64(24), np.str_('100'): np.int64(127), np.str_('101'): np.int64(17), np.str_('110'): np.int64(502), np.str_('111'): np.int64(1)}\n",
            "{np.str_('000'): np.int64(31), np.str_('001'): np.int64(256), np.str_('010'): np.int64(44), np.str_('011'): np.int64(24), np.str_('100'): np.int64(99), np.str_('101'): np.int64(26), np.str_('110'): np.int64(517), np.str_('111'): np.int64(3)}\n",
            "{np.str_('000'): np.int64(37), np.str_('001'): np.int64(237), np.str_('010'): np.int64(42), np.str_('011'): np.int64(23), np.str_('100'): np.int64(124), np.str_('101'): np.int64(19), np.str_('110'): np.int64(516), np.str_('111'): np.int64(2)}\n",
            "{np.str_('000'): np.int64(40), np.str_('001'): np.int64(227), np.str_('010'): np.int64(46), np.str_('011'): np.int64(33), np.str_('100'): np.int64(120), np.str_('101'): np.int64(25), np.str_('110'): np.int64(505), np.str_('111'): np.int64(4)}\n",
            "{np.str_('000'): np.int64(42), np.str_('001'): np.int64(223), np.str_('010'): np.int64(55), np.str_('011'): np.int64(21), np.str_('100'): np.int64(108), np.str_('101'): np.int64(19), np.str_('110'): np.int64(528), np.str_('111'): np.int64(4)}\n",
            "{np.str_('000'): np.int64(21), np.str_('001'): np.int64(260), np.str_('010'): np.int64(46), np.str_('011'): np.int64(27), np.str_('100'): np.int64(116), np.str_('101'): np.int64(23), np.str_('110'): np.int64(506), np.str_('111'): np.int64(1)}\n",
            "{np.str_('000'): np.int64(37), np.str_('001'): np.int64(234), np.str_('010'): np.int64(46), np.str_('011'): np.int64(24), np.str_('100'): np.int64(98), np.str_('101'): np.int64(20), np.str_('110'): np.int64(539), np.str_('111'): np.int64(2)}\n",
            "{np.str_('000'): np.int64(24), np.str_('001'): np.int64(245), np.str_('010'): np.int64(47), np.str_('011'): np.int64(16), np.str_('100'): np.int64(99), np.str_('101'): np.int64(13), np.str_('110'): np.int64(554), np.str_('111'): np.int64(2)}\n",
            "{np.str_('000'): np.int64(33), np.str_('001'): np.int64(271), np.str_('010'): np.int64(52), np.str_('011'): np.int64(26), np.str_('100'): np.int64(114), np.str_('101'): np.int64(22), np.str_('110'): np.int64(479), np.str_('111'): np.int64(3)}\n",
            "{np.str_('000'): np.int64(44), np.str_('001'): np.int64(262), np.str_('010'): np.int64(41), np.str_('011'): np.int64(20), np.str_('100'): np.int64(117), np.str_('101'): np.int64(19), np.str_('110'): np.int64(496), np.str_('111'): np.int64(1)}\n",
            "{np.str_('000'): np.int64(28), np.str_('001'): np.int64(244), np.str_('010'): np.int64(51), np.str_('011'): np.int64(28), np.str_('100'): np.int64(123), np.str_('101'): np.int64(25), np.str_('110'): np.int64(499), np.str_('111'): np.int64(2)}\n",
            "{np.str_('000'): np.int64(36), np.str_('001'): np.int64(274), np.str_('010'): np.int64(42), np.str_('011'): np.int64(18), np.str_('100'): np.int64(135), np.str_('101'): np.int64(16), np.str_('110'): np.int64(478), np.str_('111'): np.int64(1)}\n",
            "{np.str_('000'): np.int64(38), np.str_('001'): np.int64(260), np.str_('010'): np.int64(38), np.str_('011'): np.int64(21), np.str_('100'): np.int64(139), np.str_('101'): np.int64(17), np.str_('110'): np.int64(484), np.str_('111'): np.int64(3)}\n",
            "{np.str_('000'): np.int64(37), np.str_('001'): np.int64(251), np.str_('010'): np.int64(50), np.str_('011'): np.int64(16), np.str_('100'): np.int64(104), np.str_('101'): np.int64(21), np.str_('110'): np.int64(520), np.str_('111'): np.int64(1)}\n",
            "{np.str_('000'): np.int64(30), np.str_('001'): np.int64(242), np.str_('010'): np.int64(50), np.str_('011'): np.int64(26), np.str_('100'): np.int64(114), np.str_('101'): np.int64(22), np.str_('110'): np.int64(515), np.str_('111'): np.int64(1)}\n",
            "{np.str_('000'): np.int64(38), np.str_('001'): np.int64(248), np.str_('010'): np.int64(47), np.str_('011'): np.int64(21), np.str_('100'): np.int64(112), np.str_('101'): np.int64(18), np.str_('110'): np.int64(516)}\n",
            "{np.str_('000'): np.int64(26), np.str_('001'): np.int64(272), np.str_('010'): np.int64(38), np.str_('011'): np.int64(31), np.str_('100'): np.int64(94), np.str_('101'): np.int64(23), np.str_('110'): np.int64(513), np.str_('111'): np.int64(3)}\n",
            "{np.str_('000'): np.int64(45), np.str_('001'): np.int64(246), np.str_('010'): np.int64(44), np.str_('011'): np.int64(27), np.str_('100'): np.int64(103), np.str_('101'): np.int64(21), np.str_('110'): np.int64(508), np.str_('111'): np.int64(6)}\n",
            "{np.str_('000'): np.int64(44), np.str_('001'): np.int64(272), np.str_('010'): np.int64(50), np.str_('011'): np.int64(25), np.str_('100'): np.int64(123), np.str_('101'): np.int64(17), np.str_('110'): np.int64(467), np.str_('111'): np.int64(2)}\n",
            "{np.str_('000'): np.int64(33), np.str_('001'): np.int64(245), np.str_('010'): np.int64(58), np.str_('011'): np.int64(28), np.str_('100'): np.int64(126), np.str_('101'): np.int64(15), np.str_('110'): np.int64(495)}\n",
            "{np.str_('000'): np.int64(47), np.str_('001'): np.int64(234), np.str_('010'): np.int64(42), np.str_('011'): np.int64(28), np.str_('100'): np.int64(119), np.str_('101'): np.int64(18), np.str_('110'): np.int64(512)}\n",
            "{np.str_('000'): np.int64(23), np.str_('001'): np.int64(275), np.str_('010'): np.int64(43), np.str_('011'): np.int64(31), np.str_('100'): np.int64(117), np.str_('101'): np.int64(15), np.str_('110'): np.int64(495), np.str_('111'): np.int64(1)}\n",
            "{np.str_('000'): np.int64(33), np.str_('001'): np.int64(252), np.str_('010'): np.int64(41), np.str_('011'): np.int64(23), np.str_('100'): np.int64(126), np.str_('101'): np.int64(17), np.str_('110'): np.int64(505), np.str_('111'): np.int64(3)}\n",
            "{np.str_('000'): np.int64(31), np.str_('001'): np.int64(255), np.str_('010'): np.int64(44), np.str_('011'): np.int64(16), np.str_('100'): np.int64(121), np.str_('101'): np.int64(18), np.str_('110'): np.int64(514), np.str_('111'): np.int64(1)}\n",
            "{np.str_('000'): np.int64(37), np.str_('001'): np.int64(232), np.str_('010'): np.int64(46), np.str_('011'): np.int64(24), np.str_('100'): np.int64(107), np.str_('101'): np.int64(24), np.str_('110'): np.int64(530)}\n",
            "{np.str_('000'): np.int64(39), np.str_('001'): np.int64(235), np.str_('010'): np.int64(52), np.str_('011'): np.int64(22), np.str_('100'): np.int64(117), np.str_('101'): np.int64(17), np.str_('110'): np.int64(517), np.str_('111'): np.int64(1)}\n",
            "{np.str_('000'): np.int64(34), np.str_('001'): np.int64(250), np.str_('010'): np.int64(45), np.str_('011'): np.int64(21), np.str_('100'): np.int64(107), np.str_('101'): np.int64(21), np.str_('110'): np.int64(520), np.str_('111'): np.int64(2)}\n",
            "{np.str_('000'): np.int64(33), np.str_('001'): np.int64(256), np.str_('010'): np.int64(39), np.str_('011'): np.int64(27), np.str_('100'): np.int64(110), np.str_('101'): np.int64(18), np.str_('110'): np.int64(515), np.str_('111'): np.int64(2)}\n",
            "{np.str_('000'): np.int64(37), np.str_('001'): np.int64(237), np.str_('010'): np.int64(40), np.str_('011'): np.int64(32), np.str_('100'): np.int64(108), np.str_('101'): np.int64(16), np.str_('110'): np.int64(527), np.str_('111'): np.int64(3)}\n",
            "{np.str_('000'): np.int64(26), np.str_('001'): np.int64(240), np.str_('010'): np.int64(38), np.str_('011'): np.int64(25), np.str_('100'): np.int64(122), np.str_('101'): np.int64(18), np.str_('110'): np.int64(530), np.str_('111'): np.int64(1)}\n",
            "{np.str_('000'): np.int64(25), np.str_('001'): np.int64(296), np.str_('010'): np.int64(41), np.str_('011'): np.int64(28), np.str_('100'): np.int64(109), np.str_('101'): np.int64(16), np.str_('110'): np.int64(483), np.str_('111'): np.int64(2)}\n",
            "{np.str_('000'): np.int64(35), np.str_('001'): np.int64(253), np.str_('010'): np.int64(56), np.str_('011'): np.int64(24), np.str_('100'): np.int64(102), np.str_('101'): np.int64(11), np.str_('110'): np.int64(518), np.str_('111'): np.int64(1)}\n",
            "{np.str_('000'): np.int64(23), np.str_('001'): np.int64(250), np.str_('010'): np.int64(41), np.str_('011'): np.int64(29), np.str_('100'): np.int64(95), np.str_('101'): np.int64(17), np.str_('110'): np.int64(543), np.str_('111'): np.int64(2)}\n",
            "{np.str_('000'): np.int64(37), np.str_('001'): np.int64(242), np.str_('010'): np.int64(42), np.str_('011'): np.int64(28), np.str_('100'): np.int64(135), np.str_('101'): np.int64(18), np.str_('110'): np.int64(497), np.str_('111'): np.int64(1)}\n",
            "{np.str_('000'): np.int64(35), np.str_('001'): np.int64(237), np.str_('010'): np.int64(47), np.str_('011'): np.int64(31), np.str_('100'): np.int64(110), np.str_('101'): np.int64(17), np.str_('110'): np.int64(523)}\n",
            "{np.str_('000'): np.int64(26), np.str_('001'): np.int64(238), np.str_('010'): np.int64(51), np.str_('011'): np.int64(18), np.str_('100'): np.int64(123), np.str_('101'): np.int64(14), np.str_('110'): np.int64(527), np.str_('111'): np.int64(3)}\n",
            "{np.str_('000'): np.int64(34), np.str_('001'): np.int64(251), np.str_('010'): np.int64(46), np.str_('011'): np.int64(30), np.str_('100'): np.int64(122), np.str_('101'): np.int64(20), np.str_('110'): np.int64(497)}\n",
            "{np.str_('000'): np.int64(35), np.str_('001'): np.int64(248), np.str_('010'): np.int64(49), np.str_('011'): np.int64(23), np.str_('100'): np.int64(131), np.str_('101'): np.int64(17), np.str_('110'): np.int64(497)}\n",
            "{np.str_('000'): np.int64(27), np.str_('001'): np.int64(248), np.str_('010'): np.int64(47), np.str_('011'): np.int64(37), np.str_('100'): np.int64(108), np.str_('101'): np.int64(26), np.str_('110'): np.int64(507)}\n",
            "{np.str_('000'): np.int64(38), np.str_('001'): np.int64(250), np.str_('010'): np.int64(42), np.str_('011'): np.int64(28), np.str_('100'): np.int64(125), np.str_('101'): np.int64(11), np.str_('110'): np.int64(506)}\n",
            "{np.str_('000'): np.int64(34), np.str_('001'): np.int64(250), np.str_('010'): np.int64(46), np.str_('011'): np.int64(37), np.str_('100'): np.int64(94), np.str_('101'): np.int64(25), np.str_('110'): np.int64(512), np.str_('111'): np.int64(2)}\n",
            "{np.str_('000'): np.int64(41), np.str_('001'): np.int64(235), np.str_('010'): np.int64(51), np.str_('011'): np.int64(32), np.str_('100'): np.int64(107), np.str_('101'): np.int64(20), np.str_('110'): np.int64(514)}\n",
            "{np.str_('000'): np.int64(23), np.str_('001'): np.int64(258), np.str_('010'): np.int64(50), np.str_('011'): np.int64(22), np.str_('100'): np.int64(142), np.str_('101'): np.int64(14), np.str_('110'): np.int64(489), np.str_('111'): np.int64(2)}\n",
            "{np.str_('000'): np.int64(38), np.str_('001'): np.int64(241), np.str_('010'): np.int64(43), np.str_('011'): np.int64(25), np.str_('100'): np.int64(112), np.str_('101'): np.int64(16), np.str_('110'): np.int64(523), np.str_('111'): np.int64(2)}\n",
            "{np.str_('000'): np.int64(26), np.str_('001'): np.int64(249), np.str_('010'): np.int64(43), np.str_('011'): np.int64(28), np.str_('100'): np.int64(122), np.str_('101'): np.int64(18), np.str_('110'): np.int64(513), np.str_('111'): np.int64(1)}\n",
            "{np.str_('000'): np.int64(29), np.str_('001'): np.int64(249), np.str_('010'): np.int64(44), np.str_('011'): np.int64(18), np.str_('100'): np.int64(120), np.str_('101'): np.int64(11), np.str_('110'): np.int64(527), np.str_('111'): np.int64(2)}\n",
            "{np.str_('000'): np.int64(34), np.str_('001'): np.int64(238), np.str_('010'): np.int64(45), np.str_('011'): np.int64(24), np.str_('100'): np.int64(107), np.str_('101'): np.int64(28), np.str_('110'): np.int64(522), np.str_('111'): np.int64(2)}\n",
            "{np.str_('000'): np.int64(23), np.str_('001'): np.int64(244), np.str_('010'): np.int64(40), np.str_('011'): np.int64(29), np.str_('100'): np.int64(117), np.str_('101'): np.int64(23), np.str_('110'): np.int64(523), np.str_('111'): np.int64(1)}\n",
            "{np.str_('000'): np.int64(38), np.str_('001'): np.int64(244), np.str_('010'): np.int64(52), np.str_('011'): np.int64(35), np.str_('100'): np.int64(106), np.str_('101'): np.int64(14), np.str_('110'): np.int64(508), np.str_('111'): np.int64(3)}\n",
            "{np.str_('000'): np.int64(29), np.str_('001'): np.int64(266), np.str_('010'): np.int64(36), np.str_('011'): np.int64(31), np.str_('100'): np.int64(111), np.str_('101'): np.int64(14), np.str_('110'): np.int64(510), np.str_('111'): np.int64(3)}\n",
            "{np.str_('000'): np.int64(27), np.str_('001'): np.int64(252), np.str_('010'): np.int64(54), np.str_('011'): np.int64(28), np.str_('100'): np.int64(105), np.str_('101'): np.int64(12), np.str_('110'): np.int64(520), np.str_('111'): np.int64(2)}\n",
            "{np.str_('000'): np.int64(31), np.str_('001'): np.int64(259), np.str_('010'): np.int64(42), np.str_('011'): np.int64(23), np.str_('100'): np.int64(120), np.str_('101'): np.int64(20), np.str_('110'): np.int64(503), np.str_('111'): np.int64(2)}\n",
            "{np.str_('000'): np.int64(46), np.str_('001'): np.int64(247), np.str_('010'): np.int64(48), np.str_('011'): np.int64(34), np.str_('100'): np.int64(112), np.str_('101'): np.int64(15), np.str_('110'): np.int64(497), np.str_('111'): np.int64(1)}\n",
            "{np.str_('000'): np.int64(33), np.str_('001'): np.int64(226), np.str_('010'): np.int64(55), np.str_('011'): np.int64(25), np.str_('100'): np.int64(116), np.str_('101'): np.int64(15), np.str_('110'): np.int64(530)}\n",
            "{np.str_('000'): np.int64(32), np.str_('001'): np.int64(233), np.str_('010'): np.int64(55), np.str_('011'): np.int64(34), np.str_('100'): np.int64(109), np.str_('101'): np.int64(23), np.str_('110'): np.int64(512), np.str_('111'): np.int64(2)}\n",
            "{np.str_('000'): np.int64(28), np.str_('001'): np.int64(246), np.str_('010'): np.int64(50), np.str_('011'): np.int64(32), np.str_('100'): np.int64(119), np.str_('101'): np.int64(21), np.str_('110'): np.int64(502), np.str_('111'): np.int64(2)}\n",
            "{np.str_('000'): np.int64(29), np.str_('001'): np.int64(242), np.str_('010'): np.int64(40), np.str_('011'): np.int64(32), np.str_('100'): np.int64(103), np.str_('101'): np.int64(13), np.str_('110'): np.int64(539), np.str_('111'): np.int64(2)}\n",
            "{np.str_('000'): np.int64(41), np.str_('001'): np.int64(265), np.str_('010'): np.int64(31), np.str_('011'): np.int64(17), np.str_('100'): np.int64(92), np.str_('101'): np.int64(26), np.str_('110'): np.int64(528)}\n",
            "{np.str_('000'): np.int64(24), np.str_('001'): np.int64(277), np.str_('010'): np.int64(39), np.str_('011'): np.int64(23), np.str_('100'): np.int64(113), np.str_('101'): np.int64(17), np.str_('110'): np.int64(505), np.str_('111'): np.int64(2)}\n",
            "{np.str_('000'): np.int64(35), np.str_('001'): np.int64(222), np.str_('010'): np.int64(46), np.str_('011'): np.int64(23), np.str_('100'): np.int64(124), np.str_('101'): np.int64(28), np.str_('110'): np.int64(522)}\n",
            "{np.str_('000'): np.int64(33), np.str_('001'): np.int64(223), np.str_('010'): np.int64(61), np.str_('011'): np.int64(27), np.str_('100'): np.int64(102), np.str_('101'): np.int64(34), np.str_('110'): np.int64(516), np.str_('111'): np.int64(4)}\n",
            "{np.str_('000'): np.int64(34), np.str_('001'): np.int64(243), np.str_('010'): np.int64(63), np.str_('011'): np.int64(33), np.str_('100'): np.int64(112), np.str_('101'): np.int64(21), np.str_('110'): np.int64(491), np.str_('111'): np.int64(3)}\n",
            "{np.str_('000'): np.int64(37), np.str_('001'): np.int64(282), np.str_('010'): np.int64(42), np.str_('011'): np.int64(33), np.str_('100'): np.int64(119), np.str_('101'): np.int64(16), np.str_('110'): np.int64(470), np.str_('111'): np.int64(1)}\n",
            "{np.str_('000'): np.int64(33), np.str_('001'): np.int64(250), np.str_('010'): np.int64(44), np.str_('011'): np.int64(24), np.str_('100'): np.int64(109), np.str_('101'): np.int64(30), np.str_('110'): np.int64(508), np.str_('111'): np.int64(2)}\n",
            "{np.str_('000'): np.int64(30), np.str_('001'): np.int64(247), np.str_('010'): np.int64(48), np.str_('011'): np.int64(37), np.str_('100'): np.int64(114), np.str_('101'): np.int64(13), np.str_('110'): np.int64(511)}\n",
            "{np.str_('000'): np.int64(35), np.str_('001'): np.int64(242), np.str_('010'): np.int64(44), np.str_('011'): np.int64(34), np.str_('100'): np.int64(104), np.str_('101'): np.int64(19), np.str_('110'): np.int64(521), np.str_('111'): np.int64(1)}\n",
            "{np.str_('000'): np.int64(39), np.str_('001'): np.int64(260), np.str_('010'): np.int64(48), np.str_('011'): np.int64(25), np.str_('100'): np.int64(127), np.str_('101'): np.int64(21), np.str_('110'): np.int64(478), np.str_('111'): np.int64(2)}\n",
            "{np.str_('000'): np.int64(31), np.str_('001'): np.int64(278), np.str_('010'): np.int64(57), np.str_('011'): np.int64(24), np.str_('100'): np.int64(111), np.str_('101'): np.int64(20), np.str_('110'): np.int64(476), np.str_('111'): np.int64(3)}\n",
            "{np.str_('000'): np.int64(38), np.str_('001'): np.int64(267), np.str_('010'): np.int64(42), np.str_('011'): np.int64(25), np.str_('100'): np.int64(107), np.str_('101'): np.int64(24), np.str_('110'): np.int64(497)}\n",
            "{np.str_('000'): np.int64(31), np.str_('001'): np.int64(222), np.str_('010'): np.int64(42), np.str_('011'): np.int64(35), np.str_('100'): np.int64(119), np.str_('101'): np.int64(13), np.str_('110'): np.int64(537), np.str_('111'): np.int64(1)}\n",
            "{np.str_('000'): np.int64(42), np.str_('001'): np.int64(230), np.str_('010'): np.int64(55), np.str_('011'): np.int64(21), np.str_('100'): np.int64(119), np.str_('101'): np.int64(25), np.str_('110'): np.int64(507), np.str_('111'): np.int64(1)}\n",
            "{np.str_('000'): np.int64(34), np.str_('001'): np.int64(234), np.str_('010'): np.int64(44), np.str_('011'): np.int64(22), np.str_('100'): np.int64(104), np.str_('101'): np.int64(13), np.str_('110'): np.int64(547), np.str_('111'): np.int64(2)}\n",
            "{np.str_('000'): np.int64(47), np.str_('001'): np.int64(241), np.str_('010'): np.int64(58), np.str_('011'): np.int64(20), np.str_('100'): np.int64(110), np.str_('101'): np.int64(18), np.str_('110'): np.int64(501), np.str_('111'): np.int64(5)}\n",
            "{np.str_('000'): np.int64(35), np.str_('001'): np.int64(250), np.str_('010'): np.int64(49), np.str_('011'): np.int64(25), np.str_('100'): np.int64(103), np.str_('101'): np.int64(25), np.str_('110'): np.int64(513)}\n",
            "{np.str_('000'): np.int64(33), np.str_('001'): np.int64(256), np.str_('010'): np.int64(41), np.str_('011'): np.int64(23), np.str_('100'): np.int64(132), np.str_('101'): np.int64(22), np.str_('110'): np.int64(491), np.str_('111'): np.int64(2)}\n",
            "{np.str_('000'): np.int64(31), np.str_('001'): np.int64(228), np.str_('010'): np.int64(45), np.str_('011'): np.int64(25), np.str_('100'): np.int64(121), np.str_('101'): np.int64(24), np.str_('110'): np.int64(523), np.str_('111'): np.int64(3)}\n",
            "{np.str_('000'): np.int64(37), np.str_('001'): np.int64(244), np.str_('010'): np.int64(37), np.str_('011'): np.int64(22), np.str_('100'): np.int64(112), np.str_('101'): np.int64(24), np.str_('110'): np.int64(523), np.str_('111'): np.int64(1)}\n",
            "{np.str_('000'): np.int64(31), np.str_('001'): np.int64(258), np.str_('010'): np.int64(58), np.str_('011'): np.int64(17), np.str_('100'): np.int64(111), np.str_('101'): np.int64(22), np.str_('110'): np.int64(500), np.str_('111'): np.int64(3)}\n",
            "{np.str_('000'): np.int64(39), np.str_('001'): np.int64(261), np.str_('010'): np.int64(56), np.str_('011'): np.int64(36), np.str_('100'): np.int64(101), np.str_('101'): np.int64(17), np.str_('110'): np.int64(488), np.str_('111'): np.int64(2)}\n",
            "{np.str_('000'): np.int64(34), np.str_('001'): np.int64(233), np.str_('010'): np.int64(38), np.str_('011'): np.int64(36), np.str_('100'): np.int64(111), np.str_('101'): np.int64(15), np.str_('110'): np.int64(532), np.str_('111'): np.int64(1)}\n",
            "{np.str_('000'): np.int64(28), np.str_('001'): np.int64(263), np.str_('010'): np.int64(55), np.str_('011'): np.int64(29), np.str_('100'): np.int64(112), np.str_('101'): np.int64(26), np.str_('110'): np.int64(487)}\n",
            "{np.str_('000'): np.int64(41), np.str_('001'): np.int64(258), np.str_('010'): np.int64(40), np.str_('011'): np.int64(26), np.str_('100'): np.int64(100), np.str_('101'): np.int64(15), np.str_('110'): np.int64(519), np.str_('111'): np.int64(1)}\n",
            "{np.str_('000'): np.int64(48), np.str_('001'): np.int64(239), np.str_('010'): np.int64(32), np.str_('011'): np.int64(25), np.str_('100'): np.int64(110), np.str_('101'): np.int64(27), np.str_('110'): np.int64(519)}\n",
            "{np.str_('000'): np.int64(32), np.str_('001'): np.int64(245), np.str_('010'): np.int64(58), np.str_('011'): np.int64(21), np.str_('100'): np.int64(98), np.str_('101'): np.int64(22), np.str_('110'): np.int64(522), np.str_('111'): np.int64(2)}\n",
            "{np.str_('000'): np.int64(34), np.str_('001'): np.int64(251), np.str_('010'): np.int64(56), np.str_('011'): np.int64(30), np.str_('100'): np.int64(115), np.str_('101'): np.int64(17), np.str_('110'): np.int64(492), np.str_('111'): np.int64(5)}\n"
          ]
        },
        {
          "output_type": "execute_result",
          "data": {
            "text/plain": [
              " message: Optimization terminated successfully.\n",
              " success: True\n",
              "  status: 1\n",
              "     fun: -0.9175647692323998\n",
              "       x: [ 8.027e-01  2.220e+00 ...  9.879e-01  3.920e+00]\n",
              "    nfev: 180\n",
              "   maxcv: 0.0"
            ]
          },
          "metadata": {},
          "execution_count": 33
        }
      ],
      "source": [
        "bounding_boxes, confidence_score = compute_bounding_boxes(3, [150,150])\n",
        "drawing_bounding_boxes(bounding_boxes,confidence_score,\"Randomly generated bounding boxes.\")\n",
        "\n",
        "iou_matrix, interaction = compute_Q_matrix(bounding_boxes, confidence_score,4.87,3.24,1)\n",
        "iou_matrix = iou_matrix / np.max(np.abs(iou_matrix))\n",
        "iou_matrix = np.array(iou_matrix)\n",
        "\n",
        "pprint(iou_matrix)\n",
        "\n",
        "indices = cv2.dnn.NMSBoxes(bounding_boxes, confidence_score, score_threshold=0.5, nms_threshold=0.4)\n",
        "selected_boxes = [bounding_boxes[i] for i in indices.flatten()]\n",
        "print(selected_boxes)\n",
        "hel = len(selected_boxes)\n",
        "drawing_bounding_boxes(selected_boxes, selected_boxes[:hel], \"Bounding boxes generated using NMS.\")\n",
        "\n",
        "p = 10\n",
        "obj = get_black_box_objective(iou_matrix,p)\n",
        "init_point = np.array([0.81069872, 2.2067517 , 0.83830696, 2.15579759, 0.37060699, 2.42068091, 0.91069872, 1.2067517 , 0.88762696, 1.87679759, 0.9234699, 2.9864091, 0.5627165, 3.91827365, 0.672536, 1.9283765, 0.6351722, 1.92837364, 0.982736, 3.9182736  ])\n",
        "# init_point = np.array([0.81069872, 2.2067517 , 0.83830696, 2.15579759, 0.37060699, 2.42068091, 0.82730, 0.82736 ])\n",
        "\n",
        "res_sample = minimize(obj, init_point, method='COBYLA', options={'maxiter':5000, 'disp': True})\n",
        "res_sample"
      ]
    },
    {
      "cell_type": "code",
      "execution_count": 35,
      "metadata": {
        "colab": {
          "base_uri": "https://localhost:8080/",
          "height": 472
        },
        "id": "PnSL_12K2MTY",
        "outputId": "527b2422-241d-4e8d-cd81-87474404c2be"
      },
      "outputs": [
        {
          "output_type": "display_data",
          "data": {
            "text/plain": [
              "<Figure size 640x480 with 1 Axes>"
            ],
            "image/png": "[encoded data removed]"
          },
          "metadata": {}
        }
      ],
      "source": [
        "p_size = []\n",
        "eigen_value = []\n",
        "\n",
        "for i in range(1,15):\n",
        "  init_point = random_array = np.random.rand(2*i)\n",
        "  p_size.append(i)\n",
        "\n",
        "  obj = get_black_box_objective(iou_matrix,i)\n",
        "\n",
        "  res_sample = minimize(obj, init_point, method='COBYLA', options={'maxiter':5000, 'disp': True})\n",
        "  eigen_value.append(res_sample.fun)\n",
        "\n",
        "plt.plot(p_size, eigen_value)\n",
        "plt.xlabel('p')\n",
        "plt.ylabel('Eigen Value')\n",
        "plt.title('Eigen Value vs p')\n",
        "plt.show()\n",
        "  # res_sample"
      ]
    }
  ],
  "metadata": {
    "colab": {
      "provenance": []
    },
    "kernelspec": {
      "display_name": "Python 3",
      "name": "python3"
    },
    "language_info": {
      "name": "python"
    }
  },
  "nbformat": 4,
  "nbformat_minor": 0
}